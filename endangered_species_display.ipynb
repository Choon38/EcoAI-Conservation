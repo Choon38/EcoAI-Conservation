{
 "cells": [
  {
   "cell_type": "code",
   "execution_count": 1,
   "metadata": {
    "colab": {
     "base_uri": "https://localhost:8080/"
    },
    "id": "-THd20Tzk_sJ",
    "outputId": "d54b5916-c3e0-495d-f2da-46d2d3a0a6f1"
   },
   "outputs": [
    {
     "name": "stdout",
     "output_type": "stream",
     "text": [
      "   133722  \\\n",
      "0  157938   \n",
      "1  158019   \n",
      "2  158236   \n",
      "3  158275   \n",
      "4  162229   \n",
      "\n",
      "  Thomas, P., Nguyen, T.H., Phan, K.L. & Nguyen, Q.H. 2013. Calocedrus rupestris Aver., Hiep & L.K.Phan. The IUCN Red List of Threatened Species 2013: https://doi.org/10.2305/IUCN.UK.2013-1.RLTS.T133722A512509.en  \\\n",
      "0  Lansdown, R.V. 2018. Narthecium reverchonii Če...                                                                                                                                                                   \n",
      "1  Beentje, H.J., Gereau, R.E., Hilton-Taylor, C....                                                                                                                                                                   \n",
      "2  Contu, S. & IUCN SSC East African Plants Red L...                                                                                                                                                                   \n",
      "3  IUCN SSC East African Plants Red List Authorit...                                                                                                                                                                   \n",
      "4  Mifsud, S. 2018. Ophrys melitensis (Salkowski)...                                                                                                                                                                   \n",
      "\n",
      "   Unnamed: 2     Endangered  Unnamed: 4  Global  Present  \n",
      "0         NaN  Least Concern         NaN  Global  Present  \n",
      "1         NaN     Endangered         NaN  Global  Present  \n",
      "2         NaN  Least Concern         NaN  Global  Present  \n",
      "3         NaN  Least Concern         NaN  Global  Present  \n",
      "4         NaN  Least Concern         NaN  Global  Present  \n"
     ]
    }
   ],
   "source": [
    "import pandas as pd\n",
    "\n",
    "# Load distribution data\n",
    "distribution_df = pd.read_csv('distribution.txt', sep='\\t')  # Use '\\t' for tab-separated values\n",
    "print(distribution_df.head())"
   ]
  },
  {
   "cell_type": "code",
   "execution_count": 2,
   "metadata": {
    "colab": {
     "base_uri": "https://localhost:8080/"
    },
    "id": "L_areBC8r6s0",
    "outputId": "8e6c5c40-61a0-4a22-db7d-76a72ebf4fd7"
   },
   "outputs": [
    {
     "name": "stdout",
     "output_type": "stream",
     "text": [
      "{eml://ecoinformatics.org/eml-2.1.1}eml {'{http://www.w3.org/2001/XMLSchema-instance}schemaLocation': 'eml://ecoinformatics.org/eml-2.1.1 http://rs.gbif.org/schema/eml-gbif-profile/1.1/eml.xsd', 'packageId': '', 'system': 'http://gbif.org', 'scope': 'system', '{http://www.w3.org/XML/1998/namespace}lang': 'en'}\n"
     ]
    }
   ],
   "source": [
    "import xml.etree.ElementTree as ET\n",
    "\n",
    "# Load and parse the XML file\n",
    "tree = ET.parse('eml.xml')\n",
    "root = tree.getroot()\n",
    "\n",
    "# Print the root element and its attributes\n",
    "print(root.tag, root.attrib)"
   ]
  },
  {
   "cell_type": "code",
   "execution_count": 7,
   "metadata": {
    "colab": {
     "base_uri": "https://localhost:8080/"
    },
    "id": "95wrTcYRr8d6",
    "outputId": "5e904d94-825c-43e3-d978-d309bf3889bd"
   },
   "outputs": [
    {
     "name": "stdout",
     "output_type": "stream",
     "text": [
      "{http://rs.tdwg.org/dwc/text/}archive {'metadata': 'eml.xml'}\n"
     ]
    }
   ],
   "source": [
    "# Load and parse the Meta XML file\n",
    "meta_tree = ET.parse('meta.xml')\n",
    "meta_root = meta_tree.getroot()\n",
    "\n",
    "# Print the root element and its attributes\n",
    "print(meta_root.tag, meta_root.attrib)"
   ]
  },
  {
   "cell_type": "code",
   "execution_count": 8,
   "metadata": {
    "colab": {
     "base_uri": "https://localhost:8080/"
    },
    "id": "OjOlHq05r_Ry",
    "outputId": "75cfe1f7-e4a8-41e3-e515-b4d66afa67d5"
   },
   "outputs": [
    {
     "name": "stdout",
     "output_type": "stream",
     "text": [
      "     133722        Calocedrus rupestris Aver., Hiep & L.K.Phan  PLANTAE  \\\n",
      "0    157938                      Narthecium reverchonii Čelak.  PLANTAE   \n",
      "1    158019                            Asparagus humilis Engl.  PLANTAE   \n",
      "2    158236        Bulbostylis boeckleriana (Schweinf.) Beetle  PLANTAE   \n",
      "3  158236_1  Albigarrdia boeckleriana  (Schweinf.) K.Lye ss...  PLANTAE   \n",
      "4  158236_2  Albigarrdia boeckleriana (Schweinf.) K.Lye ssp...  PLANTAE   \n",
      "\n",
      "   TRACHEOPHYTA   PINOPSIDA       PINALES   CUPRESSACEAE   Calocedrus  \\\n",
      "0  TRACHEOPHYTA  LILIOPSIDA  DIOSCOREALES  NARTHECIACEAE   Narthecium   \n",
      "1  TRACHEOPHYTA  LILIOPSIDA   ASPARAGALES   ASPARAGACEAE    Asparagus   \n",
      "2  TRACHEOPHYTA  LILIOPSIDA        POALES     CYPERACEAE  Bulbostylis   \n",
      "3           NaN         NaN           NaN            NaN          NaN   \n",
      "4           NaN         NaN           NaN            NaN          NaN   \n",
      "\n",
      "      rupestris Aver., Hiep & L.K.Phan  species Unnamed: 11  accepted  \\\n",
      "0   reverchonii                 Čelak.  species         NaN  accepted   \n",
      "1       humilis                  Engl.  species         NaN  accepted   \n",
      "2  boeckleriana     (Schweinf.) Beetle  species         NaN  accepted   \n",
      "3           NaN      (Schweinf.) K.Lye      NaN         NaN   synonym   \n",
      "4           NaN      (Schweinf.) K.Lye      NaN         NaN   synonym   \n",
      "\n",
      "   133722.1  \\\n",
      "0    157938   \n",
      "1    158019   \n",
      "2    158236   \n",
      "3    158236   \n",
      "4    158236   \n",
      "\n",
      "  Thomas, P., Nguyen, T.H., Phan, K.L. & Nguyen, Q.H. 2013. Calocedrus rupestris Aver., Hiep & L.K.Phan. The IUCN Red List of Threatened Species 2013: https://doi.org/10.2305/IUCN.UK.2013-1.RLTS.T133722A512509.en  \\\n",
      "0  Lansdown, R.V. 2018. Narthecium reverchonii Če...                                                                                                                                                                   \n",
      "1  Beentje, H.J., Gereau, R.E., Hilton-Taylor, C....                                                                                                                                                                   \n",
      "2  Contu, S. & IUCN SSC East African Plants Red L...                                                                                                                                                                   \n",
      "3  Contu, S. & IUCN SSC East African Plants Red L...                                                                                                                                                                   \n",
      "4  Contu, S. & IUCN SSC East African Plants Red L...                                                                                                                                                                   \n",
      "\n",
      "  https://apiv3.iucnredlist.org/api/v3/taxonredirect/133722  \n",
      "0  https://apiv3.iucnredlist.org/api/v3/taxonredi...         \n",
      "1  https://apiv3.iucnredlist.org/api/v3/taxonredi...         \n",
      "2  https://apiv3.iucnredlist.org/api/v3/taxonredi...         \n",
      "3  https://apiv3.iucnredlist.org/api/v3/taxonredi...         \n",
      "4  https://apiv3.iucnredlist.org/api/v3/taxonredi...         \n"
     ]
    }
   ],
   "source": [
    "# Load taxon data\n",
    "taxon_df = pd.read_csv('taxon.txt', sep='\\t')\n",
    "print(taxon_df.head())"
   ]
  },
  {
   "cell_type": "code",
   "execution_count": 9,
   "metadata": {
    "colab": {
     "base_uri": "https://localhost:8080/"
    },
    "id": "QorJl5zvsChd",
    "outputId": "29181431-558c-4784-8742-716f79a069b9"
   },
   "outputs": [
    {
     "name": "stdout",
     "output_type": "stream",
     "text": [
      "   157938  fra  Narthécie de Reverchon   true\n",
      "0  157938  fra  Ossifrage de Reverchon  False\n",
      "1  162229  mlt            Brimba Sewda  False\n",
      "2  162229  eng    Maltse Spider Orchid   True\n",
      "3  163990  fra  Héléocharis des Marais  False\n",
      "4  163990  eng       Common Spike-rush   True\n"
     ]
    }
   ],
   "source": [
    "# Load vernacular names data\n",
    "vernacular_df = pd.read_csv('vernacularname.txt', sep='\\t')\n",
    "print(vernacular_df.head())"
   ]
  },
  {
   "cell_type": "code",
   "execution_count": 10,
   "metadata": {
    "colab": {
     "base_uri": "https://localhost:8080/"
    },
    "id": "Lrudo_iisxi8",
    "outputId": "41284246-33da-425a-f60a-0afb096d6361"
   },
   "outputs": [
    {
     "name": "stdout",
     "output_type": "stream",
     "text": [
      "          133722  \\\n",
      "1         158019   \n",
      "13        164279   \n",
      "19        165121   \n",
      "21        165452   \n",
      "23        165455   \n",
      "...          ...   \n",
      "150479  22703786   \n",
      "150480  22704493   \n",
      "150482  22704441   \n",
      "150484  22719011   \n",
      "150487  22714282   \n",
      "\n",
      "       Thomas, P., Nguyen, T.H., Phan, K.L. & Nguyen, Q.H. 2013. Calocedrus rupestris Aver., Hiep & L.K.Phan. The IUCN Red List of Threatened Species 2013: https://doi.org/10.2305/IUCN.UK.2013-1.RLTS.T133722A512509.en  \\\n",
      "1       Beentje, H.J., Gereau, R.E., Hilton-Taylor, C....                                                                                                                                                                   \n",
      "13      Rankou, H. 2018. Juncus tingitanus Maire & Wei...                                                                                                                                                                   \n",
      "19      Christenhusz, M., Bento Elias, R., Dyer, R., I...                                                                                                                                                                   \n",
      "21      Peraza Zurita, M.D. & Sapir, Y. 2017. Crypsis ...                                                                                                                                                                   \n",
      "23      Fragman-Sapir, O. 2017. Bellevalia warburgii F...                                                                                                                                                                   \n",
      "...                                                   ...                                                                                                                                                                   \n",
      "150479  BirdLife International 2022. Amytornis dorothe...                                                                                                                                                                   \n",
      "150480  BirdLife International 2022. Pardalotus quadra...                                                                                                                                                                   \n",
      "150482  BirdLife International 2022. Manorina melanoti...                                                                                                                                                                   \n",
      "150484  BirdLife International 2021. Ploceus megarhync...                                                                                                                                                                   \n",
      "150487  BirdLife International 2020. Cleptornis marche...                                                                                                                                                                   \n",
      "\n",
      "        Unnamed: 2  Endangered  Unnamed: 4  Global  Present  \n",
      "1              NaN  Endangered         NaN  Global  Present  \n",
      "13             NaN  Endangered         NaN  Global  Present  \n",
      "19             NaN  Vulnerable         NaN  Global  Present  \n",
      "21             NaN  Endangered         NaN  Global  Present  \n",
      "23             NaN  Endangered         NaN  Global  Present  \n",
      "...            ...         ...         ...     ...      ...  \n",
      "150479         NaN  Vulnerable         NaN  Global  Present  \n",
      "150480         NaN  Endangered         NaN  Global  Present  \n",
      "150482         NaN  Endangered         NaN  Global  Present  \n",
      "150484         NaN  Endangered         NaN  Global  Present  \n",
      "150487         NaN  Endangered         NaN  Global  Present  \n",
      "\n",
      "[33636 rows x 7 columns]\n"
     ]
    }
   ],
   "source": [
    "# Filter for endangered species\n",
    "endangered_species = distribution_df[distribution_df['Endangered'].isin(['Endangered', 'Vulnerable'])]\n",
    "print(endangered_species)"
   ]
  },
  {
   "cell_type": "code",
   "execution_count": null,
   "metadata": {
    "colab": {
     "base_uri": "https://localhost:8080/"
    },
    "id": "zbnjl2_ys5wy",
    "outputId": "ce4640e3-0313-431a-bc1f-2d7f824edaf4"
   },
   "outputs": [
    {
     "name": "stdout",
     "output_type": "stream",
     "text": [
      "Endangered\n",
      "Vulnerable    16997\n",
      "Endangered    16639\n",
      "Name: count, dtype: int64\n"
     ]
    }
   ],
   "source": [
    "# Count the number of endangered and vulnerable species\n",
    "status_counts = endangered_species['Endangered'].value_counts()\n",
    "print(status_counts)"
   ]
  },
  {
   "cell_type": "code",
   "execution_count": null,
   "metadata": {
    "colab": {
     "base_uri": "https://localhost:8080/",
     "height": 431
    },
    "id": "g1wT_JmEs-sc",
    "outputId": "65d17f25-811c-44c5-eee5-340991caf852"
   },
   "outputs": [
    {
     "data": {
      "image/png": "[encoded data removed]",
      "text/plain": [
       "<Figure size 800x500 with 1 Axes>"
      ]
     },
     "metadata": {},
     "output_type": "display_data"
    }
   ],
   "source": [
    "import matplotlib.pyplot as plt\n",
    "import seaborn as sns\n",
    "\n",
    "# Create a DataFrame for visualization\n",
    "status_counts = pd.Series({'Vulnerable': 16997, 'Endangered': 16639})\n",
    "\n",
    "# Create a bar plot\n",
    "plt.figure(figsize=(8, 5))\n",
    "sns.barplot(x=status_counts.index, y=status_counts.values)\n",
    "plt.title('Count of Endangered and Vulnerable Species')\n",
    "plt.xlabel('Conservation Status')\n",
    "plt.ylabel('Count')\n",
    "plt.show()"
   ]
  },
  {
   "cell_type": "code",
   "execution_count": null,
   "metadata": {
    "colab": {
     "base_uri": "https://localhost:8080/"
    },
    "id": "PJjxtMAgtDpl",
    "outputId": "aad976b9-da1d-47e7-8dff-88423b7920ce"
   },
   "outputs": [
    {
     "name": "stdout",
     "output_type": "stream",
     "text": [
      "Index(['133722',\n",
      "       'Thomas, P., Nguyen, T.H., Phan, K.L. & Nguyen, Q.H. 2013. Calocedrus rupestris Aver., Hiep & L.K.Phan. The IUCN Red List of Threatened Species 2013: https://doi.org/10.2305/IUCN.UK.2013-1.RLTS.T133722A512509.en',\n",
      "       'Unnamed: 2', 'Endangered', 'Unnamed: 4', 'Global', 'Present'],\n",
      "      dtype='object')\n"
     ]
    }
   ],
   "source": [
    "print(endangered_species.columns)"
   ]
  },
  {
   "cell_type": "code",
   "execution_count": null,
   "metadata": {
    "colab": {
     "base_uri": "https://localhost:8080/"
    },
    "id": "YhM_R-Eet5Sy",
    "outputId": "8573452d-4199-4291-bc08-48756becf3c0"
   },
   "outputs": [
    {
     "name": "stdout",
     "output_type": "stream",
     "text": [
      "Index(['133722', 'Calocedrus rupestris Aver., Hiep & L.K.Phan', 'PLANTAE',\n",
      "       'TRACHEOPHYTA', 'PINOPSIDA', 'PINALES', 'CUPRESSACEAE', 'Calocedrus',\n",
      "       'rupestris', 'Aver., Hiep & L.K.Phan', 'species', 'Unnamed: 11',\n",
      "       'accepted', '133722.1',\n",
      "       'Thomas, P., Nguyen, T.H., Phan, K.L. & Nguyen, Q.H. 2013. Calocedrus rupestris Aver., Hiep & L.K.Phan. The IUCN Red List of Threatened Species 2013: https://doi.org/10.2305/IUCN.UK.2013-1.RLTS.T133722A512509.en',\n",
      "       'https://apiv3.iucnredlist.org/api/v3/taxonredirect/133722'],\n",
      "      dtype='object')\n"
     ]
    }
   ],
   "source": [
    "print(taxon_df.columns)"
   ]
  },
  {
   "cell_type": "code",
   "execution_count": null,
   "metadata": {
    "colab": {
     "base_uri": "https://localhost:8080/"
    },
    "id": "FnV_xtYXuMjH",
    "outputId": "530b5093-15c0-461f-d9a3-ceb082ea3e2f"
   },
   "outputs": [
    {
     "name": "stdout",
     "output_type": "stream",
     "text": [
      "Index(['speciesID',\n",
      "       'Thomas, P., Nguyen, T.H., Phan, K.L. & Nguyen, Q.H. 2013. Calocedrus rupestris Aver., Hiep & L.K.Phan. The IUCN Red List of Threatened Species 2013: https://doi.org/10.2305/IUCN.UK.2013-1.RLTS.T133722A512509.en',\n",
      "       'Unnamed: 2', 'Endangered', 'Unnamed: 4', 'Global', 'Present'],\n",
      "      dtype='object')\n",
      "Index(['speciesID', 'Calocedrus rupestris Aver., Hiep & L.K.Phan', 'PLANTAE',\n",
      "       'TRACHEOPHYTA', 'PINOPSIDA', 'PINALES', 'CUPRESSACEAE', 'Calocedrus',\n",
      "       'rupestris', 'Aver., Hiep & L.K.Phan', 'species', 'Unnamed: 11',\n",
      "       'accepted', '133722.1',\n",
      "       'Thomas, P., Nguyen, T.H., Phan, K.L. & Nguyen, Q.H. 2013. Calocedrus rupestris Aver., Hiep & L.K.Phan. The IUCN Red List of Threatened Species 2013: https://doi.org/10.2305/IUCN.UK.2013-1.RLTS.T133722A512509.en',\n",
      "       'https://apiv3.iucnredlist.org/api/v3/taxonredirect/133722'],\n",
      "      dtype='object')\n"
     ]
    },
    {
     "name": "stderr",
     "output_type": "stream",
     "text": [
      "<ipython-input-11-e3cda3e65965>:2: SettingWithCopyWarning: \n",
      "A value is trying to be set on a copy of a slice from a DataFrame\n",
      "\n",
      "See the caveats in the documentation: https://pandas.pydata.org/pandas-docs/stable/user_guide/indexing.html#returning-a-view-versus-a-copy\n",
      "  endangered_species.rename(columns={endangered_species.columns[0]: 'speciesID'}, inplace=True)\n"
     ]
    }
   ],
   "source": [
    "# Rename the first column in endangered_species\n",
    "endangered_species.rename(columns={endangered_species.columns[0]: 'speciesID'}, inplace=True)\n",
    "\n",
    "# Rename the first column in taxon_df\n",
    "taxon_df.rename(columns={taxon_df.columns[0]: 'speciesID'}, inplace=True)\n",
    "\n",
    "# Verify the new column names\n",
    "print(endangered_species.columns)\n",
    "print(taxon_df.columns)"
   ]
  },
  {
   "cell_type": "code",
   "execution_count": null,
   "metadata": {
    "colab": {
     "base_uri": "https://localhost:8080/"
    },
    "id": "bVa7_e_6uSTb",
    "outputId": "46e160e3-bdab-4471-85e9-e68356dd9e54"
   },
   "outputs": [
    {
     "name": "stdout",
     "output_type": "stream",
     "text": [
      "object\n",
      "object\n"
     ]
    }
   ],
   "source": [
    "# Create a copy of the DataFrame if not done already\n",
    "endangered_species_copy = taxon_df.copy()\n",
    "\n",
    "# Check the data types of 'speciesID'\n",
    "print(endangered_species_copy['speciesID'].dtype)\n",
    "print(taxon_df['speciesID'].dtype)\n"
   ]
  },
  {
   "cell_type": "code",
   "execution_count": null,
   "metadata": {
    "colab": {
     "base_uri": "https://localhost:8080/"
    },
    "id": "IDmIy5PzufT6",
    "outputId": "47af5f31-934a-43be-821d-3c755041a0e5"
   },
   "outputs": [
    {
     "name": "stdout",
     "output_type": "stream",
     "text": [
      "Endangered Species ID Data Type: object\n",
      "Taxon Data ID Data Type: object\n"
     ]
    }
   ],
   "source": [
    "# Check the data type of speciesID in endangered_species_copy\n",
    "print(\"Endangered Species ID Data Type:\", endangered_species_copy['speciesID'].dtype)\n",
    "\n",
    "# Check the data type of speciesID in taxon_df\n",
    "print(\"Taxon Data ID Data Type:\", taxon_df['speciesID'].dtype)"
   ]
  },
  {
   "cell_type": "code",
   "execution_count": null,
   "metadata": {
    "colab": {
     "base_uri": "https://localhost:8080/"
    },
    "id": "rt4lH4wguldl",
    "outputId": "c83af180-bf60-4bf0-aaff-b7ba6a7e442d"
   },
   "outputs": [
    {
     "name": "stdout",
     "output_type": "stream",
     "text": [
      "Updated Endangered Species ID Data Type: object\n"
     ]
    }
   ],
   "source": [
    "# Convert speciesID in endangered_species_copy to string\n",
    "endangered_species_copy['speciesID'] = endangered_species_copy['speciesID'].astype(str)\n",
    "\n",
    "# Verify the change\n",
    "print(\"Updated Endangered Species ID Data Type:\", endangered_species_copy['speciesID'].dtype)"
   ]
  },
  {
   "cell_type": "code",
   "execution_count": null,
   "metadata": {
    "colab": {
     "base_uri": "https://localhost:8080/"
    },
    "id": "_v0ZgdGbuq22",
    "outputId": "f083f039-8f68-48c7-c3ae-dbf5053610ef"
   },
   "outputs": [
    {
     "name": "stdout",
     "output_type": "stream",
     "text": [
      "Index(['speciesID', 'language', 'common_name', 'is_accepted'], dtype='object')\n"
     ]
    }
   ],
   "source": [
    "print(vernacular_df.columns)"
   ]
  },
  {
   "cell_type": "code",
   "execution_count": null,
   "metadata": {
    "colab": {
     "base_uri": "https://localhost:8080/"
    },
    "id": "rdwh_moluwkb",
    "outputId": "e0ae96be-6ecb-470f-a74f-54c75e256e46"
   },
   "outputs": [
    {
     "name": "stdout",
     "output_type": "stream",
     "text": [
      "Index(['speciesID', 'language', 'common_name', 'is_accepted'], dtype='object')\n"
     ]
    }
   ],
   "source": [
    "print(vernacular_df.columns)"
   ]
  },
  {
   "cell_type": "code",
   "execution_count": null,
   "metadata": {
    "colab": {
     "base_uri": "https://localhost:8080/"
    },
    "id": "rzxfx9scu9hZ",
    "outputId": "12d116cd-b177-49c3-ced6-05e6fb2bb853"
   },
   "outputs": [
    {
     "name": "stdout",
     "output_type": "stream",
     "text": [
      "Index(['speciesID', 'language', 'common_name', 'is_accepted'], dtype='object')\n"
     ]
    }
   ],
   "source": [
    "# Rename columns for clarity\n",
    "vernacular_df.columns = ['speciesID', 'language', 'common_name', 'is_accepted']\n",
    "\n",
    "# Verify the new column names\n",
    "print(vernacular_df.columns)"
   ]
  },
  {
   "cell_type": "code",
   "execution_count": null,
   "metadata": {
    "id": "kd4qlNbEvCAm"
   },
   "outputs": [],
   "source": [
    "merged_data = pd.merge(taxon_df, vernacular_df, on='speciesID', how='inner')  # Adjust 'how' based on your need\n"
   ]
  },
  {
   "cell_type": "code",
   "execution_count": null,
   "metadata": {
    "id": "yW4WcaYa7Rtn"
   },
   "outputs": [],
   "source": [
    "merged_data['speciesID'] = merged_data['speciesID'].astype(str)\n",
    "vernacular_df['speciesID'] = vernacular_df['speciesID'].astype(str)\n"
   ]
  },
  {
   "cell_type": "code",
   "execution_count": null,
   "metadata": {
    "id": "ENA-I5Wf7UDE"
   },
   "outputs": [],
   "source": [
    "# Merging two DataFrames on 'speciesID'\n",
    "merged_data = pd.merge(taxon_df, vernacular_df, on='speciesID', how='inner')\n",
    "\n",
    "# Convert speciesID in both DataFrames to a consistent type (e.g., string)\n",
    "merged_data['speciesID'] = merged_data['speciesID'].astype(str)\n",
    "vernacular_df['speciesID'] = vernacular_df['speciesID'].astype(str)\n"
   ]
  },
  {
   "cell_type": "code",
   "execution_count": null,
   "metadata": {
    "colab": {
     "base_uri": "https://localhost:8080/"
    },
    "id": "ehlANs5avLvM",
    "outputId": "0a60427f-6ede-4b8b-f530-9afa6df1afc3"
   },
   "outputs": [
    {
     "name": "stdout",
     "output_type": "stream",
     "text": [
      "Updated Vernacular Data speciesID Data Type: object\n"
     ]
    }
   ],
   "source": [
    "# Convert speciesID in vernacular_df to string\n",
    "vernacular_df['speciesID'] = vernacular_df['speciesID'].astype(str)\n",
    "\n",
    "# Verify the change\n",
    "print(\"Updated Vernacular Data speciesID Data Type:\", vernacular_df['speciesID'].dtype)"
   ]
  },
  {
   "cell_type": "code",
   "execution_count": null,
   "metadata": {
    "colab": {
     "base_uri": "https://localhost:8080/"
    },
    "id": "r_YHKEifvM9L",
    "outputId": "e6ee0d42-306d-476b-f90d-6a7ce1fc5db8"
   },
   "outputs": [
    {
     "name": "stdout",
     "output_type": "stream",
     "text": [
      "  speciesID        Calocedrus rupestris Aver., Hiep & L.K.Phan  PLANTAE  \\\n",
      "0    157938                      Narthecium reverchonii Čelak.  PLANTAE   \n",
      "1    162229  Ophrys melitensis (Salkowski) J et P Devillers...  PLANTAE   \n",
      "2    162229  Ophrys melitensis (Salkowski) J et P Devillers...  PLANTAE   \n",
      "3    162229  Ophrys melitensis (Salkowski) J et P Devillers...  PLANTAE   \n",
      "4    162229  Ophrys melitensis (Salkowski) J et P Devillers...  PLANTAE   \n",
      "\n",
      "   TRACHEOPHYTA   PINOPSIDA       PINALES   CUPRESSACEAE  Calocedrus  \\\n",
      "0  TRACHEOPHYTA  LILIOPSIDA  DIOSCOREALES  NARTHECIACEAE  Narthecium   \n",
      "1  TRACHEOPHYTA  LILIOPSIDA   ASPARAGALES    ORCHIDACEAE      Ophrys   \n",
      "2  TRACHEOPHYTA  LILIOPSIDA   ASPARAGALES    ORCHIDACEAE      Ophrys   \n",
      "3  TRACHEOPHYTA  LILIOPSIDA   ASPARAGALES    ORCHIDACEAE      Ophrys   \n",
      "4  TRACHEOPHYTA  LILIOPSIDA   ASPARAGALES    ORCHIDACEAE      Ophrys   \n",
      "\n",
      "     rupestris                   Aver., Hiep & L.K.Phan  ...  accepted  \\\n",
      "0  reverchonii                                   Čelak.  ...  accepted   \n",
      "1   melitensis  (Salkowski) J et P Devillers-Terschuren  ...  accepted   \n",
      "2   melitensis  (Salkowski) J et P Devillers-Terschuren  ...  accepted   \n",
      "3   melitensis  (Salkowski) J et P Devillers-Terschuren  ...  accepted   \n",
      "4   melitensis  (Salkowski) J et P Devillers-Terschuren  ...  accepted   \n",
      "\n",
      "  133722.1  \\\n",
      "0   157938   \n",
      "1   162229   \n",
      "2   162229   \n",
      "3   162229   \n",
      "4   162229   \n",
      "\n",
      "  Thomas, P., Nguyen, T.H., Phan, K.L. & Nguyen, Q.H. 2013. Calocedrus rupestris Aver., Hiep & L.K.Phan. The IUCN Red List of Threatened Species 2013: https://doi.org/10.2305/IUCN.UK.2013-1.RLTS.T133722A512509.en  \\\n",
      "0  Lansdown, R.V. 2018. Narthecium reverchonii Če...                                                                                                                                                                   \n",
      "1  Mifsud, S. 2018. Ophrys melitensis (Salkowski)...                                                                                                                                                                   \n",
      "2  Mifsud, S. 2018. Ophrys melitensis (Salkowski)...                                                                                                                                                                   \n",
      "3  Mifsud, S. 2018. Ophrys melitensis (Salkowski)...                                                                                                                                                                   \n",
      "4  Mifsud, S. 2018. Ophrys melitensis (Salkowski)...                                                                                                                                                                   \n",
      "\n",
      "   https://apiv3.iucnredlist.org/api/v3/taxonredirect/133722 language_x  \\\n",
      "0  https://apiv3.iucnredlist.org/api/v3/taxonredi...                fra   \n",
      "1  https://apiv3.iucnredlist.org/api/v3/taxonredi...                mlt   \n",
      "2  https://apiv3.iucnredlist.org/api/v3/taxonredi...                mlt   \n",
      "3  https://apiv3.iucnredlist.org/api/v3/taxonredi...                eng   \n",
      "4  https://apiv3.iucnredlist.org/api/v3/taxonredi...                eng   \n",
      "\n",
      "            common_name_x is_accepted_x language_y           common_name_y  \\\n",
      "0  Ossifrage de Reverchon         False        fra  Ossifrage de Reverchon   \n",
      "1            Brimba Sewda         False        mlt            Brimba Sewda   \n",
      "2            Brimba Sewda         False        eng    Maltse Spider Orchid   \n",
      "3    Maltse Spider Orchid          True        mlt            Brimba Sewda   \n",
      "4    Maltse Spider Orchid          True        eng    Maltse Spider Orchid   \n",
      "\n",
      "  is_accepted_y  \n",
      "0         False  \n",
      "1         False  \n",
      "2          True  \n",
      "3         False  \n",
      "4          True  \n",
      "\n",
      "[5 rows x 22 columns]\n"
     ]
    }
   ],
   "source": [
    "# Merge with merged_data using the 'speciesID' column\n",
    "final_data = pd.merge(merged_data, vernacular_df, on='speciesID', how='left')\n",
    "\n",
    "# Display the final merged data to confirm\n",
    "print(final_data.head())"
   ]
  },
  {
   "cell_type": "code",
   "execution_count": null,
   "metadata": {
    "colab": {
     "base_uri": "https://localhost:8080/"
    },
    "id": "VYgiSNW7v_T7",
    "outputId": "4c8e3f81-aff6-43b9-a010-de2be61b77df"
   },
   "outputs": [
    {
     "name": "stdout",
     "output_type": "stream",
     "text": [
      "  speciesID        Calocedrus rupestris Aver., Hiep & L.K.Phan  PLANTAE  \\\n",
      "0    157938                      Narthecium reverchonii Čelak.  PLANTAE   \n",
      "1    162229  Ophrys melitensis (Salkowski) J et P Devillers...  PLANTAE   \n",
      "2    162229  Ophrys melitensis (Salkowski) J et P Devillers...  PLANTAE   \n",
      "3    162229  Ophrys melitensis (Salkowski) J et P Devillers...  PLANTAE   \n",
      "4    162229  Ophrys melitensis (Salkowski) J et P Devillers...  PLANTAE   \n",
      "\n",
      "   TRACHEOPHYTA   PINOPSIDA       PINALES   CUPRESSACEAE  Calocedrus  \\\n",
      "0  TRACHEOPHYTA  LILIOPSIDA  DIOSCOREALES  NARTHECIACEAE  Narthecium   \n",
      "1  TRACHEOPHYTA  LILIOPSIDA   ASPARAGALES    ORCHIDACEAE      Ophrys   \n",
      "2  TRACHEOPHYTA  LILIOPSIDA   ASPARAGALES    ORCHIDACEAE      Ophrys   \n",
      "3  TRACHEOPHYTA  LILIOPSIDA   ASPARAGALES    ORCHIDACEAE      Ophrys   \n",
      "4  TRACHEOPHYTA  LILIOPSIDA   ASPARAGALES    ORCHIDACEAE      Ophrys   \n",
      "\n",
      "     rupestris                   Aver., Hiep & L.K.Phan  ...  accepted  \\\n",
      "0  reverchonii                                   Čelak.  ...  accepted   \n",
      "1   melitensis  (Salkowski) J et P Devillers-Terschuren  ...  accepted   \n",
      "2   melitensis  (Salkowski) J et P Devillers-Terschuren  ...  accepted   \n",
      "3   melitensis  (Salkowski) J et P Devillers-Terschuren  ...  accepted   \n",
      "4   melitensis  (Salkowski) J et P Devillers-Terschuren  ...  accepted   \n",
      "\n",
      "  133722.1  \\\n",
      "0   157938   \n",
      "1   162229   \n",
      "2   162229   \n",
      "3   162229   \n",
      "4   162229   \n",
      "\n",
      "  Thomas, P., Nguyen, T.H., Phan, K.L. & Nguyen, Q.H. 2013. Calocedrus rupestris Aver., Hiep & L.K.Phan. The IUCN Red List of Threatened Species 2013: https://doi.org/10.2305/IUCN.UK.2013-1.RLTS.T133722A512509.en  \\\n",
      "0  Lansdown, R.V. 2018. Narthecium reverchonii Če...                                                                                                                                                                   \n",
      "1  Mifsud, S. 2018. Ophrys melitensis (Salkowski)...                                                                                                                                                                   \n",
      "2  Mifsud, S. 2018. Ophrys melitensis (Salkowski)...                                                                                                                                                                   \n",
      "3  Mifsud, S. 2018. Ophrys melitensis (Salkowski)...                                                                                                                                                                   \n",
      "4  Mifsud, S. 2018. Ophrys melitensis (Salkowski)...                                                                                                                                                                   \n",
      "\n",
      "   https://apiv3.iucnredlist.org/api/v3/taxonredirect/133722 language_x  \\\n",
      "0  https://apiv3.iucnredlist.org/api/v3/taxonredi...                fra   \n",
      "1  https://apiv3.iucnredlist.org/api/v3/taxonredi...                mlt   \n",
      "2  https://apiv3.iucnredlist.org/api/v3/taxonredi...                mlt   \n",
      "3  https://apiv3.iucnredlist.org/api/v3/taxonredi...                eng   \n",
      "4  https://apiv3.iucnredlist.org/api/v3/taxonredi...                eng   \n",
      "\n",
      "            common_name_x is_accepted_x language_y           common_name_y  \\\n",
      "0  Ossifrage de Reverchon         False        fra  Ossifrage de Reverchon   \n",
      "1            Brimba Sewda         False        mlt            Brimba Sewda   \n",
      "2            Brimba Sewda         False        eng    Maltse Spider Orchid   \n",
      "3    Maltse Spider Orchid          True        mlt            Brimba Sewda   \n",
      "4    Maltse Spider Orchid          True        eng    Maltse Spider Orchid   \n",
      "\n",
      "  is_accepted_y  \n",
      "0         False  \n",
      "1         False  \n",
      "2          True  \n",
      "3         False  \n",
      "4          True  \n",
      "\n",
      "[5 rows x 22 columns]\n",
      "<class 'pandas.core.frame.DataFrame'>\n",
      "RangeIndex: 1130384 entries, 0 to 1130383\n",
      "Data columns (total 22 columns):\n",
      " #   Column                                                                                                                                                                                                              Non-Null Count    Dtype \n",
      "---  ------                                                                                                                                                                                                              --------------    ----- \n",
      " 0   speciesID                                                                                                                                                                                                           1130384 non-null  object\n",
      " 1   Calocedrus rupestris Aver., Hiep & L.K.Phan                                                                                                                                                                         1130384 non-null  object\n",
      " 2   PLANTAE                                                                                                                                                                                                             1130384 non-null  object\n",
      " 3   TRACHEOPHYTA                                                                                                                                                                                                        1130384 non-null  object\n",
      " 4   PINOPSIDA                                                                                                                                                                                                           1130384 non-null  object\n",
      " 5   PINALES                                                                                                                                                                                                             1130384 non-null  object\n",
      " 6   CUPRESSACEAE                                                                                                                                                                                                        1130384 non-null  object\n",
      " 7   Calocedrus                                                                                                                                                                                                          1130384 non-null  object\n",
      " 8   rupestris                                                                                                                                                                                                           1130384 non-null  object\n",
      " 9   Aver., Hiep & L.K.Phan                                                                                                                                                                                              1129091 non-null  object\n",
      " 10  species                                                                                                                                                                                                             1130384 non-null  object\n",
      " 11  Unnamed: 11                                                                                                                                                                                                         13065 non-null    object\n",
      " 12  accepted                                                                                                                                                                                                            1130384 non-null  object\n",
      " 13  133722.1                                                                                                                                                                                                            1130384 non-null  int64 \n",
      " 14  Thomas, P., Nguyen, T.H., Phan, K.L. & Nguyen, Q.H. 2013. Calocedrus rupestris Aver., Hiep & L.K.Phan. The IUCN Red List of Threatened Species 2013: https://doi.org/10.2305/IUCN.UK.2013-1.RLTS.T133722A512509.en  1130384 non-null  object\n",
      " 15  https://apiv3.iucnredlist.org/api/v3/taxonredirect/133722                                                                                                                                                           1130384 non-null  object\n",
      " 16  language_x                                                                                                                                                                                                          1124670 non-null  object\n",
      " 17  common_name_x                                                                                                                                                                                                       1130384 non-null  object\n",
      " 18  is_accepted_x                                                                                                                                                                                                       1130384 non-null  bool  \n",
      " 19  language_y                                                                                                                                                                                                          1124670 non-null  object\n",
      " 20  common_name_y                                                                                                                                                                                                       1130384 non-null  object\n",
      " 21  is_accepted_y                                                                                                                                                                                                       1130384 non-null  bool  \n",
      "dtypes: bool(2), int64(1), object(19)\n",
      "memory usage: 174.6+ MB\n",
      "None\n"
     ]
    }
   ],
   "source": [
    "# Display the first few rows and summary of the final_data DataFrame\n",
    "print(final_data.head())\n",
    "print(final_data.info())"
   ]
  },
  {
   "cell_type": "code",
   "execution_count": null,
   "metadata": {
    "id": "EjQBz-iWwN1-"
   },
   "outputs": [],
   "source": [
    "# Define lists of species IDs and their corresponding conservation statuses\n",
    "species_ids = ['species1', 'species2', 'species3']  # Replace with actual species IDs\n",
    "conservation_statuses = ['Endangered', 'Vulnerable', 'Least Concern']  # Corresponding statuses\n",
    "\n",
    "# Ensure both lists have the same length\n",
    "if len(species_ids) != len(conservation_statuses):\n",
    "    raise ValueError(\"speciesIDs and Conservation_Status lists must be of the same length\")\n",
    "\n",
    "# Create the DataFrame\n",
    "endangered_species_df = pd.DataFrame({\n",
    "    'speciesID': species_ids,\n",
    "    'Conservation_Status': conservation_statuses\n",
    "})\n"
   ]
  },
  {
   "cell_type": "code",
   "execution_count": null,
   "metadata": {
    "id": "y2P7EGqQ7t6E"
   },
   "outputs": [],
   "source": [
    "# Example: Rename the column if it's misspelled\n",
    "final_data.rename(columns={'IncorrectName': 'Endangered'}, inplace=True)\n"
   ]
  },
  {
   "cell_type": "code",
   "execution_count": null,
   "metadata": {
    "id": "VuPo6JY37vj9"
   },
   "outputs": [],
   "source": [
    "# Merging the conservation status into final_data\n",
    "final_data = pd.merge(final_data, endangered_species_df[['speciesID', 'Conservation_Status']], on='speciesID', how='left')\n"
   ]
  },
  {
   "cell_type": "code",
   "execution_count": null,
   "metadata": {
    "colab": {
     "base_uri": "https://localhost:8080/"
    },
    "id": "vCcTlVq37xg0",
    "outputId": "85ddaf08-0c90-44f2-c954-464e3c46b64d"
   },
   "outputs": [
    {
     "name": "stdout",
     "output_type": "stream",
     "text": [
      "        speciesID        Calocedrus rupestris Aver., Hiep & L.K.Phan  \\\n",
      "0          157938                      Narthecium reverchonii Čelak.   \n",
      "1          162229  Ophrys melitensis (Salkowski) J et P Devillers...   \n",
      "2          162229  Ophrys melitensis (Salkowski) J et P Devillers...   \n",
      "3          162229  Ophrys melitensis (Salkowski) J et P Devillers...   \n",
      "4          162229  Ophrys melitensis (Salkowski) J et P Devillers...   \n",
      "...           ...                                                ...   \n",
      "1130379  22714282                Cleptornis marchei (Oustalet, 1889)   \n",
      "1130380  22714282                Cleptornis marchei (Oustalet, 1889)   \n",
      "1130381  22714282                Cleptornis marchei (Oustalet, 1889)   \n",
      "1130382  22714282                Cleptornis marchei (Oustalet, 1889)   \n",
      "1130383  22706279             Cracticus louisiadensis Tristram, 1889   \n",
      "\n",
      "          PLANTAE  TRACHEOPHYTA   PINOPSIDA        PINALES   CUPRESSACEAE  \\\n",
      "0         PLANTAE  TRACHEOPHYTA  LILIOPSIDA   DIOSCOREALES  NARTHECIACEAE   \n",
      "1         PLANTAE  TRACHEOPHYTA  LILIOPSIDA    ASPARAGALES    ORCHIDACEAE   \n",
      "2         PLANTAE  TRACHEOPHYTA  LILIOPSIDA    ASPARAGALES    ORCHIDACEAE   \n",
      "3         PLANTAE  TRACHEOPHYTA  LILIOPSIDA    ASPARAGALES    ORCHIDACEAE   \n",
      "4         PLANTAE  TRACHEOPHYTA  LILIOPSIDA    ASPARAGALES    ORCHIDACEAE   \n",
      "...           ...           ...         ...            ...            ...   \n",
      "1130379  ANIMALIA      CHORDATA        AVES  PASSERIFORMES   ZOSTEROPIDAE   \n",
      "1130380  ANIMALIA      CHORDATA        AVES  PASSERIFORMES   ZOSTEROPIDAE   \n",
      "1130381  ANIMALIA      CHORDATA        AVES  PASSERIFORMES   ZOSTEROPIDAE   \n",
      "1130382  ANIMALIA      CHORDATA        AVES  PASSERIFORMES   ZOSTEROPIDAE   \n",
      "1130383  ANIMALIA      CHORDATA        AVES  PASSERIFORMES      ARTAMIDAE   \n",
      "\n",
      "         Calocedrus      rupestris                   Aver., Hiep & L.K.Phan  \\\n",
      "0        Narthecium    reverchonii                                   Čelak.   \n",
      "1            Ophrys     melitensis  (Salkowski) J et P Devillers-Terschuren   \n",
      "2            Ophrys     melitensis  (Salkowski) J et P Devillers-Terschuren   \n",
      "3            Ophrys     melitensis  (Salkowski) J et P Devillers-Terschuren   \n",
      "4            Ophrys     melitensis  (Salkowski) J et P Devillers-Terschuren   \n",
      "...             ...            ...                                      ...   \n",
      "1130379  Cleptornis        marchei                         (Oustalet, 1889)   \n",
      "1130380  Cleptornis        marchei                         (Oustalet, 1889)   \n",
      "1130381  Cleptornis        marchei                         (Oustalet, 1889)   \n",
      "1130382  Cleptornis        marchei                         (Oustalet, 1889)   \n",
      "1130383   Cracticus  louisiadensis                           Tristram, 1889   \n",
      "\n",
      "         ...  133722.1  \\\n",
      "0        ...    157938   \n",
      "1        ...    162229   \n",
      "2        ...    162229   \n",
      "3        ...    162229   \n",
      "4        ...    162229   \n",
      "...      ...       ...   \n",
      "1130379  ...  22714282   \n",
      "1130380  ...  22714282   \n",
      "1130381  ...  22714282   \n",
      "1130382  ...  22714282   \n",
      "1130383  ...  22706279   \n",
      "\n",
      "        Thomas, P., Nguyen, T.H., Phan, K.L. & Nguyen, Q.H. 2013. Calocedrus rupestris Aver., Hiep & L.K.Phan. The IUCN Red List of Threatened Species 2013: https://doi.org/10.2305/IUCN.UK.2013-1.RLTS.T133722A512509.en  \\\n",
      "0        Lansdown, R.V. 2018. Narthecium reverchonii Če...                                                                                                                                                                   \n",
      "1        Mifsud, S. 2018. Ophrys melitensis (Salkowski)...                                                                                                                                                                   \n",
      "2        Mifsud, S. 2018. Ophrys melitensis (Salkowski)...                                                                                                                                                                   \n",
      "3        Mifsud, S. 2018. Ophrys melitensis (Salkowski)...                                                                                                                                                                   \n",
      "4        Mifsud, S. 2018. Ophrys melitensis (Salkowski)...                                                                                                                                                                   \n",
      "...                                                    ...                                                                                                                                                                   \n",
      "1130379  BirdLife International 2020. Cleptornis marche...                                                                                                                                                                   \n",
      "1130380  BirdLife International 2020. Cleptornis marche...                                                                                                                                                                   \n",
      "1130381  BirdLife International 2020. Cleptornis marche...                                                                                                                                                                   \n",
      "1130382  BirdLife International 2020. Cleptornis marche...                                                                                                                                                                   \n",
      "1130383  BirdLife International 2020. Cracticus louisia...                                                                                                                                                                   \n",
      "\n",
      "        https://apiv3.iucnredlist.org/api/v3/taxonredirect/133722  language_x  \\\n",
      "0        https://apiv3.iucnredlist.org/api/v3/taxonredi...                fra   \n",
      "1        https://apiv3.iucnredlist.org/api/v3/taxonredi...                mlt   \n",
      "2        https://apiv3.iucnredlist.org/api/v3/taxonredi...                mlt   \n",
      "3        https://apiv3.iucnredlist.org/api/v3/taxonredi...                eng   \n",
      "4        https://apiv3.iucnredlist.org/api/v3/taxonredi...                eng   \n",
      "...                                                    ...                ...   \n",
      "1130379  https://apiv3.iucnredlist.org/api/v3/taxonredi...                cha   \n",
      "1130380  https://apiv3.iucnredlist.org/api/v3/taxonredi...                cha   \n",
      "1130381  https://apiv3.iucnredlist.org/api/v3/taxonredi...                eng   \n",
      "1130382  https://apiv3.iucnredlist.org/api/v3/taxonredi...                eng   \n",
      "1130383  https://apiv3.iucnredlist.org/api/v3/taxonredi...                eng   \n",
      "\n",
      "                  common_name_x is_accepted_x language_y  \\\n",
      "0        Ossifrage de Reverchon         False        fra   \n",
      "1                  Brimba Sewda         False        mlt   \n",
      "2                  Brimba Sewda         False        eng   \n",
      "3          Maltse Spider Orchid          True        mlt   \n",
      "4          Maltse Spider Orchid          True        eng   \n",
      "...                         ...           ...        ...   \n",
      "1130379                 Canario         False        cha   \n",
      "1130380                 Canario         False        eng   \n",
      "1130381        Golden White-eye          True        cha   \n",
      "1130382        Golden White-eye          True        eng   \n",
      "1130383      Tagula Butcherbird          True        eng   \n",
      "\n",
      "                  common_name_y  is_accepted_y Conservation_Status  \n",
      "0        Ossifrage de Reverchon          False                 NaN  \n",
      "1                  Brimba Sewda          False                 NaN  \n",
      "2          Maltse Spider Orchid           True                 NaN  \n",
      "3                  Brimba Sewda          False                 NaN  \n",
      "4          Maltse Spider Orchid           True                 NaN  \n",
      "...                         ...            ...                 ...  \n",
      "1130379                 Canario          False                 NaN  \n",
      "1130380        Golden White-eye           True                 NaN  \n",
      "1130381                 Canario          False                 NaN  \n",
      "1130382        Golden White-eye           True                 NaN  \n",
      "1130383      Tagula Butcherbird           True                 NaN  \n",
      "\n",
      "[1130384 rows x 23 columns]\n"
     ]
    }
   ],
   "source": [
    "print(final_data)"
   ]
  },
  {
   "cell_type": "code",
   "execution_count": null,
   "metadata": {
    "colab": {
     "base_uri": "https://localhost:8080/"
    },
    "id": "wVZGVjkEw2EG",
    "outputId": "ecacb087-0ab1-4b13-cceb-b364971835c1"
   },
   "outputs": [
    {
     "name": "stdout",
     "output_type": "stream",
     "text": [
      "Count of Species by Conservation Status:\n",
      "Vulnerable: 24978\n",
      "Endangered: 22605\n"
     ]
    }
   ],
   "source": [
    "# Define the counts for conservation status\n",
    "status_counts = {'Vulnerable': 24978, 'Endangered': 22605}\n",
    "\n",
    "# Print the counts in text format\n",
    "print(\"Count of Species by Conservation Status:\")\n",
    "for status, count in status_counts.items():\n",
    "    print(f\"{status}: {count}\")"
   ]
  },
  {
   "cell_type": "code",
   "execution_count": null,
   "metadata": {
    "colab": {
     "base_uri": "https://localhost:8080/",
     "height": 483
    },
    "id": "rehNP3y8w-il",
    "outputId": "23bbd4fd-b282-416f-f897-bd2a3ca6f91f"
   },
   "outputs": [
    {
     "name": "stdout",
     "output_type": "stream",
     "text": [
      "Count of Species by Conservation Status:\n",
      "Vulnerable: 24978\n",
      "Endangered: 22605\n"
     ]
    },
    {
     "data": {
      "image/png": "[encoded data removed]",
      "text/plain": [
       "<Figure size 800x500 with 1 Axes>"
      ]
     },
     "metadata": {},
     "output_type": "display_data"
    }
   ],
   "source": [
    "import matplotlib.pyplot as plt\n",
    "import seaborn as sns\n",
    "\n",
    "# Define the counts for conservation status\n",
    "status_counts = {'Vulnerable': 24978, 'Endangered': 22605}\n",
    "\n",
    "# Print the counts in text format\n",
    "print(\"Count of Species by Conservation Status:\")\n",
    "for status, count in status_counts.items():\n",
    "    print(f\"{status}: {count}\")\n",
    "\n",
    "# Create a bar plot for conservation status\n",
    "plt.figure(figsize=(8, 5))\n",
    "sns.barplot(x=list(status_counts.keys()), y=list(status_counts.values()))\n",
    "plt.title('Count of Endangered and Vulnerable Species')\n",
    "plt.xlabel('Conservation Status')\n",
    "plt.ylabel('Count')\n",
    "plt.show()"
   ]
  },
  {
   "cell_type": "code",
   "execution_count": null,
   "metadata": {
    "colab": {
     "base_uri": "https://localhost:8080/"
    },
    "id": "b5e85JBtxHGE",
    "outputId": "c5b550a3-78e4-4122-ca0e-b6d7fd745ba1"
   },
   "outputs": [
    {
     "name": "stdout",
     "output_type": "stream",
     "text": [
      "Index(['speciesID', 'Calocedrus rupestris Aver., Hiep & L.K.Phan', 'PLANTAE',\n",
      "       'TRACHEOPHYTA', 'PINOPSIDA', 'PINALES', 'CUPRESSACEAE', 'Calocedrus',\n",
      "       'rupestris', 'Aver., Hiep & L.K.Phan', 'species', 'Unnamed: 11',\n",
      "       'accepted', '133722.1',\n",
      "       'Thomas, P., Nguyen, T.H., Phan, K.L. & Nguyen, Q.H. 2013. Calocedrus rupestris Aver., Hiep & L.K.Phan. The IUCN Red List of Threatened Species 2013: https://doi.org/10.2305/IUCN.UK.2013-1.RLTS.T133722A512509.en',\n",
      "       'https://apiv3.iucnredlist.org/api/v3/taxonredirect/133722',\n",
      "       'language_x', 'common_name_x', 'is_accepted_x', 'language_y',\n",
      "       'common_name_y', 'is_accepted_y', 'Conservation_Status'],\n",
      "      dtype='object')\n"
     ]
    }
   ],
   "source": [
    "# Check the columns in final_data\n",
    "print(final_data.columns)"
   ]
  },
  {
   "cell_type": "code",
   "execution_count": null,
   "metadata": {
    "colab": {
     "base_uri": "https://localhost:8080/"
    },
    "id": "RbPoR6F5xS_z",
    "outputId": "db8456e7-23e9-4585-dca6-bdd4d61133a3"
   },
   "outputs": [
    {
     "name": "stdout",
     "output_type": "stream",
     "text": [
      "Endangered\n",
      "Yes    2\n",
      "No     2\n",
      "Name: count, dtype: int64\n"
     ]
    }
   ],
   "source": [
    "# Example DataFrame creation (this assumes you already have this DataFrame set up)\n",
    "# Assuming final_data has been created and merged correctly with conservation statuses\n",
    "# Sample final_data DataFrame\n",
    "final_data = pd.DataFrame({\n",
    "    'speciesID': ['species1', 'species2', 'species3', 'species4'],\n",
    "    'Conservation_Status': ['Endangered', 'Vulnerable', 'Least Concern', 'Endangered']\n",
    "})\n",
    "\n",
    "# Add the 'Endangered' column based on 'Conservation_Status'\n",
    "final_data['Endangered'] = final_data['Conservation_Status'].apply(lambda x: 'Yes' if x == 'Endangered' else 'No')\n",
    "\n",
    "# Now count species by conservation status\n",
    "conservation_counts = final_data['Endangered'].value_counts()\n",
    "print(conservation_counts)\n"
   ]
  },
  {
   "cell_type": "code",
   "execution_count": null,
   "metadata": {
    "colab": {
     "base_uri": "https://localhost:8080/"
    },
    "id": "ozNUQO788jVc",
    "outputId": "11abfa9b-f15a-4613-90b6-c275a11c9697"
   },
   "outputs": [
    {
     "name": "stdout",
     "output_type": "stream",
     "text": [
      "  speciesID Conservation_Status Endangered\n",
      "0  species1          Endangered        Yes\n",
      "1  species2          Vulnerable         No\n",
      "2  species3       Least Concern         No\n",
      "3  species4          Endangered        Yes\n"
     ]
    }
   ],
   "source": [
    "print(final_data)\n"
   ]
  },
  {
   "cell_type": "code",
   "execution_count": null,
   "metadata": {
    "id": "gZXi1V-xxUzx"
   },
   "outputs": [],
   "source": [
    "# Example: Count by family (replace 'Family' with the actual column name)\n",
    "if 'CUPRESSACEAE' in final_data.columns:\n",
    "    family_counts = final_data['CUPRESSACEAE'].value_counts()\n",
    "    print(family_counts)"
   ]
  },
  {
   "cell_type": "code",
   "execution_count": null,
   "metadata": {
    "colab": {
     "base_uri": "https://localhost:8080/"
    },
    "id": "CH22bA1ZxckT",
    "outputId": "82c614bd-af5e-413a-f630-835885eeb0f3"
   },
   "outputs": [
    {
     "name": "stdout",
     "output_type": "stream",
     "text": [
      "Index(['speciesID', 'Conservation_Status', 'Endangered'], dtype='object')\n",
      "'common_name' column does not exist in final_data.\n"
     ]
    }
   ],
   "source": [
    "# Print the columns of final_data to check for 'common_name'\n",
    "print(final_data.columns)\n",
    "\n",
    "# Check for the correct column name and count common names\n",
    "# Replace 'common_name' with the actual name if it's different\n",
    "if 'common_name' in final_data.columns:\n",
    "    common_name_counts = final_data['common_name'].notnull().value_counts()\n",
    "    print(common_name_counts)\n",
    "else:\n",
    "    print(\"'common_name' column does not exist in final_data.\")\n"
   ]
  },
  {
   "cell_type": "code",
   "execution_count": null,
   "metadata": {
    "colab": {
     "base_uri": "https://localhost:8080/",
     "height": 525
    },
    "id": "PR-MkF3Exnwr",
    "outputId": "36c6eca7-b07b-42c1-ac02-85c6bb47240a"
   },
   "outputs": [
    {
     "name": "stdout",
     "output_type": "stream",
     "text": [
      "Count of Species by Conservation Status:\n",
      "Endangered\n",
      "Yes    2\n",
      "No     2\n",
      "Name: count, dtype: int64\n"
     ]
    },
    {
     "data": {
      "image/png": "[encoded data removed]",
      "text/plain": [
       "<Figure size 800x500 with 1 Axes>"
      ]
     },
     "metadata": {},
     "output_type": "display_data"
    }
   ],
   "source": [
    "import matplotlib.pyplot as plt\n",
    "import seaborn as sns\n",
    "\n",
    "# Count of species by conservation status\n",
    "status_counts = final_data['Endangered'].value_counts()\n",
    "\n",
    "# Print counts\n",
    "print(\"Count of Species by Conservation Status:\")\n",
    "print(status_counts)\n",
    "\n",
    "# Create a bar plot for conservation status\n",
    "plt.figure(figsize=(8, 5))\n",
    "sns.barplot(x=status_counts.index, y=status_counts.values)\n",
    "plt.title('Count of Endangered and Vulnerable Species')\n",
    "plt.xlabel('Conservation Status')\n",
    "plt.ylabel('Count')\n",
    "plt.show()"
   ]
  },
  {
   "cell_type": "code",
   "execution_count": null,
   "metadata": {
    "colab": {
     "base_uri": "https://localhost:8080/"
    },
    "id": "DP08nVICxt6w",
    "outputId": "99d89ac0-dca5-4044-f628-32632815d933"
   },
   "outputs": [
    {
     "name": "stdout",
     "output_type": "stream",
     "text": [
      "['speciesID', 'Conservation_Status', 'Endangered']\n"
     ]
    }
   ],
   "source": [
    "print(final_data.columns.tolist())\n"
   ]
  },
  {
   "cell_type": "code",
   "execution_count": null,
   "metadata": {
    "colab": {
     "base_uri": "https://localhost:8080/",
     "height": 508
    },
    "id": "rUoDlTxdx1Mk",
    "outputId": "98484cfb-0930-48cc-a555-d89a924bc632"
   },
   "outputs": [
    {
     "name": "stdout",
     "output_type": "stream",
     "text": [
      "Endangered\n",
      "Yes    2\n",
      "No     2\n",
      "Name: count, dtype: int64\n"
     ]
    },
    {
     "data": {
      "image/png": "[encoded data removed]",
      "text/plain": [
       "<Figure size 800x500 with 1 Axes>"
      ]
     },
     "metadata": {},
     "output_type": "display_data"
    }
   ],
   "source": [
    "# Count of endangered vs vulnerable species\n",
    "# You can skip the common name check if it's not available\n",
    "status_counts = final_data['Endangered'].value_counts()\n",
    "print(status_counts)\n",
    "\n",
    "# Visualize the conservation status data\n",
    "plt.figure(figsize=(8, 5))\n",
    "sns.barplot(x=status_counts.index, y=status_counts.values)\n",
    "plt.title('Conservation Status of Species')\n",
    "plt.xlabel('Conservation Status')\n",
    "plt.ylabel('Count')\n",
    "plt.show()\n"
   ]
  },
  {
   "cell_type": "code",
   "execution_count": null,
   "metadata": {
    "colab": {
     "base_uri": "https://localhost:8080/"
    },
    "id": "4ooIa5IeyI2E",
    "outputId": "5b1ffef2-4616-4a76-bf2e-e8fa9fefc5b6"
   },
   "outputs": [
    {
     "name": "stdout",
     "output_type": "stream",
     "text": [
      "Index(['speciesID', 'Conservation_Status', 'Endangered'], dtype='object')\n"
     ]
    }
   ],
   "source": [
    "# Check the columns in final_data\n",
    "print(final_data.columns)"
   ]
  },
  {
   "cell_type": "code",
   "execution_count": null,
   "metadata": {
    "colab": {
     "base_uri": "https://localhost:8080/"
    },
    "id": "-wT8CHvaycd1",
    "outputId": "efa9e138-b3d9-493e-d649-b85c1e5009ba"
   },
   "outputs": [
    {
     "name": "stdout",
     "output_type": "stream",
     "text": [
      "Index(['speciesID',\n",
      "       'Thomas, P., Nguyen, T.H., Phan, K.L. & Nguyen, Q.H. 2013. Calocedrus rupestris Aver., Hiep & L.K.Phan. The IUCN Red List of Threatened Species 2013: https://doi.org/10.2305/IUCN.UK.2013-1.RLTS.T133722A512509.en_x',\n",
      "       'Unnamed: 2', 'Endangered', 'Unnamed: 4', 'Global', 'Present',\n",
      "       'Calocedrus rupestris Aver., Hiep & L.K.Phan', 'PLANTAE',\n",
      "       'TRACHEOPHYTA', 'PINOPSIDA', 'PINALES', 'CUPRESSACEAE', 'Calocedrus',\n",
      "       'rupestris', 'Aver., Hiep & L.K.Phan', 'species', 'Unnamed: 11',\n",
      "       'accepted', '133722.1',\n",
      "       'Thomas, P., Nguyen, T.H., Phan, K.L. & Nguyen, Q.H. 2013. Calocedrus rupestris Aver., Hiep & L.K.Phan. The IUCN Red List of Threatened Species 2013: https://doi.org/10.2305/IUCN.UK.2013-1.RLTS.T133722A512509.en_y',\n",
      "       'https://apiv3.iucnredlist.org/api/v3/taxonredirect/133722', 'language',\n",
      "       'common_name', 'is_accepted'],\n",
      "      dtype='object')\n"
     ]
    }
   ],
   "source": [
    "# Check available columns in final_data\n",
    "print(final_data.columns)"
   ]
  },
  {
   "cell_type": "code",
   "execution_count": null,
   "metadata": {
    "colab": {
     "base_uri": "https://localhost:8080/"
    },
    "id": "vt3UPA94ykUm",
    "outputId": "a5b9dafe-ecb3-42fe-e470-1c64fd5f141d"
   },
   "outputs": [
    {
     "name": "stdout",
     "output_type": "stream",
     "text": [
      "   133722  \\\n",
      "0  157938   \n",
      "1  158019   \n",
      "2  158236   \n",
      "3  158275   \n",
      "4  162229   \n",
      "\n",
      "  Thomas, P., Nguyen, T.H., Phan, K.L. & Nguyen, Q.H. 2013. Calocedrus rupestris Aver., Hiep & L.K.Phan. The IUCN Red List of Threatened Species 2013: https://doi.org/10.2305/IUCN.UK.2013-1.RLTS.T133722A512509.en  \\\n",
      "0  Lansdown, R.V. 2018. Narthecium reverchonii Če...                                                                                                                                                                   \n",
      "1  Beentje, H.J., Gereau, R.E., Hilton-Taylor, C....                                                                                                                                                                   \n",
      "2  Contu, S. & IUCN SSC East African Plants Red L...                                                                                                                                                                   \n",
      "3  IUCN SSC East African Plants Red List Authorit...                                                                                                                                                                   \n",
      "4  Mifsud, S. 2018. Ophrys melitensis (Salkowski)...                                                                                                                                                                   \n",
      "\n",
      "   Unnamed: 2     Endangered  Unnamed: 4  Global  Present  \n",
      "0         NaN  Least Concern         NaN  Global  Present  \n",
      "1         NaN     Endangered         NaN  Global  Present  \n",
      "2         NaN  Least Concern         NaN  Global  Present  \n",
      "3         NaN  Least Concern         NaN  Global  Present  \n",
      "4         NaN  Least Concern         NaN  Global  Present  \n"
     ]
    }
   ],
   "source": [
    "import pandas as pd\n",
    "\n",
    "# Load distribution data\n",
    "distribution_data = pd.read_csv('distribution.txt', sep='\\t')  # Adjust separator if needed\n",
    "print(distribution_data.head())"
   ]
  },
  {
   "cell_type": "code",
   "execution_count": null,
   "metadata": {
    "colab": {
     "base_uri": "https://localhost:8080/"
    },
    "id": "fmWl00RFzYIr",
    "outputId": "9b0aa3ac-de6d-4bcf-a360-24e9c5658d94"
   },
   "outputs": [
    {
     "name": "stdout",
     "output_type": "stream",
     "text": [
      "Index(['133722',\n",
      "       'Thomas, P., Nguyen, T.H., Phan, K.L. & Nguyen, Q.H. 2013. Calocedrus rupestris Aver., Hiep & L.K.Phan. The IUCN Red List of Threatened Species 2013: https://doi.org/10.2305/IUCN.UK.2013-1.RLTS.T133722A512509.en',\n",
      "       'Unnamed: 2', 'Endangered', 'Unnamed: 4', 'Global', 'Present'],\n",
      "      dtype='object')\n"
     ]
    }
   ],
   "source": [
    "# Check available columns in distribution_data\n",
    "print(distribution_data.columns)"
   ]
  },
  {
   "cell_type": "code",
   "execution_count": null,
   "metadata": {
    "colab": {
     "base_uri": "https://localhost:8080/"
    },
    "id": "SUvjU_AWzPkP",
    "outputId": "cd93b129-9610-4664-d282-ea657a5a7518"
   },
   "outputs": [
    {
     "name": "stdout",
     "output_type": "stream",
     "text": [
      "Required columns are not present in the distribution data.\n"
     ]
    }
   ],
   "source": [
    "# Example of extracting relevant columns (update column names based on actual data)\n",
    "if 'speciesID' in distribution_data.columns and 'decimalLatitude' in distribution_data.columns and 'decimalLongitude' in distribution_data.columns:\n",
    "    external_data = distribution_data[['speciesID', 'decimalLatitude', 'decimalLongitude']]\n",
    "    print(external_data.head())\n",
    "else:\n",
    "    print(\"Required columns are not present in the distribution data.\")"
   ]
  },
  {
   "cell_type": "code",
   "execution_count": null,
   "metadata": {
    "colab": {
     "base_uri": "https://localhost:8080/"
    },
    "id": "KSqt0BXdz8ZZ",
    "outputId": "b5bf2474-cd97-4154-e7b1-1583ccd7cf26"
   },
   "outputs": [
    {
     "name": "stdout",
     "output_type": "stream",
     "text": [
      "Species ID column is not present.\n"
     ]
    }
   ],
   "source": [
    "# Example: Adjust column names based on actual data\n",
    "# Replace 'altitude' and 'longitude' with whatever names you find\n",
    "if 'speciesID' in distribution_data.columns:\n",
    "    # Check for alternative names for latitude and longitude\n",
    "    alternative_latitude_column = 'altitude'  # Replace with actual column name if found\n",
    "    alternative_longitude_column = 'longitude'  # Replace with actual column name if found\n",
    "\n",
    "    if alternative_latitude_column in distribution_data.columns and alternative_longitude_column in distribution_data.columns:\n",
    "        external_data = distribution_data[['speciesID', alternative_latitude_column, alternative_longitude_column]]\n",
    "        print(external_data.head())\n",
    "    else:\n",
    "        print(\"Latitude and/or Longitude columns are not present.\")\n",
    "else:\n",
    "    print(\"Species ID column is not present.\")"
   ]
  },
  {
   "cell_type": "code",
   "execution_count": null,
   "metadata": {
    "colab": {
     "base_uri": "https://localhost:8080/"
    },
    "id": "Q-cMAygiz_r6",
    "outputId": "d0b30d43-0619-44e4-faa1-7491c69b6e04"
   },
   "outputs": [
    {
     "name": "stdout",
     "output_type": "stream",
     "text": [
      "     133722        Calocedrus rupestris Aver., Hiep & L.K.Phan  PLANTAE  \\\n",
      "0    157938                      Narthecium reverchonii Čelak.  PLANTAE   \n",
      "1    158019                            Asparagus humilis Engl.  PLANTAE   \n",
      "2    158236        Bulbostylis boeckleriana (Schweinf.) Beetle  PLANTAE   \n",
      "3  158236_1  Albigarrdia boeckleriana  (Schweinf.) K.Lye ss...  PLANTAE   \n",
      "4  158236_2  Albigarrdia boeckleriana (Schweinf.) K.Lye ssp...  PLANTAE   \n",
      "\n",
      "   TRACHEOPHYTA   PINOPSIDA       PINALES   CUPRESSACEAE   Calocedrus  \\\n",
      "0  TRACHEOPHYTA  LILIOPSIDA  DIOSCOREALES  NARTHECIACEAE   Narthecium   \n",
      "1  TRACHEOPHYTA  LILIOPSIDA   ASPARAGALES   ASPARAGACEAE    Asparagus   \n",
      "2  TRACHEOPHYTA  LILIOPSIDA        POALES     CYPERACEAE  Bulbostylis   \n",
      "3           NaN         NaN           NaN            NaN          NaN   \n",
      "4           NaN         NaN           NaN            NaN          NaN   \n",
      "\n",
      "      rupestris Aver., Hiep & L.K.Phan  species Unnamed: 11  accepted  \\\n",
      "0   reverchonii                 Čelak.  species         NaN  accepted   \n",
      "1       humilis                  Engl.  species         NaN  accepted   \n",
      "2  boeckleriana     (Schweinf.) Beetle  species         NaN  accepted   \n",
      "3           NaN      (Schweinf.) K.Lye      NaN         NaN   synonym   \n",
      "4           NaN      (Schweinf.) K.Lye      NaN         NaN   synonym   \n",
      "\n",
      "   133722.1  \\\n",
      "0    157938   \n",
      "1    158019   \n",
      "2    158236   \n",
      "3    158236   \n",
      "4    158236   \n",
      "\n",
      "  Thomas, P., Nguyen, T.H., Phan, K.L. & Nguyen, Q.H. 2013. Calocedrus rupestris Aver., Hiep & L.K.Phan. The IUCN Red List of Threatened Species 2013: https://doi.org/10.2305/IUCN.UK.2013-1.RLTS.T133722A512509.en  \\\n",
      "0  Lansdown, R.V. 2018. Narthecium reverchonii Če...                                                                                                                                                                   \n",
      "1  Beentje, H.J., Gereau, R.E., Hilton-Taylor, C....                                                                                                                                                                   \n",
      "2  Contu, S. & IUCN SSC East African Plants Red L...                                                                                                                                                                   \n",
      "3  Contu, S. & IUCN SSC East African Plants Red L...                                                                                                                                                                   \n",
      "4  Contu, S. & IUCN SSC East African Plants Red L...                                                                                                                                                                   \n",
      "\n",
      "  https://apiv3.iucnredlist.org/api/v3/taxonredirect/133722  \n",
      "0  https://apiv3.iucnredlist.org/api/v3/taxonredi...         \n",
      "1  https://apiv3.iucnredlist.org/api/v3/taxonredi...         \n",
      "2  https://apiv3.iucnredlist.org/api/v3/taxonredi...         \n",
      "3  https://apiv3.iucnredlist.org/api/v3/taxonredi...         \n",
      "4  https://apiv3.iucnredlist.org/api/v3/taxonredi...         \n",
      "Index(['133722', 'Calocedrus rupestris Aver., Hiep & L.K.Phan', 'PLANTAE',\n",
      "       'TRACHEOPHYTA', 'PINOPSIDA', 'PINALES', 'CUPRESSACEAE', 'Calocedrus',\n",
      "       'rupestris', 'Aver., Hiep & L.K.Phan', 'species', 'Unnamed: 11',\n",
      "       'accepted', '133722.1',\n",
      "       'Thomas, P., Nguyen, T.H., Phan, K.L. & Nguyen, Q.H. 2013. Calocedrus rupestris Aver., Hiep & L.K.Phan. The IUCN Red List of Threatened Species 2013: https://doi.org/10.2305/IUCN.UK.2013-1.RLTS.T133722A512509.en',\n",
      "       'https://apiv3.iucnredlist.org/api/v3/taxonredirect/133722'],\n",
      "      dtype='object')\n"
     ]
    }
   ],
   "source": [
    "# Load taxon data to find geographical information\n",
    "taxon_data = pd.read_csv('taxon.txt', sep='\\t')  # Adjust separator if needed\n",
    "print(taxon_data.head())\n",
    "\n",
    "# Check for relevant columns in taxon_data\n",
    "print(taxon_data.columns)\n",
    "\n",
    "# If you find relevant information, extract it similarly\n",
    "if 'speciesID' in taxon_data.columns:\n",
    "    # Example of extracting speciesID and any other relevant column\n",
    "    external_data = taxon_data[['speciesID', 'some_other_column']]  # Replace with actual column names found\n",
    "    print(external_data.head())"
   ]
  },
  {
   "cell_type": "code",
   "execution_count": null,
   "metadata": {
    "colab": {
     "base_uri": "https://localhost:8080/"
    },
    "id": "On39c5Dm1rKw",
    "outputId": "3490b1a4-b3fb-4808-9620-19992f278a1a"
   },
   "outputs": [
    {
     "name": "stdout",
     "output_type": "stream",
     "text": [
      "Index(['133722', 'Calocedrus rupestris Aver., Hiep & L.K.Phan', 'PLANTAE',\n",
      "       'TRACHEOPHYTA', 'PINOPSIDA', 'PINALES', 'CUPRESSACEAE', 'Calocedrus',\n",
      "       'rupestris', 'Aver., Hiep & L.K.Phan', 'species', 'Unnamed: 11',\n",
      "       'accepted', '133722.1',\n",
      "       'Thomas, P., Nguyen, T.H., Phan, K.L. & Nguyen, Q.H. 2013. Calocedrus rupestris Aver., Hiep & L.K.Phan. The IUCN Red List of Threatened Species 2013: https://doi.org/10.2305/IUCN.UK.2013-1.RLTS.T133722A512509.en',\n",
      "       'https://apiv3.iucnredlist.org/api/v3/taxonredirect/133722'],\n",
      "      dtype='object')\n",
      "     133722        Calocedrus rupestris Aver., Hiep & L.K.Phan  PLANTAE  \\\n",
      "0    157938                      Narthecium reverchonii Čelak.  PLANTAE   \n",
      "1    158019                            Asparagus humilis Engl.  PLANTAE   \n",
      "2    158236        Bulbostylis boeckleriana (Schweinf.) Beetle  PLANTAE   \n",
      "3  158236_1  Albigarrdia boeckleriana  (Schweinf.) K.Lye ss...  PLANTAE   \n",
      "4  158236_2  Albigarrdia boeckleriana (Schweinf.) K.Lye ssp...  PLANTAE   \n",
      "\n",
      "    CUPRESSACEAE  \n",
      "0  NARTHECIACEAE  \n",
      "1   ASPARAGACEAE  \n",
      "2     CYPERACEAE  \n",
      "3            NaN  \n",
      "4            NaN  \n"
     ]
    }
   ],
   "source": [
    "# Check for relevant columns in taxon_data\n",
    "print(taxon_data.columns)\n",
    "\n",
    "# Assuming 'speciesID' is present and you want to extract additional information\n",
    "if '133722' in taxon_data.columns:  # Replace with actual species ID column name if different\n",
    "    # Extract species ID and other relevant columns\n",
    "    external_data = taxon_data[['133722', 'Calocedrus rupestris Aver., Hiep & L.K.Phan', 'PLANTAE', 'CUPRESSACEAE']]\n",
    "    print(external_data.head())\n",
    "else:\n",
    "    print(\"Species ID column is not present in taxon data.\")"
   ]
  },
  {
   "cell_type": "code",
   "execution_count": null,
   "metadata": {
    "colab": {
     "base_uri": "https://localhost:8080/"
    },
    "id": "Wr_B0IcQ12mB",
    "outputId": "872a9db1-4d79-41e5-e2ff-56294e2671cf"
   },
   "outputs": [
    {
     "name": "stdout",
     "output_type": "stream",
     "text": [
      "Index(['133722', 'Calocedrus rupestris Aver., Hiep & L.K.Phan', 'PLANTAE',\n",
      "       'TRACHEOPHYTA', 'PINOPSIDA', 'PINALES', 'CUPRESSACEAE', 'Calocedrus',\n",
      "       'rupestris', 'Aver., Hiep & L.K.Phan', 'species', 'Unnamed: 11',\n",
      "       'accepted', '133722.1',\n",
      "       'Thomas, P., Nguyen, T.H., Phan, K.L. & Nguyen, Q.H. 2013. Calocedrus rupestris Aver., Hiep & L.K.Phan. The IUCN Red List of Threatened Species 2013: https://doi.org/10.2305/IUCN.UK.2013-1.RLTS.T133722A512509.en',\n",
      "       'https://apiv3.iucnredlist.org/api/v3/taxonredirect/133722'],\n",
      "      dtype='object')\n",
      "  speciesID                                        SpeciesName  Kingdom  \\\n",
      "0    157938                      Narthecium reverchonii Čelak.  PLANTAE   \n",
      "1    158019                            Asparagus humilis Engl.  PLANTAE   \n",
      "2    158236        Bulbostylis boeckleriana (Schweinf.) Beetle  PLANTAE   \n",
      "3  158236_1  Albigarrdia boeckleriana  (Schweinf.) K.Lye ss...  PLANTAE   \n",
      "4  158236_2  Albigarrdia boeckleriana (Schweinf.) K.Lye ssp...  PLANTAE   \n",
      "\n",
      "          Family  \n",
      "0  NARTHECIACEAE  \n",
      "1   ASPARAGACEAE  \n",
      "2     CYPERACEAE  \n",
      "3            NaN  \n",
      "4            NaN  \n"
     ]
    }
   ],
   "source": [
    "# Check for relevant columns in taxon_data\n",
    "print(taxon_data.columns)\n",
    "\n",
    "# Extract species ID and other relevant columns\n",
    "if '133722' in taxon_data.columns:  # Assuming '133722' is the species ID column\n",
    "    external_data = taxon_data[['133722',\n",
    "                                 'Calocedrus rupestris Aver., Hiep & L.K.Phan',\n",
    "                                 'PLANTAE',\n",
    "                                 'CUPRESSACEAE']]\n",
    "    # Rename columns for clarity\n",
    "    external_data.columns = ['speciesID', 'SpeciesName', 'Kingdom', 'Family']\n",
    "    print(external_data.head())\n",
    "else:\n",
    "    print(\"Species ID column is not present in taxon data.\")"
   ]
  },
  {
   "cell_type": "code",
   "execution_count": null,
   "metadata": {
    "colab": {
     "base_uri": "https://localhost:8080/"
    },
    "id": "KigN3x-v16Be",
    "outputId": "f2875ef4-0350-4322-927c-c9fe12bc56ea"
   },
   "outputs": [
    {
     "name": "stdout",
     "output_type": "stream",
     "text": [
      "Distribution Data Columns:\n",
      "Index(['133722',\n",
      "       'Thomas, P., Nguyen, T.H., Phan, K.L. & Nguyen, Q.H. 2013. Calocedrus rupestris Aver., Hiep & L.K.Phan. The IUCN Red List of Threatened Species 2013: https://doi.org/10.2305/IUCN.UK.2013-1.RLTS.T133722A512509.en',\n",
      "       'Unnamed: 2', 'Endangered', 'Unnamed: 4', 'Global', 'Present'],\n",
      "      dtype='object')\n",
      "External Data Columns:\n",
      "Index(['speciesID', 'SpeciesName', 'Kingdom', 'Family'], dtype='object')\n"
     ]
    }
   ],
   "source": [
    "# Check columns in distribution_data\n",
    "print(\"Distribution Data Columns:\")\n",
    "print(distribution_data.columns)\n",
    "\n",
    "# Check columns in external_data\n",
    "print(\"External Data Columns:\")\n",
    "print(external_data.columns)"
   ]
  },
  {
   "cell_type": "code",
   "execution_count": null,
   "metadata": {
    "colab": {
     "base_uri": "https://localhost:8080/"
    },
    "id": "VgvgDe5l2W8k",
    "outputId": "39e417ae-895b-4aa5-ed64-18124fe83631"
   },
   "outputs": [
    {
     "name": "stdout",
     "output_type": "stream",
     "text": [
      "133722                                                                                                                                                                                                                  int64\n",
      "Thomas, P., Nguyen, T.H., Phan, K.L. & Nguyen, Q.H. 2013. Calocedrus rupestris Aver., Hiep & L.K.Phan. The IUCN Red List of Threatened Species 2013: https://doi.org/10.2305/IUCN.UK.2013-1.RLTS.T133722A512509.en     object\n",
      "Unnamed: 2                                                                                                                                                                                                            float64\n",
      "Endangered                                                                                                                                                                                                             object\n",
      "Unnamed: 4                                                                                                                                                                                                            float64\n",
      "Global                                                                                                                                                                                                                 object\n",
      "Present                                                                                                                                                                                                                object\n",
      "dtype: object\n",
      "speciesID      object\n",
      "SpeciesName    object\n",
      "Kingdom        object\n",
      "Family         object\n",
      "dtype: object\n"
     ]
    }
   ],
   "source": [
    "# Check data types in both DataFrames\n",
    "print(distribution_data.dtypes)\n",
    "print(external_data.dtypes)"
   ]
  },
  {
   "cell_type": "code",
   "execution_count": null,
   "metadata": {
    "colab": {
     "base_uri": "https://localhost:8080/"
    },
    "id": "z-a8_26p2bdC",
    "outputId": "17d92548-348a-4bda-c3d4-f6384659b85c"
   },
   "outputs": [
    {
     "name": "stdout",
     "output_type": "stream",
     "text": [
      "   133722  \\\n",
      "0  157938   \n",
      "1  158019   \n",
      "2  158236   \n",
      "3  158275   \n",
      "4  162229   \n",
      "\n",
      "  Thomas, P., Nguyen, T.H., Phan, K.L. & Nguyen, Q.H. 2013. Calocedrus rupestris Aver., Hiep & L.K.Phan. The IUCN Red List of Threatened Species 2013: https://doi.org/10.2305/IUCN.UK.2013-1.RLTS.T133722A512509.en  \\\n",
      "0  Lansdown, R.V. 2018. Narthecium reverchonii Če...                                                                                                                                                                   \n",
      "1  Beentje, H.J., Gereau, R.E., Hilton-Taylor, C....                                                                                                                                                                   \n",
      "2  Contu, S. & IUCN SSC East African Plants Red L...                                                                                                                                                                   \n",
      "3  IUCN SSC East African Plants Red List Authorit...                                                                                                                                                                   \n",
      "4  Mifsud, S. 2018. Ophrys melitensis (Salkowski)...                                                                                                                                                                   \n",
      "\n",
      "   Unnamed: 2     Endangered  Unnamed: 4  Global  Present speciesID  \\\n",
      "0         NaN  Least Concern         NaN  Global  Present    157938   \n",
      "1         NaN     Endangered         NaN  Global  Present    158019   \n",
      "2         NaN  Least Concern         NaN  Global  Present    158236   \n",
      "3         NaN  Least Concern         NaN  Global  Present    158275   \n",
      "4         NaN  Least Concern         NaN  Global  Present    162229   \n",
      "\n",
      "                                         SpeciesName  Kingdom         Family  \n",
      "0                      Narthecium reverchonii Čelak.  PLANTAE  NARTHECIACEAE  \n",
      "1                            Asparagus humilis Engl.  PLANTAE   ASPARAGACEAE  \n",
      "2        Bulbostylis boeckleriana (Schweinf.) Beetle  PLANTAE     CYPERACEAE  \n",
      "3            Bulbostylis hispidula (Vahl) R.W.Haines  PLANTAE     CYPERACEAE  \n",
      "4  Ophrys melitensis (Salkowski) J et P Devillers...  PLANTAE    ORCHIDACEAE  \n"
     ]
    }
   ],
   "source": [
    "# Convert '133722' in distribution_data to string\n",
    "distribution_data['133722'] = distribution_data['133722'].astype(str)\n",
    "\n",
    "# Now perform the merge again\n",
    "final_data = pd.merge(distribution_data, external_data, left_on='133722', right_on='speciesID', how='left')\n",
    "\n",
    "# Check if the merge was successful\n",
    "print(final_data.head())"
   ]
  },
  {
   "cell_type": "code",
   "execution_count": null,
   "metadata": {
    "colab": {
     "base_uri": "https://localhost:8080/"
    },
    "id": "GFP2AB_c2wKA",
    "outputId": "9a090a37-384c-4f66-a658-6989b522473b"
   },
   "outputs": [
    {
     "name": "stdout",
     "output_type": "stream",
     "text": [
      "Final Data Columns:\n",
      "Index(['133722',\n",
      "       'Thomas, P., Nguyen, T.H., Phan, K.L. & Nguyen, Q.H. 2013. Calocedrus rupestris Aver., Hiep & L.K.Phan. The IUCN Red List of Threatened Species 2013: https://doi.org/10.2305/IUCN.UK.2013-1.RLTS.T133722A512509.en',\n",
      "       'Unnamed: 2', 'Endangered', 'Unnamed: 4', 'Global', 'Present',\n",
      "       'speciesID', 'SpeciesName', 'Kingdom', 'Family'],\n",
      "      dtype='object')\n",
      "133722                                                                                                                                                                                                                     0\n",
      "Thomas, P., Nguyen, T.H., Phan, K.L. & Nguyen, Q.H. 2013. Calocedrus rupestris Aver., Hiep & L.K.Phan. The IUCN Red List of Threatened Species 2013: https://doi.org/10.2305/IUCN.UK.2013-1.RLTS.T133722A512509.en         0\n",
      "Unnamed: 2                                                                                                                                                                                                            150489\n",
      "Endangered                                                                                                                                                                                                                 0\n",
      "Unnamed: 4                                                                                                                                                                                                            150489\n",
      "Global                                                                                                                                                                                                                     0\n",
      "Present                                                                                                                                                                                                                    0\n",
      "speciesID                                                                                                                                                                                                                  0\n",
      "SpeciesName                                                                                                                                                                                                                0\n",
      "Kingdom                                                                                                                                                                                                                    0\n",
      "Family                                                                                                                                                                                                                     0\n",
      "dtype: int64\n"
     ]
    }
   ],
   "source": [
    "# Check the columns of final_data\n",
    "print(\"Final Data Columns:\")\n",
    "print(final_data.columns)\n",
    "\n",
    "# Check for any missing values in critical columns\n",
    "print(final_data.isnull().sum())"
   ]
  },
  {
   "cell_type": "code",
   "execution_count": null,
   "metadata": {
    "colab": {
     "base_uri": "https://localhost:8080/"
    },
    "id": "fiSp21-F24Mw",
    "outputId": "efc81846-e773-4ba4-c914-34dad8db91aa"
   },
   "outputs": [
    {
     "name": "stdout",
     "output_type": "stream",
     "text": [
      "   133722  \\\n",
      "0  157938   \n",
      "1  158019   \n",
      "2  158236   \n",
      "3  158275   \n",
      "4  162229   \n",
      "\n",
      "  Thomas, P., Nguyen, T.H., Phan, K.L. & Nguyen, Q.H. 2013. Calocedrus rupestris Aver., Hiep & L.K.Phan. The IUCN Red List of Threatened Species 2013: https://doi.org/10.2305/IUCN.UK.2013-1.RLTS.T133722A512509.en  \\\n",
      "0  Lansdown, R.V. 2018. Narthecium reverchonii Če...                                                                                                                                                                   \n",
      "1  Beentje, H.J., Gereau, R.E., Hilton-Taylor, C....                                                                                                                                                                   \n",
      "2  Contu, S. & IUCN SSC East African Plants Red L...                                                                                                                                                                   \n",
      "3  IUCN SSC East African Plants Red List Authorit...                                                                                                                                                                   \n",
      "4  Mifsud, S. 2018. Ophrys melitensis (Salkowski)...                                                                                                                                                                   \n",
      "\n",
      "      Endangered  Global  Present speciesID  \\\n",
      "0  Least Concern  Global  Present    157938   \n",
      "1     Endangered  Global  Present    158019   \n",
      "2  Least Concern  Global  Present    158236   \n",
      "3  Least Concern  Global  Present    158275   \n",
      "4  Least Concern  Global  Present    162229   \n",
      "\n",
      "                                         SpeciesName  Kingdom         Family  \n",
      "0                      Narthecium reverchonii Čelak.  PLANTAE  NARTHECIACEAE  \n",
      "1                            Asparagus humilis Engl.  PLANTAE   ASPARAGACEAE  \n",
      "2        Bulbostylis boeckleriana (Schweinf.) Beetle  PLANTAE     CYPERACEAE  \n",
      "3            Bulbostylis hispidula (Vahl) R.W.Haines  PLANTAE     CYPERACEAE  \n",
      "4  Ophrys melitensis (Salkowski) J et P Devillers...  PLANTAE    ORCHIDACEAE  \n"
     ]
    }
   ],
   "source": [
    "# Drop unnecessary columns\n",
    "final_data_cleaned = final_data.drop(columns=['Unnamed: 2', 'Unnamed: 4'])\n",
    "\n",
    "# Check the cleaned DataFrame\n",
    "print(final_data_cleaned.head())"
   ]
  },
  {
   "cell_type": "code",
   "execution_count": null,
   "metadata": {
    "colab": {
     "base_uri": "https://localhost:8080/"
    },
    "id": "ckqsbvCG3Jkm",
    "outputId": "ec3d2f75-e16b-455e-f474-2f55e38b79aa"
   },
   "outputs": [
    {
     "name": "stdout",
     "output_type": "stream",
     "text": [
      "Endangered\n",
      "Least Concern             76611\n",
      "Data Deficient            20693\n",
      "Vulnerable                16997\n",
      "Endangered                16639\n",
      "Critically Endangered      9430\n",
      "Near Threatened            8931\n",
      "Extinct                     930\n",
      "Conservation Dependent      170\n",
      "Extinct In The Wild          88\n",
      "Name: count, dtype: int64\n"
     ]
    }
   ],
   "source": [
    "# Standardize conservation status names\n",
    "final_data_cleaned['Endangered'] = final_data_cleaned['Endangered'].str.title()\n",
    "\n",
    "# Recalculate the counts after standardization\n",
    "status_counts = final_data_cleaned['Endangered'].value_counts()\n",
    "print(status_counts)"
   ]
  },
  {
   "cell_type": "code",
   "execution_count": null,
   "metadata": {
    "colab": {
     "base_uri": "https://localhost:8080/"
    },
    "id": "Ra8Xr2TF3ScX",
    "outputId": "b9f718a8-3216-495c-b011-2956357cbf78"
   },
   "outputs": [
    {
     "name": "stdout",
     "output_type": "stream",
     "text": [
      "Distribution of Critically Endangered Species by Family:\n",
      "Family\n",
      "RUBIACEAE           309\n",
      "FABACEAE            272\n",
      "LAURACEAE           263\n",
      "MYRTACEAE           261\n",
      "ASTERACEAE          250\n",
      "                   ... \n",
      "HYRIIDAE              1\n",
      "CHEIRACANTHIIDAE      1\n",
      "TETRAGNATHIDAE        1\n",
      "OECOBIIDAE            1\n",
      "HIRUNDINIDAE          1\n",
      "Name: count, Length: 954, dtype: int64\n"
     ]
    }
   ],
   "source": [
    "# Filter for critically endangered species\n",
    "critical_species = final_data_cleaned[final_data_cleaned['Endangered'] == 'Critically Endangered']\n",
    "\n",
    "# Analyze their distribution by family\n",
    "critical_family_counts = critical_species['Family'].value_counts()\n",
    "\n",
    "# Print the counts of critically endangered species by family\n",
    "print(\"Distribution of Critically Endangered Species by Family:\")\n",
    "print(critical_family_counts)"
   ]
  },
  {
   "cell_type": "code",
   "execution_count": null,
   "metadata": {
    "colab": {
     "base_uri": "https://localhost:8080/",
     "height": 394
    },
    "id": "9ozdSR_B_zNL",
    "outputId": "c3c4d1f7-c3eb-485b-b13a-bfbd03eae0d6"
   },
   "outputs": [
    {
     "data": {
      "text/html": [
       "<div style=\"width:100%;\"><div style=\"position:relative;width:100%;height:0;padding-bottom:60%;\"><span style=\"color:#565656\">Make this Notebook Trusted to load map: File -> Trust Notebook</span><iframe srcdoc=\"&lt;!DOCTYPE html&gt;\n",
       "&lt;html&gt;\n",
       "&lt;head&gt;\n",
       "    \n",
       "    &lt;meta http-equiv=&quot;content-type&quot; content=&quot;text/html; charset=UTF-8&quot; /&gt;\n",
       "    \n",
       "        &lt;script&gt;\n",
       "            L_NO_TOUCH = false;\n",
       "            L_DISABLE_3D = false;\n",
       "        &lt;/script&gt;\n",
       "    \n",
       "    &lt;style&gt;html, body {width: 100%;height: 100%;margin: 0;padding: 0;}&lt;/style&gt;\n",
       "    &lt;style&gt;#map {position:absolute;top:0;bottom:0;right:0;left:0;}&lt;/style&gt;\n",
       "    &lt;script src=&quot;https://cdn.jsdelivr.net/npm/leaflet@1.9.3/dist/leaflet.js&quot;&gt;&lt;/script&gt;\n",
       "    &lt;script src=&quot;https://code.jquery.com/jquery-3.7.1.min.js&quot;&gt;&lt;/script&gt;\n",
       "    &lt;script src=&quot;https://cdn.jsdelivr.net/npm/bootstrap@5.2.2/dist/js/bootstrap.bundle.min.js&quot;&gt;&lt;/script&gt;\n",
       "    &lt;script src=&quot;https://cdnjs.cloudflare.com/ajax/libs/Leaflet.awesome-markers/2.0.2/leaflet.awesome-markers.js&quot;&gt;&lt;/script&gt;\n",
       "    &lt;link rel=&quot;stylesheet&quot; href=&quot;https://cdn.jsdelivr.net/npm/leaflet@1.9.3/dist/leaflet.css&quot;/&gt;\n",
       "    &lt;link rel=&quot;stylesheet&quot; href=&quot;https://cdn.jsdelivr.net/npm/bootstrap@5.2.2/dist/css/bootstrap.min.css&quot;/&gt;\n",
       "    &lt;link rel=&quot;stylesheet&quot; href=&quot;https://netdna.bootstrapcdn.com/bootstrap/3.0.0/css/bootstrap-glyphicons.css&quot;/&gt;\n",
       "    &lt;link rel=&quot;stylesheet&quot; href=&quot;https://cdn.jsdelivr.net/npm/@fortawesome/fontawesome-free@6.2.0/css/all.min.css&quot;/&gt;\n",
       "    &lt;link rel=&quot;stylesheet&quot; href=&quot;https://cdnjs.cloudflare.com/ajax/libs/Leaflet.awesome-markers/2.0.2/leaflet.awesome-markers.css&quot;/&gt;\n",
       "    &lt;link rel=&quot;stylesheet&quot; href=&quot;https://cdn.jsdelivr.net/gh/python-visualization/folium/folium/templates/leaflet.awesome.rotate.min.css&quot;/&gt;\n",
       "    \n",
       "            &lt;meta name=&quot;viewport&quot; content=&quot;width=device-width,\n",
       "                initial-scale=1.0, maximum-scale=1.0, user-scalable=no&quot; /&gt;\n",
       "            &lt;style&gt;\n",
       "                #map_c40d522cadbd2c62857298ac8fb55cbc {\n",
       "                    position: relative;\n",
       "                    width: 100.0%;\n",
       "                    height: 100.0%;\n",
       "                    left: 0.0%;\n",
       "                    top: 0.0%;\n",
       "                }\n",
       "                .leaflet-container { font-size: 1rem; }\n",
       "            &lt;/style&gt;\n",
       "        \n",
       "    &lt;script src=&quot;https://cdnjs.cloudflare.com/ajax/libs/leaflet.markercluster/1.1.0/leaflet.markercluster.js&quot;&gt;&lt;/script&gt;\n",
       "    &lt;link rel=&quot;stylesheet&quot; href=&quot;https://cdnjs.cloudflare.com/ajax/libs/leaflet.markercluster/1.1.0/MarkerCluster.css&quot;/&gt;\n",
       "    &lt;link rel=&quot;stylesheet&quot; href=&quot;https://cdnjs.cloudflare.com/ajax/libs/leaflet.markercluster/1.1.0/MarkerCluster.Default.css&quot;/&gt;\n",
       "&lt;/head&gt;\n",
       "&lt;body&gt;\n",
       "    \n",
       "    \n",
       "            &lt;div class=&quot;folium-map&quot; id=&quot;map_c40d522cadbd2c62857298ac8fb55cbc&quot; &gt;&lt;/div&gt;\n",
       "        \n",
       "&lt;/body&gt;\n",
       "&lt;script&gt;\n",
       "    \n",
       "    \n",
       "            var map_c40d522cadbd2c62857298ac8fb55cbc = L.map(\n",
       "                &quot;map_c40d522cadbd2c62857298ac8fb55cbc&quot;,\n",
       "                {\n",
       "                    center: [0.0, 30.0],\n",
       "                    crs: L.CRS.EPSG3857,\n",
       "                    zoom: 4,\n",
       "                    zoomControl: true,\n",
       "                    preferCanvas: false,\n",
       "                }\n",
       "            );\n",
       "\n",
       "            \n",
       "\n",
       "        \n",
       "    \n",
       "            var tile_layer_b4244da57e752e1c3c25aefc45d3a805 = L.tileLayer(\n",
       "                &quot;https://tile.openstreetmap.org/{z}/{x}/{y}.png&quot;,\n",
       "                {&quot;attribution&quot;: &quot;\\u0026copy; \\u003ca href=\\&quot;https://www.openstreetmap.org/copyright\\&quot;\\u003eOpenStreetMap\\u003c/a\\u003e contributors&quot;, &quot;detectRetina&quot;: false, &quot;maxNativeZoom&quot;: 19, &quot;maxZoom&quot;: 19, &quot;minZoom&quot;: 0, &quot;noWrap&quot;: false, &quot;opacity&quot;: 1, &quot;subdomains&quot;: &quot;abc&quot;, &quot;tms&quot;: false}\n",
       "            );\n",
       "        \n",
       "    \n",
       "            tile_layer_b4244da57e752e1c3c25aefc45d3a805.addTo(map_c40d522cadbd2c62857298ac8fb55cbc);\n",
       "        \n",
       "    \n",
       "            var marker_cluster_a5bea73a68727c555dc8ea5aa816f6a5 = L.markerClusterGroup(\n",
       "                {}\n",
       "            );\n",
       "        \n",
       "    \n",
       "            var marker_631ec8fa3ad93be5be6a9c0448e5755a = L.marker(\n",
       "                [-2.891112, 34.923913],\n",
       "                {}\n",
       "            ).addTo(marker_cluster_a5bea73a68727c555dc8ea5aa816f6a5);\n",
       "        \n",
       "    \n",
       "        var popup_80298072a9b6ed33f737a40f1d1cf339 = L.popup({&quot;maxWidth&quot;: &quot;100%&quot;});\n",
       "\n",
       "        \n",
       "            \n",
       "                var html_bf992da5025baf397565858c448501f2 = $(`&lt;div id=&quot;html_bf992da5025baf397565858c448501f2&quot; style=&quot;width: 100.0%; height: 100.0%;&quot;&gt;Panthera leo (Tanzania, United Republic of)&lt;/div&gt;`)[0];\n",
       "                popup_80298072a9b6ed33f737a40f1d1cf339.setContent(html_bf992da5025baf397565858c448501f2);\n",
       "            \n",
       "        \n",
       "\n",
       "        marker_631ec8fa3ad93be5be6a9c0448e5755a.bindPopup(popup_80298072a9b6ed33f737a40f1d1cf339)\n",
       "        ;\n",
       "\n",
       "        \n",
       "    \n",
       "    \n",
       "            var marker_d7fa37d1ac370825de8b9960657d9275 = L.marker(\n",
       "                [-3.904969, 36.133092],\n",
       "                {}\n",
       "            ).addTo(marker_cluster_a5bea73a68727c555dc8ea5aa816f6a5);\n",
       "        \n",
       "    \n",
       "        var popup_de71fcbc8fc28cb67bd67f7fc8534bc0 = L.popup({&quot;maxWidth&quot;: &quot;100%&quot;});\n",
       "\n",
       "        \n",
       "            \n",
       "                var html_85b4f313382a9c0a94f890469506b08f = $(`&lt;div id=&quot;html_85b4f313382a9c0a94f890469506b08f&quot; style=&quot;width: 100.0%; height: 100.0%;&quot;&gt;Panthera leo (Tanzania, United Republic of)&lt;/div&gt;`)[0];\n",
       "                popup_de71fcbc8fc28cb67bd67f7fc8534bc0.setContent(html_85b4f313382a9c0a94f890469506b08f);\n",
       "            \n",
       "        \n",
       "\n",
       "        marker_d7fa37d1ac370825de8b9960657d9275.bindPopup(popup_de71fcbc8fc28cb67bd67f7fc8534bc0)\n",
       "        ;\n",
       "\n",
       "        \n",
       "    \n",
       "    \n",
       "            var marker_467c102b23da23b5448d4da72feaf84a = L.marker(\n",
       "                [-1.295852, 35.545522],\n",
       "                {}\n",
       "            ).addTo(marker_cluster_a5bea73a68727c555dc8ea5aa816f6a5);\n",
       "        \n",
       "    \n",
       "        var popup_10b639d77247244f82db4eb84bb305eb = L.popup({&quot;maxWidth&quot;: &quot;100%&quot;});\n",
       "\n",
       "        \n",
       "            \n",
       "                var html_8b2a07b1820e81224454f0a0c4543cd9 = $(`&lt;div id=&quot;html_8b2a07b1820e81224454f0a0c4543cd9&quot; style=&quot;width: 100.0%; height: 100.0%;&quot;&gt;Panthera leo (Kenya)&lt;/div&gt;`)[0];\n",
       "                popup_10b639d77247244f82db4eb84bb305eb.setContent(html_8b2a07b1820e81224454f0a0c4543cd9);\n",
       "            \n",
       "        \n",
       "\n",
       "        marker_467c102b23da23b5448d4da72feaf84a.bindPopup(popup_10b639d77247244f82db4eb84bb305eb)\n",
       "        ;\n",
       "\n",
       "        \n",
       "    \n",
       "    \n",
       "            var marker_671c3bda0c1a08057d7b8154d36e831e = L.marker(\n",
       "                [-1.360569, 35.217162],\n",
       "                {}\n",
       "            ).addTo(marker_cluster_a5bea73a68727c555dc8ea5aa816f6a5);\n",
       "        \n",
       "    \n",
       "        var popup_644ab4fec4a5ca53fb1ba29039b85826 = L.popup({&quot;maxWidth&quot;: &quot;100%&quot;});\n",
       "\n",
       "        \n",
       "            \n",
       "                var html_e7ff4a3764093d113fdac02197a1620d = $(`&lt;div id=&quot;html_e7ff4a3764093d113fdac02197a1620d&quot; style=&quot;width: 100.0%; height: 100.0%;&quot;&gt;Panthera leo (Kenya)&lt;/div&gt;`)[0];\n",
       "                popup_644ab4fec4a5ca53fb1ba29039b85826.setContent(html_e7ff4a3764093d113fdac02197a1620d);\n",
       "            \n",
       "        \n",
       "\n",
       "        marker_671c3bda0c1a08057d7b8154d36e831e.bindPopup(popup_644ab4fec4a5ca53fb1ba29039b85826)\n",
       "        ;\n",
       "\n",
       "        \n",
       "    \n",
       "    \n",
       "            var marker_0eac549c0b38480e25cc2a00767ece50 = L.marker(\n",
       "                [-25.392212, 27.181383],\n",
       "                {}\n",
       "            ).addTo(marker_cluster_a5bea73a68727c555dc8ea5aa816f6a5);\n",
       "        \n",
       "    \n",
       "        var popup_f319b5194fced3bdce4e97cab2b610e5 = L.popup({&quot;maxWidth&quot;: &quot;100%&quot;});\n",
       "\n",
       "        \n",
       "            \n",
       "                var html_eaba8648012749c5cc5fb061bcb626fa = $(`&lt;div id=&quot;html_eaba8648012749c5cc5fb061bcb626fa&quot; style=&quot;width: 100.0%; height: 100.0%;&quot;&gt;Panthera leo (South Africa)&lt;/div&gt;`)[0];\n",
       "                popup_f319b5194fced3bdce4e97cab2b610e5.setContent(html_eaba8648012749c5cc5fb061bcb626fa);\n",
       "            \n",
       "        \n",
       "\n",
       "        marker_0eac549c0b38480e25cc2a00767ece50.bindPopup(popup_f319b5194fced3bdce4e97cab2b610e5)\n",
       "        ;\n",
       "\n",
       "        \n",
       "    \n",
       "    \n",
       "            var marker_81769fe71270636db5a47a7641631728 = L.marker(\n",
       "                [-24.27037, 31.663519],\n",
       "                {}\n",
       "            ).addTo(marker_cluster_a5bea73a68727c555dc8ea5aa816f6a5);\n",
       "        \n",
       "    \n",
       "        var popup_d21350b00fb68c7b927a473304b04275 = L.popup({&quot;maxWidth&quot;: &quot;100%&quot;});\n",
       "\n",
       "        \n",
       "            \n",
       "                var html_9efa7cee9a3d98aafa286dc3fa3329ff = $(`&lt;div id=&quot;html_9efa7cee9a3d98aafa286dc3fa3329ff&quot; style=&quot;width: 100.0%; height: 100.0%;&quot;&gt;Panthera leo (South Africa)&lt;/div&gt;`)[0];\n",
       "                popup_d21350b00fb68c7b927a473304b04275.setContent(html_9efa7cee9a3d98aafa286dc3fa3329ff);\n",
       "            \n",
       "        \n",
       "\n",
       "        marker_81769fe71270636db5a47a7641631728.bindPopup(popup_d21350b00fb68c7b927a473304b04275)\n",
       "        ;\n",
       "\n",
       "        \n",
       "    \n",
       "    \n",
       "            var marker_2bb382c209e2560f9e6db3a92e554c7a = L.marker(\n",
       "                [-24.447824, 31.409293],\n",
       "                {}\n",
       "            ).addTo(marker_cluster_a5bea73a68727c555dc8ea5aa816f6a5);\n",
       "        \n",
       "    \n",
       "        var popup_a37038028b8b9aec1e2130f658dd0fe4 = L.popup({&quot;maxWidth&quot;: &quot;100%&quot;});\n",
       "\n",
       "        \n",
       "            \n",
       "                var html_a560904f36828f264aa8fdf0778d0534 = $(`&lt;div id=&quot;html_a560904f36828f264aa8fdf0778d0534&quot; style=&quot;width: 100.0%; height: 100.0%;&quot;&gt;Panthera leo (South Africa)&lt;/div&gt;`)[0];\n",
       "                popup_a37038028b8b9aec1e2130f658dd0fe4.setContent(html_a560904f36828f264aa8fdf0778d0534);\n",
       "            \n",
       "        \n",
       "\n",
       "        marker_2bb382c209e2560f9e6db3a92e554c7a.bindPopup(popup_a37038028b8b9aec1e2130f658dd0fe4)\n",
       "        ;\n",
       "\n",
       "        \n",
       "    \n",
       "    \n",
       "            var marker_3baad679bcce6162ffa2f4da77d710f4 = L.marker(\n",
       "                [-0.153872, 30.097456],\n",
       "                {}\n",
       "            ).addTo(marker_cluster_a5bea73a68727c555dc8ea5aa816f6a5);\n",
       "        \n",
       "    \n",
       "        var popup_e4a25250a2c939d676f49f37a57628e7 = L.popup({&quot;maxWidth&quot;: &quot;100%&quot;});\n",
       "\n",
       "        \n",
       "            \n",
       "                var html_c0af31312bc0e0f8a152f4ae70f3ea1d = $(`&lt;div id=&quot;html_c0af31312bc0e0f8a152f4ae70f3ea1d&quot; style=&quot;width: 100.0%; height: 100.0%;&quot;&gt;Panthera leo (Uganda)&lt;/div&gt;`)[0];\n",
       "                popup_e4a25250a2c939d676f49f37a57628e7.setContent(html_c0af31312bc0e0f8a152f4ae70f3ea1d);\n",
       "            \n",
       "        \n",
       "\n",
       "        marker_3baad679bcce6162ffa2f4da77d710f4.bindPopup(popup_e4a25250a2c939d676f49f37a57628e7)\n",
       "        ;\n",
       "\n",
       "        \n",
       "    \n",
       "    \n",
       "            var marker_ed6bb282610d94d87693a2c09ca5e729 = L.marker(\n",
       "                [-24.903538, 31.703005],\n",
       "                {}\n",
       "            ).addTo(marker_cluster_a5bea73a68727c555dc8ea5aa816f6a5);\n",
       "        \n",
       "    \n",
       "        var popup_cdaf32026505638736936d7e08a17478 = L.popup({&quot;maxWidth&quot;: &quot;100%&quot;});\n",
       "\n",
       "        \n",
       "            \n",
       "                var html_a7e53d2d0db4768c3a4fbe5987bd6b79 = $(`&lt;div id=&quot;html_a7e53d2d0db4768c3a4fbe5987bd6b79&quot; style=&quot;width: 100.0%; height: 100.0%;&quot;&gt;Panthera leo (South Africa)&lt;/div&gt;`)[0];\n",
       "                popup_cdaf32026505638736936d7e08a17478.setContent(html_a7e53d2d0db4768c3a4fbe5987bd6b79);\n",
       "            \n",
       "        \n",
       "\n",
       "        marker_ed6bb282610d94d87693a2c09ca5e729.bindPopup(popup_cdaf32026505638736936d7e08a17478)\n",
       "        ;\n",
       "\n",
       "        \n",
       "    \n",
       "    \n",
       "            var marker_49a1fd6f8819ed6df226e685c26d9aa0 = L.marker(\n",
       "                [-3.375279, 38.549492],\n",
       "                {}\n",
       "            ).addTo(marker_cluster_a5bea73a68727c555dc8ea5aa816f6a5);\n",
       "        \n",
       "    \n",
       "        var popup_13dbc17b916a6d1b29cda69d8690b106 = L.popup({&quot;maxWidth&quot;: &quot;100%&quot;});\n",
       "\n",
       "        \n",
       "            \n",
       "                var html_3173446cef40f2bf27a5172e7a7a5305 = $(`&lt;div id=&quot;html_3173446cef40f2bf27a5172e7a7a5305&quot; style=&quot;width: 100.0%; height: 100.0%;&quot;&gt;Panthera leo (Kenya)&lt;/div&gt;`)[0];\n",
       "                popup_13dbc17b916a6d1b29cda69d8690b106.setContent(html_3173446cef40f2bf27a5172e7a7a5305);\n",
       "            \n",
       "        \n",
       "\n",
       "        marker_49a1fd6f8819ed6df226e685c26d9aa0.bindPopup(popup_13dbc17b916a6d1b29cda69d8690b106)\n",
       "        ;\n",
       "\n",
       "        \n",
       "    \n",
       "    \n",
       "            var marker_78d0047329dc33dc8f92cf06a4b2d81a = L.marker(\n",
       "                [2.480606, 31.402049],\n",
       "                {}\n",
       "            ).addTo(marker_cluster_a5bea73a68727c555dc8ea5aa816f6a5);\n",
       "        \n",
       "    \n",
       "        var popup_dc47f3cebe9471137b191e28d5290342 = L.popup({&quot;maxWidth&quot;: &quot;100%&quot;});\n",
       "\n",
       "        \n",
       "            \n",
       "                var html_a2307139dfd6a88e75260b195526f19a = $(`&lt;div id=&quot;html_a2307139dfd6a88e75260b195526f19a&quot; style=&quot;width: 100.0%; height: 100.0%;&quot;&gt;Loxodonta africana (Uganda)&lt;/div&gt;`)[0];\n",
       "                popup_dc47f3cebe9471137b191e28d5290342.setContent(html_a2307139dfd6a88e75260b195526f19a);\n",
       "            \n",
       "        \n",
       "\n",
       "        marker_78d0047329dc33dc8f92cf06a4b2d81a.bindPopup(popup_dc47f3cebe9471137b191e28d5290342)\n",
       "        ;\n",
       "\n",
       "        \n",
       "    \n",
       "    \n",
       "            var marker_a7962054e83dd4fb08aa97a680db75de = L.marker(\n",
       "                [-33.26793, 26.106231],\n",
       "                {}\n",
       "            ).addTo(marker_cluster_a5bea73a68727c555dc8ea5aa816f6a5);\n",
       "        \n",
       "    \n",
       "        var popup_69232e211f62d03ed9c812c5105cd80a = L.popup({&quot;maxWidth&quot;: &quot;100%&quot;});\n",
       "\n",
       "        \n",
       "            \n",
       "                var html_ab7f909d429c38224a983521db1f9c50 = $(`&lt;div id=&quot;html_ab7f909d429c38224a983521db1f9c50&quot; style=&quot;width: 100.0%; height: 100.0%;&quot;&gt;Loxodonta africana (South Africa)&lt;/div&gt;`)[0];\n",
       "                popup_69232e211f62d03ed9c812c5105cd80a.setContent(html_ab7f909d429c38224a983521db1f9c50);\n",
       "            \n",
       "        \n",
       "\n",
       "        marker_a7962054e83dd4fb08aa97a680db75de.bindPopup(popup_69232e211f62d03ed9c812c5105cd80a)\n",
       "        ;\n",
       "\n",
       "        \n",
       "    \n",
       "    \n",
       "            var marker_c8deea6619122bb95839223bf9c1499b = L.marker(\n",
       "                [-3.660996, 36.025411],\n",
       "                {}\n",
       "            ).addTo(marker_cluster_a5bea73a68727c555dc8ea5aa816f6a5);\n",
       "        \n",
       "    \n",
       "        var popup_ecf347695ab8348c87dbb3f642930480 = L.popup({&quot;maxWidth&quot;: &quot;100%&quot;});\n",
       "\n",
       "        \n",
       "            \n",
       "                var html_d0ef2d0a27d4d197e08b6c1b535835a2 = $(`&lt;div id=&quot;html_d0ef2d0a27d4d197e08b6c1b535835a2&quot; style=&quot;width: 100.0%; height: 100.0%;&quot;&gt;Loxodonta africana (Tanzania, United Republic of)&lt;/div&gt;`)[0];\n",
       "                popup_ecf347695ab8348c87dbb3f642930480.setContent(html_d0ef2d0a27d4d197e08b6c1b535835a2);\n",
       "            \n",
       "        \n",
       "\n",
       "        marker_c8deea6619122bb95839223bf9c1499b.bindPopup(popup_ecf347695ab8348c87dbb3f642930480)\n",
       "        ;\n",
       "\n",
       "        \n",
       "    \n",
       "    \n",
       "            var marker_dc5303158c084204f8e23172dd6515a4 = L.marker(\n",
       "                [0.653664, 37.409669],\n",
       "                {}\n",
       "            ).addTo(marker_cluster_a5bea73a68727c555dc8ea5aa816f6a5);\n",
       "        \n",
       "    \n",
       "        var popup_1a3b20b62ba243e2ced56bc8398821b5 = L.popup({&quot;maxWidth&quot;: &quot;100%&quot;});\n",
       "\n",
       "        \n",
       "            \n",
       "                var html_04b40a79f55a11ab447d48e14295cfe6 = $(`&lt;div id=&quot;html_04b40a79f55a11ab447d48e14295cfe6&quot; style=&quot;width: 100.0%; height: 100.0%;&quot;&gt;Loxodonta africana (Kenya)&lt;/div&gt;`)[0];\n",
       "                popup_1a3b20b62ba243e2ced56bc8398821b5.setContent(html_04b40a79f55a11ab447d48e14295cfe6);\n",
       "            \n",
       "        \n",
       "\n",
       "        marker_dc5303158c084204f8e23172dd6515a4.bindPopup(popup_1a3b20b62ba243e2ced56bc8398821b5)\n",
       "        ;\n",
       "\n",
       "        \n",
       "    \n",
       "    \n",
       "            var marker_06ba01a7138c02f5a8390a61f45973fb = L.marker(\n",
       "                [-33.609921, 25.809251],\n",
       "                {}\n",
       "            ).addTo(marker_cluster_a5bea73a68727c555dc8ea5aa816f6a5);\n",
       "        \n",
       "    \n",
       "        var popup_8ee6b53c9a8181c0bbc56d7c0e1b85f0 = L.popup({&quot;maxWidth&quot;: &quot;100%&quot;});\n",
       "\n",
       "        \n",
       "            \n",
       "                var html_8226e24cdd19d4a7e0e92618df15384e = $(`&lt;div id=&quot;html_8226e24cdd19d4a7e0e92618df15384e&quot; style=&quot;width: 100.0%; height: 100.0%;&quot;&gt;Loxodonta africana (South Africa)&lt;/div&gt;`)[0];\n",
       "                popup_8ee6b53c9a8181c0bbc56d7c0e1b85f0.setContent(html_8226e24cdd19d4a7e0e92618df15384e);\n",
       "            \n",
       "        \n",
       "\n",
       "        marker_06ba01a7138c02f5a8390a61f45973fb.bindPopup(popup_8ee6b53c9a8181c0bbc56d7c0e1b85f0)\n",
       "        ;\n",
       "\n",
       "        \n",
       "    \n",
       "    \n",
       "            var marker_3ee10ebcdc8ed78fb0e4780a3ac392b2 = L.marker(\n",
       "                [-25.554316, 31.579966],\n",
       "                {}\n",
       "            ).addTo(marker_cluster_a5bea73a68727c555dc8ea5aa816f6a5);\n",
       "        \n",
       "    \n",
       "        var popup_f8552d01975f3066d64cfc65137b1e01 = L.popup({&quot;maxWidth&quot;: &quot;100%&quot;});\n",
       "\n",
       "        \n",
       "            \n",
       "                var html_1f9f6058afba2b04c848b1839ea22884 = $(`&lt;div id=&quot;html_1f9f6058afba2b04c848b1839ea22884&quot; style=&quot;width: 100.0%; height: 100.0%;&quot;&gt;Loxodonta africana (South Africa)&lt;/div&gt;`)[0];\n",
       "                popup_f8552d01975f3066d64cfc65137b1e01.setContent(html_1f9f6058afba2b04c848b1839ea22884);\n",
       "            \n",
       "        \n",
       "\n",
       "        marker_3ee10ebcdc8ed78fb0e4780a3ac392b2.bindPopup(popup_f8552d01975f3066d64cfc65137b1e01)\n",
       "        ;\n",
       "\n",
       "        \n",
       "    \n",
       "    \n",
       "            var marker_47183148db966ad7ee2ea9bb0a6991a0 = L.marker(\n",
       "                [-33.766606, 25.802123],\n",
       "                {}\n",
       "            ).addTo(marker_cluster_a5bea73a68727c555dc8ea5aa816f6a5);\n",
       "        \n",
       "    \n",
       "        var popup_f9ab886740a6c6ed795885a5caead965 = L.popup({&quot;maxWidth&quot;: &quot;100%&quot;});\n",
       "\n",
       "        \n",
       "            \n",
       "                var html_0e260fb3ee546c3599f1ed8fa9b425ab = $(`&lt;div id=&quot;html_0e260fb3ee546c3599f1ed8fa9b425ab&quot; style=&quot;width: 100.0%; height: 100.0%;&quot;&gt;Loxodonta africana (South Africa)&lt;/div&gt;`)[0];\n",
       "                popup_f9ab886740a6c6ed795885a5caead965.setContent(html_0e260fb3ee546c3599f1ed8fa9b425ab);\n",
       "            \n",
       "        \n",
       "\n",
       "        marker_47183148db966ad7ee2ea9bb0a6991a0.bindPopup(popup_f9ab886740a6c6ed795885a5caead965)\n",
       "        ;\n",
       "\n",
       "        \n",
       "    \n",
       "    \n",
       "            var marker_d1e8436ba55550cc2da671eb04cf3f87 = L.marker(\n",
       "                [-24.38134, 31.651607],\n",
       "                {}\n",
       "            ).addTo(marker_cluster_a5bea73a68727c555dc8ea5aa816f6a5);\n",
       "        \n",
       "    \n",
       "        var popup_9d1e4abc5bf71ea608b063b39990413e = L.popup({&quot;maxWidth&quot;: &quot;100%&quot;});\n",
       "\n",
       "        \n",
       "            \n",
       "                var html_0d4b1a97dc24e9130e06d6436453e8bd = $(`&lt;div id=&quot;html_0d4b1a97dc24e9130e06d6436453e8bd&quot; style=&quot;width: 100.0%; height: 100.0%;&quot;&gt;Loxodonta africana (South Africa)&lt;/div&gt;`)[0];\n",
       "                popup_9d1e4abc5bf71ea608b063b39990413e.setContent(html_0d4b1a97dc24e9130e06d6436453e8bd);\n",
       "            \n",
       "        \n",
       "\n",
       "        marker_d1e8436ba55550cc2da671eb04cf3f87.bindPopup(popup_9d1e4abc5bf71ea608b063b39990413e)\n",
       "        ;\n",
       "\n",
       "        \n",
       "    \n",
       "    \n",
       "            var marker_8cc9fa2b0fdd9ccca24da74b1e2a8198 = L.marker(\n",
       "                [-0.154278, 29.834738],\n",
       "                {}\n",
       "            ).addTo(marker_cluster_a5bea73a68727c555dc8ea5aa816f6a5);\n",
       "        \n",
       "    \n",
       "        var popup_e0cc893fc63e61781be78325daf00845 = L.popup({&quot;maxWidth&quot;: &quot;100%&quot;});\n",
       "\n",
       "        \n",
       "            \n",
       "                var html_9e87cd28a1b5065781fa17514d7d14ad = $(`&lt;div id=&quot;html_9e87cd28a1b5065781fa17514d7d14ad&quot; style=&quot;width: 100.0%; height: 100.0%;&quot;&gt;Loxodonta africana (Uganda)&lt;/div&gt;`)[0];\n",
       "                popup_e0cc893fc63e61781be78325daf00845.setContent(html_9e87cd28a1b5065781fa17514d7d14ad);\n",
       "            \n",
       "        \n",
       "\n",
       "        marker_8cc9fa2b0fdd9ccca24da74b1e2a8198.bindPopup(popup_e0cc893fc63e61781be78325daf00845)\n",
       "        ;\n",
       "\n",
       "        \n",
       "    \n",
       "    \n",
       "            var marker_943a91ad214171c3a574aefca788ac50 = L.marker(\n",
       "                [-20.230684, 32.267206],\n",
       "                {}\n",
       "            ).addTo(marker_cluster_a5bea73a68727c555dc8ea5aa816f6a5);\n",
       "        \n",
       "    \n",
       "        var popup_28c3a08439c9a49b4e98e6374a8e3b80 = L.popup({&quot;maxWidth&quot;: &quot;100%&quot;});\n",
       "\n",
       "        \n",
       "            \n",
       "                var html_a6688bff9309ab59acd11d25bd36c6d8 = $(`&lt;div id=&quot;html_a6688bff9309ab59acd11d25bd36c6d8&quot; style=&quot;width: 100.0%; height: 100.0%;&quot;&gt;Loxodonta africana (Zimbabwe)&lt;/div&gt;`)[0];\n",
       "                popup_28c3a08439c9a49b4e98e6374a8e3b80.setContent(html_a6688bff9309ab59acd11d25bd36c6d8);\n",
       "            \n",
       "        \n",
       "\n",
       "        marker_943a91ad214171c3a574aefca788ac50.bindPopup(popup_28c3a08439c9a49b4e98e6374a8e3b80)\n",
       "        ;\n",
       "\n",
       "        \n",
       "    \n",
       "    \n",
       "            var marker_058a169c17bfb59e2897086cb26eef07 = L.marker(\n",
       "                [6.813884, 81.718309],\n",
       "                {}\n",
       "            ).addTo(marker_cluster_a5bea73a68727c555dc8ea5aa816f6a5);\n",
       "        \n",
       "    \n",
       "        var popup_801175139fe3dfea51ffa8cad7e58934 = L.popup({&quot;maxWidth&quot;: &quot;100%&quot;});\n",
       "\n",
       "        \n",
       "            \n",
       "                var html_1095d077c5e36c66f5cb30eac8170ac8 = $(`&lt;div id=&quot;html_1095d077c5e36c66f5cb30eac8170ac8&quot; style=&quot;width: 100.0%; height: 100.0%;&quot;&gt;Elephas maximus (Sri Lanka)&lt;/div&gt;`)[0];\n",
       "                popup_801175139fe3dfea51ffa8cad7e58934.setContent(html_1095d077c5e36c66f5cb30eac8170ac8);\n",
       "            \n",
       "        \n",
       "\n",
       "        marker_058a169c17bfb59e2897086cb26eef07.bindPopup(popup_801175139fe3dfea51ffa8cad7e58934)\n",
       "        ;\n",
       "\n",
       "        \n",
       "    \n",
       "    \n",
       "            var marker_f59b1ad1bc1e9923796d865df82fcf20 = L.marker(\n",
       "                [14.297429, 101.393064],\n",
       "                {}\n",
       "            ).addTo(marker_cluster_a5bea73a68727c555dc8ea5aa816f6a5);\n",
       "        \n",
       "    \n",
       "        var popup_34799c578af4f56f1ec6b5169968c8f5 = L.popup({&quot;maxWidth&quot;: &quot;100%&quot;});\n",
       "\n",
       "        \n",
       "            \n",
       "                var html_09664829b116fc0de6e9604417da7be4 = $(`&lt;div id=&quot;html_09664829b116fc0de6e9604417da7be4&quot; style=&quot;width: 100.0%; height: 100.0%;&quot;&gt;Elephas maximus (Thailand)&lt;/div&gt;`)[0];\n",
       "                popup_34799c578af4f56f1ec6b5169968c8f5.setContent(html_09664829b116fc0de6e9604417da7be4);\n",
       "            \n",
       "        \n",
       "\n",
       "        marker_f59b1ad1bc1e9923796d865df82fcf20.bindPopup(popup_34799c578af4f56f1ec6b5169968c8f5)\n",
       "        ;\n",
       "\n",
       "        \n",
       "    \n",
       "    \n",
       "            var marker_0a3173f58ff9b6597f33ddbcf96bd858 = L.marker(\n",
       "                [6.27211, 81.41155],\n",
       "                {}\n",
       "            ).addTo(marker_cluster_a5bea73a68727c555dc8ea5aa816f6a5);\n",
       "        \n",
       "    \n",
       "        var popup_3f9532d636b5215cb774623ab2816f70 = L.popup({&quot;maxWidth&quot;: &quot;100%&quot;});\n",
       "\n",
       "        \n",
       "            \n",
       "                var html_74baad2580f895d034d8640c2fbddf4d = $(`&lt;div id=&quot;html_74baad2580f895d034d8640c2fbddf4d&quot; style=&quot;width: 100.0%; height: 100.0%;&quot;&gt;Elephas maximus (Sri Lanka)&lt;/div&gt;`)[0];\n",
       "                popup_3f9532d636b5215cb774623ab2816f70.setContent(html_74baad2580f895d034d8640c2fbddf4d);\n",
       "            \n",
       "        \n",
       "\n",
       "        marker_0a3173f58ff9b6597f33ddbcf96bd858.bindPopup(popup_3f9532d636b5215cb774623ab2816f70)\n",
       "        ;\n",
       "\n",
       "        \n",
       "    \n",
       "    \n",
       "            var marker_7185b622bad480987f08d42b7e3c1e34 = L.marker(\n",
       "                [6.586871, 80.981856],\n",
       "                {}\n",
       "            ).addTo(marker_cluster_a5bea73a68727c555dc8ea5aa816f6a5);\n",
       "        \n",
       "    \n",
       "        var popup_3f7172a6fc52ad5b5217f288b43f4297 = L.popup({&quot;maxWidth&quot;: &quot;100%&quot;});\n",
       "\n",
       "        \n",
       "            \n",
       "                var html_7b171aa18c80a7236677f13898d7fe41 = $(`&lt;div id=&quot;html_7b171aa18c80a7236677f13898d7fe41&quot; style=&quot;width: 100.0%; height: 100.0%;&quot;&gt;Elephas maximus (Sri Lanka)&lt;/div&gt;`)[0];\n",
       "                popup_3f7172a6fc52ad5b5217f288b43f4297.setContent(html_7b171aa18c80a7236677f13898d7fe41);\n",
       "            \n",
       "        \n",
       "\n",
       "        marker_7185b622bad480987f08d42b7e3c1e34.bindPopup(popup_3f7172a6fc52ad5b5217f288b43f4297)\n",
       "        ;\n",
       "\n",
       "        \n",
       "    \n",
       "    \n",
       "            var marker_cad3248251bc94125c785ba8d5e3486d = L.marker(\n",
       "                [6.42232, 80.822843],\n",
       "                {}\n",
       "            ).addTo(marker_cluster_a5bea73a68727c555dc8ea5aa816f6a5);\n",
       "        \n",
       "    \n",
       "        var popup_232c5b769a79b031dc64423c42ee49c3 = L.popup({&quot;maxWidth&quot;: &quot;100%&quot;});\n",
       "\n",
       "        \n",
       "            \n",
       "                var html_cad5d820aadbeb1debc9658b28752546 = $(`&lt;div id=&quot;html_cad5d820aadbeb1debc9658b28752546&quot; style=&quot;width: 100.0%; height: 100.0%;&quot;&gt;Elephas maximus (Sri Lanka)&lt;/div&gt;`)[0];\n",
       "                popup_232c5b769a79b031dc64423c42ee49c3.setContent(html_cad5d820aadbeb1debc9658b28752546);\n",
       "            \n",
       "        \n",
       "\n",
       "        marker_cad3248251bc94125c785ba8d5e3486d.bindPopup(popup_232c5b769a79b031dc64423c42ee49c3)\n",
       "        ;\n",
       "\n",
       "        \n",
       "    \n",
       "    \n",
       "            var marker_a035bbf5faf354d3aa4534f4769e6137 = L.marker(\n",
       "                [6.540578, 80.963843],\n",
       "                {}\n",
       "            ).addTo(marker_cluster_a5bea73a68727c555dc8ea5aa816f6a5);\n",
       "        \n",
       "    \n",
       "        var popup_77a330d96befeacf0674abf068e25038 = L.popup({&quot;maxWidth&quot;: &quot;100%&quot;});\n",
       "\n",
       "        \n",
       "            \n",
       "                var html_697c89fa187913575deb305c0e01acce = $(`&lt;div id=&quot;html_697c89fa187913575deb305c0e01acce&quot; style=&quot;width: 100.0%; height: 100.0%;&quot;&gt;Elephas maximus (Sri Lanka)&lt;/div&gt;`)[0];\n",
       "                popup_77a330d96befeacf0674abf068e25038.setContent(html_697c89fa187913575deb305c0e01acce);\n",
       "            \n",
       "        \n",
       "\n",
       "        marker_a035bbf5faf354d3aa4534f4769e6137.bindPopup(popup_77a330d96befeacf0674abf068e25038)\n",
       "        ;\n",
       "\n",
       "        \n",
       "    \n",
       "    \n",
       "            var marker_123e852a1fbf1e7ca99d0b73ac1ea70b = L.marker(\n",
       "                [6.531267, 80.836623],\n",
       "                {}\n",
       "            ).addTo(marker_cluster_a5bea73a68727c555dc8ea5aa816f6a5);\n",
       "        \n",
       "    \n",
       "        var popup_00e61ebf02997bb3a60aa605664b542b = L.popup({&quot;maxWidth&quot;: &quot;100%&quot;});\n",
       "\n",
       "        \n",
       "            \n",
       "                var html_6cfdd83b1ec97bb36e3b4ef1ad9df59d = $(`&lt;div id=&quot;html_6cfdd83b1ec97bb36e3b4ef1ad9df59d&quot; style=&quot;width: 100.0%; height: 100.0%;&quot;&gt;Elephas maximus (Sri Lanka)&lt;/div&gt;`)[0];\n",
       "                popup_00e61ebf02997bb3a60aa605664b542b.setContent(html_6cfdd83b1ec97bb36e3b4ef1ad9df59d);\n",
       "            \n",
       "        \n",
       "\n",
       "        marker_123e852a1fbf1e7ca99d0b73ac1ea70b.bindPopup(popup_00e61ebf02997bb3a60aa605664b542b)\n",
       "        ;\n",
       "\n",
       "        \n",
       "    \n",
       "    \n",
       "            var marker_917a82243c5c6b900e36ca5750acbd46 = L.marker(\n",
       "                [6.587899, 80.820662],\n",
       "                {}\n",
       "            ).addTo(marker_cluster_a5bea73a68727c555dc8ea5aa816f6a5);\n",
       "        \n",
       "    \n",
       "        var popup_fd6b9fcf859601c22d71295769eeeec1 = L.popup({&quot;maxWidth&quot;: &quot;100%&quot;});\n",
       "\n",
       "        \n",
       "            \n",
       "                var html_e5ece016f6a6a323b616fee5d01fa6bb = $(`&lt;div id=&quot;html_e5ece016f6a6a323b616fee5d01fa6bb&quot; style=&quot;width: 100.0%; height: 100.0%;&quot;&gt;Elephas maximus (Sri Lanka)&lt;/div&gt;`)[0];\n",
       "                popup_fd6b9fcf859601c22d71295769eeeec1.setContent(html_e5ece016f6a6a323b616fee5d01fa6bb);\n",
       "            \n",
       "        \n",
       "\n",
       "        marker_917a82243c5c6b900e36ca5750acbd46.bindPopup(popup_fd6b9fcf859601c22d71295769eeeec1)\n",
       "        ;\n",
       "\n",
       "        \n",
       "    \n",
       "    \n",
       "            var marker_8732aac88f129889febb36ad0b40ee78 = L.marker(\n",
       "                [6.467912, 80.995441],\n",
       "                {}\n",
       "            ).addTo(marker_cluster_a5bea73a68727c555dc8ea5aa816f6a5);\n",
       "        \n",
       "    \n",
       "        var popup_351dc1f4bc8161209c4af0b96424f056 = L.popup({&quot;maxWidth&quot;: &quot;100%&quot;});\n",
       "\n",
       "        \n",
       "            \n",
       "                var html_3356f7e7d2dcbc378fe6fc7c4d407bcb = $(`&lt;div id=&quot;html_3356f7e7d2dcbc378fe6fc7c4d407bcb&quot; style=&quot;width: 100.0%; height: 100.0%;&quot;&gt;Elephas maximus (Sri Lanka)&lt;/div&gt;`)[0];\n",
       "                popup_351dc1f4bc8161209c4af0b96424f056.setContent(html_3356f7e7d2dcbc378fe6fc7c4d407bcb);\n",
       "            \n",
       "        \n",
       "\n",
       "        marker_8732aac88f129889febb36ad0b40ee78.bindPopup(popup_351dc1f4bc8161209c4af0b96424f056)\n",
       "        ;\n",
       "\n",
       "        \n",
       "    \n",
       "    \n",
       "            var marker_ae77b2c6e3e99f63d37cc292ea42163e = L.marker(\n",
       "                [6.414432, 80.930327],\n",
       "                {}\n",
       "            ).addTo(marker_cluster_a5bea73a68727c555dc8ea5aa816f6a5);\n",
       "        \n",
       "    \n",
       "        var popup_e433266ec21f4e7478f40c7d03bd19d3 = L.popup({&quot;maxWidth&quot;: &quot;100%&quot;});\n",
       "\n",
       "        \n",
       "            \n",
       "                var html_f84538fe67f19197b9003bc7034f0f22 = $(`&lt;div id=&quot;html_f84538fe67f19197b9003bc7034f0f22&quot; style=&quot;width: 100.0%; height: 100.0%;&quot;&gt;Elephas maximus (Sri Lanka)&lt;/div&gt;`)[0];\n",
       "                popup_e433266ec21f4e7478f40c7d03bd19d3.setContent(html_f84538fe67f19197b9003bc7034f0f22);\n",
       "            \n",
       "        \n",
       "\n",
       "        marker_ae77b2c6e3e99f63d37cc292ea42163e.bindPopup(popup_e433266ec21f4e7478f40c7d03bd19d3)\n",
       "        ;\n",
       "\n",
       "        \n",
       "    \n",
       "    \n",
       "            var marker_755b8857b19c59c3957bda6a21a0d3fe = L.marker(\n",
       "                [-0.947826, 29.795585],\n",
       "                {}\n",
       "            ).addTo(marker_cluster_a5bea73a68727c555dc8ea5aa816f6a5);\n",
       "        \n",
       "    \n",
       "        var popup_9825a7d9f1c8d2252cc4f715b9d26023 = L.popup({&quot;maxWidth&quot;: &quot;100%&quot;});\n",
       "\n",
       "        \n",
       "            \n",
       "                var html_bcc853073d6bde091648ccbb8761990a = $(`&lt;div id=&quot;html_bcc853073d6bde091648ccbb8761990a&quot; style=&quot;width: 100.0%; height: 100.0%;&quot;&gt;Gorilla beringei (Uganda)&lt;/div&gt;`)[0];\n",
       "                popup_9825a7d9f1c8d2252cc4f715b9d26023.setContent(html_bcc853073d6bde091648ccbb8761990a);\n",
       "            \n",
       "        \n",
       "\n",
       "        marker_755b8857b19c59c3957bda6a21a0d3fe.bindPopup(popup_9825a7d9f1c8d2252cc4f715b9d26023)\n",
       "        ;\n",
       "\n",
       "        \n",
       "    \n",
       "    \n",
       "            var marker_b4e21de57b79c25751554e181def9959 = L.marker(\n",
       "                [-1.493261, 29.470509],\n",
       "                {}\n",
       "            ).addTo(marker_cluster_a5bea73a68727c555dc8ea5aa816f6a5);\n",
       "        \n",
       "    \n",
       "        var popup_ba9d8a3639be463b315d3ff9e715e4c4 = L.popup({&quot;maxWidth&quot;: &quot;100%&quot;});\n",
       "\n",
       "        \n",
       "            \n",
       "                var html_3d8ae2adf3c925d1c556a6d0c41f6632 = $(`&lt;div id=&quot;html_3d8ae2adf3c925d1c556a6d0c41f6632&quot; style=&quot;width: 100.0%; height: 100.0%;&quot;&gt;Gorilla beringei (Rwanda)&lt;/div&gt;`)[0];\n",
       "                popup_ba9d8a3639be463b315d3ff9e715e4c4.setContent(html_3d8ae2adf3c925d1c556a6d0c41f6632);\n",
       "            \n",
       "        \n",
       "\n",
       "        marker_b4e21de57b79c25751554e181def9959.bindPopup(popup_ba9d8a3639be463b315d3ff9e715e4c4)\n",
       "        ;\n",
       "\n",
       "        \n",
       "    \n",
       "    \n",
       "            var marker_7fcfc9870defcb11ca83d50abae455ff = L.marker(\n",
       "                [-0.945653, 29.627034],\n",
       "                {}\n",
       "            ).addTo(marker_cluster_a5bea73a68727c555dc8ea5aa816f6a5);\n",
       "        \n",
       "    \n",
       "        var popup_e39676c80da6b4eff7479399b9ffee24 = L.popup({&quot;maxWidth&quot;: &quot;100%&quot;});\n",
       "\n",
       "        \n",
       "            \n",
       "                var html_6eada591092d12f96f454282f16c60d8 = $(`&lt;div id=&quot;html_6eada591092d12f96f454282f16c60d8&quot; style=&quot;width: 100.0%; height: 100.0%;&quot;&gt;Gorilla beringei (Uganda)&lt;/div&gt;`)[0];\n",
       "                popup_e39676c80da6b4eff7479399b9ffee24.setContent(html_6eada591092d12f96f454282f16c60d8);\n",
       "            \n",
       "        \n",
       "\n",
       "        marker_7fcfc9870defcb11ca83d50abae455ff.bindPopup(popup_e39676c80da6b4eff7479399b9ffee24)\n",
       "        ;\n",
       "\n",
       "        \n",
       "    \n",
       "    \n",
       "            var marker_f063f7f9f700c3b6b08a9aa35bef6509 = L.marker(\n",
       "                [-1.195317, 29.694939],\n",
       "                {}\n",
       "            ).addTo(marker_cluster_a5bea73a68727c555dc8ea5aa816f6a5);\n",
       "        \n",
       "    \n",
       "        var popup_481b360b4abfb2fedc63066291165b40 = L.popup({&quot;maxWidth&quot;: &quot;100%&quot;});\n",
       "\n",
       "        \n",
       "            \n",
       "                var html_df968f1824423d47f68400d000fc04c1 = $(`&lt;div id=&quot;html_df968f1824423d47f68400d000fc04c1&quot; style=&quot;width: 100.0%; height: 100.0%;&quot;&gt;Gorilla beringei (Uganda)&lt;/div&gt;`)[0];\n",
       "                popup_481b360b4abfb2fedc63066291165b40.setContent(html_df968f1824423d47f68400d000fc04c1);\n",
       "            \n",
       "        \n",
       "\n",
       "        marker_f063f7f9f700c3b6b08a9aa35bef6509.bindPopup(popup_481b360b4abfb2fedc63066291165b40)\n",
       "        ;\n",
       "\n",
       "        \n",
       "    \n",
       "    \n",
       "            var marker_6aa3853982028d8afd69f99c1f7f56ca = L.marker(\n",
       "                [-1.539066, 29.559748],\n",
       "                {}\n",
       "            ).addTo(marker_cluster_a5bea73a68727c555dc8ea5aa816f6a5);\n",
       "        \n",
       "    \n",
       "        var popup_de2014f911f53f828e4112576bff633e = L.popup({&quot;maxWidth&quot;: &quot;100%&quot;});\n",
       "\n",
       "        \n",
       "            \n",
       "                var html_56192f00cb1ce6304d088a93d149baca = $(`&lt;div id=&quot;html_56192f00cb1ce6304d088a93d149baca&quot; style=&quot;width: 100.0%; height: 100.0%;&quot;&gt;Gorilla beringei (Rwanda)&lt;/div&gt;`)[0];\n",
       "                popup_de2014f911f53f828e4112576bff633e.setContent(html_56192f00cb1ce6304d088a93d149baca);\n",
       "            \n",
       "        \n",
       "\n",
       "        marker_6aa3853982028d8afd69f99c1f7f56ca.bindPopup(popup_de2014f911f53f828e4112576bff633e)\n",
       "        ;\n",
       "\n",
       "        \n",
       "    \n",
       "    \n",
       "            var marker_c3a0145d9eb074f11ed27c05b178519e = L.marker(\n",
       "                [-1.555803, 29.53221],\n",
       "                {}\n",
       "            ).addTo(marker_cluster_a5bea73a68727c555dc8ea5aa816f6a5);\n",
       "        \n",
       "    \n",
       "        var popup_dac37ac78c05ba0ec81dfc357ff1dd52 = L.popup({&quot;maxWidth&quot;: &quot;100%&quot;});\n",
       "\n",
       "        \n",
       "            \n",
       "                var html_523540339c4e04c15fe8640400a14b3d = $(`&lt;div id=&quot;html_523540339c4e04c15fe8640400a14b3d&quot; style=&quot;width: 100.0%; height: 100.0%;&quot;&gt;Gorilla beringei (Rwanda)&lt;/div&gt;`)[0];\n",
       "                popup_dac37ac78c05ba0ec81dfc357ff1dd52.setContent(html_523540339c4e04c15fe8640400a14b3d);\n",
       "            \n",
       "        \n",
       "\n",
       "        marker_c3a0145d9eb074f11ed27c05b178519e.bindPopup(popup_dac37ac78c05ba0ec81dfc357ff1dd52)\n",
       "        ;\n",
       "\n",
       "        \n",
       "    \n",
       "    \n",
       "            var marker_4a1a4362178fb14ebc17cba8dd99df36 = L.marker(\n",
       "                [-1.169111, 29.917097],\n",
       "                {}\n",
       "            ).addTo(marker_cluster_a5bea73a68727c555dc8ea5aa816f6a5);\n",
       "        \n",
       "    \n",
       "        var popup_abf0c088b744c9e90445432d866f6ffb = L.popup({&quot;maxWidth&quot;: &quot;100%&quot;});\n",
       "\n",
       "        \n",
       "            \n",
       "                var html_04fd21d1988dfc5f52b85e392b26f76e = $(`&lt;div id=&quot;html_04fd21d1988dfc5f52b85e392b26f76e&quot; style=&quot;width: 100.0%; height: 100.0%;&quot;&gt;Gorilla beringei (Uganda)&lt;/div&gt;`)[0];\n",
       "                popup_abf0c088b744c9e90445432d866f6ffb.setContent(html_04fd21d1988dfc5f52b85e392b26f76e);\n",
       "            \n",
       "        \n",
       "\n",
       "        marker_4a1a4362178fb14ebc17cba8dd99df36.bindPopup(popup_abf0c088b744c9e90445432d866f6ffb)\n",
       "        ;\n",
       "\n",
       "        \n",
       "    \n",
       "    \n",
       "            var marker_6e73d8882dcd640d3718b46e5132f0c4 = L.marker(\n",
       "                [-1.070887, 29.605779],\n",
       "                {}\n",
       "            ).addTo(marker_cluster_a5bea73a68727c555dc8ea5aa816f6a5);\n",
       "        \n",
       "    \n",
       "        var popup_c44a00dd9777dbea0326d14849750e02 = L.popup({&quot;maxWidth&quot;: &quot;100%&quot;});\n",
       "\n",
       "        \n",
       "            \n",
       "                var html_e428d4db3d4d004091bd7bc130a0b44b = $(`&lt;div id=&quot;html_e428d4db3d4d004091bd7bc130a0b44b&quot; style=&quot;width: 100.0%; height: 100.0%;&quot;&gt;Gorilla beringei (Uganda)&lt;/div&gt;`)[0];\n",
       "                popup_c44a00dd9777dbea0326d14849750e02.setContent(html_e428d4db3d4d004091bd7bc130a0b44b);\n",
       "            \n",
       "        \n",
       "\n",
       "        marker_6e73d8882dcd640d3718b46e5132f0c4.bindPopup(popup_c44a00dd9777dbea0326d14849750e02)\n",
       "        ;\n",
       "\n",
       "        \n",
       "    \n",
       "    \n",
       "            var marker_5e9a0a4b949477891fd4097e9f54e340 = L.marker(\n",
       "                [-1.009696, 29.671028],\n",
       "                {}\n",
       "            ).addTo(marker_cluster_a5bea73a68727c555dc8ea5aa816f6a5);\n",
       "        \n",
       "    \n",
       "        var popup_a3743cf1eb32aa5f08e01fa81ec1cc10 = L.popup({&quot;maxWidth&quot;: &quot;100%&quot;});\n",
       "\n",
       "        \n",
       "            \n",
       "                var html_bdb94caaf5a1f05a12928006aa44ff38 = $(`&lt;div id=&quot;html_bdb94caaf5a1f05a12928006aa44ff38&quot; style=&quot;width: 100.0%; height: 100.0%;&quot;&gt;Gorilla beringei (Uganda)&lt;/div&gt;`)[0];\n",
       "                popup_a3743cf1eb32aa5f08e01fa81ec1cc10.setContent(html_bdb94caaf5a1f05a12928006aa44ff38);\n",
       "            \n",
       "        \n",
       "\n",
       "        marker_5e9a0a4b949477891fd4097e9f54e340.bindPopup(popup_a3743cf1eb32aa5f08e01fa81ec1cc10)\n",
       "        ;\n",
       "\n",
       "        \n",
       "    \n",
       "    \n",
       "            var marker_b0564396fa13777ad4d3bc700c84a8ac = L.marker(\n",
       "                [-0.838708, 29.69417],\n",
       "                {}\n",
       "            ).addTo(marker_cluster_a5bea73a68727c555dc8ea5aa816f6a5);\n",
       "        \n",
       "    \n",
       "        var popup_0a4064c949c3dabe2f9f0b6d52c265db = L.popup({&quot;maxWidth&quot;: &quot;100%&quot;});\n",
       "\n",
       "        \n",
       "            \n",
       "                var html_bc429fd4e8fd814b8dea8b843c80ef1c = $(`&lt;div id=&quot;html_bc429fd4e8fd814b8dea8b843c80ef1c&quot; style=&quot;width: 100.0%; height: 100.0%;&quot;&gt;Gorilla beringei (Uganda)&lt;/div&gt;`)[0];\n",
       "                popup_0a4064c949c3dabe2f9f0b6d52c265db.setContent(html_bc429fd4e8fd814b8dea8b843c80ef1c);\n",
       "            \n",
       "        \n",
       "\n",
       "        marker_b0564396fa13777ad4d3bc700c84a8ac.bindPopup(popup_0a4064c949c3dabe2f9f0b6d52c265db)\n",
       "        ;\n",
       "\n",
       "        \n",
       "    \n",
       "    \n",
       "            marker_cluster_a5bea73a68727c555dc8ea5aa816f6a5.addTo(map_c40d522cadbd2c62857298ac8fb55cbc);\n",
       "        \n",
       "&lt;/script&gt;\n",
       "&lt;/html&gt;\" style=\"position:absolute;width:100%;height:100%;left:0;top:0;border:none !important;\" allowfullscreen webkitallowfullscreen mozallowfullscreen></iframe></div></div>"
      ],
      "text/plain": [
       "<folium.folium.Map at 0x7b1688d899c0>"
      ]
     },
     "execution_count": 98,
     "metadata": {},
     "output_type": "execute_result"
    }
   ],
   "source": [
    "import folium\n",
    "from folium.plugins import MarkerCluster\n",
    "\n",
    "# Create a map centered around Africa (since many species seem to be there)\n",
    "species_map = folium.Map(location=[0, 30], zoom_start=4)\n",
    "\n",
    "# Add a marker cluster\n",
    "marker_cluster = MarkerCluster().add_to(species_map)\n",
    "\n",
    "# Loop through the data and add markers for each occurrence\n",
    "for i, row in occurrence_df.iterrows():\n",
    "    folium.Marker(\n",
    "        location=[row['latitude'], row['longitude']],\n",
    "        popup=f\"{row['species_name']} ({row['country']})\"\n",
    "    ).add_to(marker_cluster)\n",
    "\n",
    "# Display the map\n",
    "species_map\n"
   ]
  },
  {
   "cell_type": "code",
   "execution_count": null,
   "metadata": {
    "colab": {
     "base_uri": "https://localhost:8080/",
     "height": 394
    },
    "id": "RJ_FFlZj_40z",
    "outputId": "d94c46f8-db01-4a56-9eb1-6ac0e5291237"
   },
   "outputs": [
    {
     "data": {
      "text/html": [
       "<div style=\"width:100%;\"><div style=\"position:relative;width:100%;height:0;padding-bottom:60%;\"><span style=\"color:#565656\">Make this Notebook Trusted to load map: File -> Trust Notebook</span><iframe srcdoc=\"&lt;!DOCTYPE html&gt;\n",
       "&lt;html&gt;\n",
       "&lt;head&gt;\n",
       "    \n",
       "    &lt;meta http-equiv=&quot;content-type&quot; content=&quot;text/html; charset=UTF-8&quot; /&gt;\n",
       "    \n",
       "        &lt;script&gt;\n",
       "            L_NO_TOUCH = false;\n",
       "            L_DISABLE_3D = false;\n",
       "        &lt;/script&gt;\n",
       "    \n",
       "    &lt;style&gt;html, body {width: 100%;height: 100%;margin: 0;padding: 0;}&lt;/style&gt;\n",
       "    &lt;style&gt;#map {position:absolute;top:0;bottom:0;right:0;left:0;}&lt;/style&gt;\n",
       "    &lt;script src=&quot;https://cdn.jsdelivr.net/npm/leaflet@1.9.3/dist/leaflet.js&quot;&gt;&lt;/script&gt;\n",
       "    &lt;script src=&quot;https://code.jquery.com/jquery-3.7.1.min.js&quot;&gt;&lt;/script&gt;\n",
       "    &lt;script src=&quot;https://cdn.jsdelivr.net/npm/bootstrap@5.2.2/dist/js/bootstrap.bundle.min.js&quot;&gt;&lt;/script&gt;\n",
       "    &lt;script src=&quot;https://cdnjs.cloudflare.com/ajax/libs/Leaflet.awesome-markers/2.0.2/leaflet.awesome-markers.js&quot;&gt;&lt;/script&gt;\n",
       "    &lt;link rel=&quot;stylesheet&quot; href=&quot;https://cdn.jsdelivr.net/npm/leaflet@1.9.3/dist/leaflet.css&quot;/&gt;\n",
       "    &lt;link rel=&quot;stylesheet&quot; href=&quot;https://cdn.jsdelivr.net/npm/bootstrap@5.2.2/dist/css/bootstrap.min.css&quot;/&gt;\n",
       "    &lt;link rel=&quot;stylesheet&quot; href=&quot;https://netdna.bootstrapcdn.com/bootstrap/3.0.0/css/bootstrap-glyphicons.css&quot;/&gt;\n",
       "    &lt;link rel=&quot;stylesheet&quot; href=&quot;https://cdn.jsdelivr.net/npm/@fortawesome/fontawesome-free@6.2.0/css/all.min.css&quot;/&gt;\n",
       "    &lt;link rel=&quot;stylesheet&quot; href=&quot;https://cdnjs.cloudflare.com/ajax/libs/Leaflet.awesome-markers/2.0.2/leaflet.awesome-markers.css&quot;/&gt;\n",
       "    &lt;link rel=&quot;stylesheet&quot; href=&quot;https://cdn.jsdelivr.net/gh/python-visualization/folium/folium/templates/leaflet.awesome.rotate.min.css&quot;/&gt;\n",
       "    \n",
       "            &lt;meta name=&quot;viewport&quot; content=&quot;width=device-width,\n",
       "                initial-scale=1.0, maximum-scale=1.0, user-scalable=no&quot; /&gt;\n",
       "            &lt;style&gt;\n",
       "                #map_c53af342c3502937ad741b985d7ec9cc {\n",
       "                    position: relative;\n",
       "                    width: 100.0%;\n",
       "                    height: 100.0%;\n",
       "                    left: 0.0%;\n",
       "                    top: 0.0%;\n",
       "                }\n",
       "                .leaflet-container { font-size: 1rem; }\n",
       "            &lt;/style&gt;\n",
       "        \n",
       "    &lt;script src=&quot;https://cdn.jsdelivr.net/gh/python-visualization/folium@main/folium/templates/leaflet_heat.min.js&quot;&gt;&lt;/script&gt;\n",
       "&lt;/head&gt;\n",
       "&lt;body&gt;\n",
       "    \n",
       "    \n",
       "            &lt;div class=&quot;folium-map&quot; id=&quot;map_c53af342c3502937ad741b985d7ec9cc&quot; &gt;&lt;/div&gt;\n",
       "        \n",
       "&lt;/body&gt;\n",
       "&lt;script&gt;\n",
       "    \n",
       "    \n",
       "            var map_c53af342c3502937ad741b985d7ec9cc = L.map(\n",
       "                &quot;map_c53af342c3502937ad741b985d7ec9cc&quot;,\n",
       "                {\n",
       "                    center: [0.0, 30.0],\n",
       "                    crs: L.CRS.EPSG3857,\n",
       "                    zoom: 4,\n",
       "                    zoomControl: true,\n",
       "                    preferCanvas: false,\n",
       "                }\n",
       "            );\n",
       "\n",
       "            \n",
       "\n",
       "        \n",
       "    \n",
       "            var tile_layer_862a7af37c06a3eeb12d425bf45ab7f0 = L.tileLayer(\n",
       "                &quot;https://tile.openstreetmap.org/{z}/{x}/{y}.png&quot;,\n",
       "                {&quot;attribution&quot;: &quot;\\u0026copy; \\u003ca href=\\&quot;https://www.openstreetmap.org/copyright\\&quot;\\u003eOpenStreetMap\\u003c/a\\u003e contributors&quot;, &quot;detectRetina&quot;: false, &quot;maxNativeZoom&quot;: 19, &quot;maxZoom&quot;: 19, &quot;minZoom&quot;: 0, &quot;noWrap&quot;: false, &quot;opacity&quot;: 1, &quot;subdomains&quot;: &quot;abc&quot;, &quot;tms&quot;: false}\n",
       "            );\n",
       "        \n",
       "    \n",
       "            tile_layer_862a7af37c06a3eeb12d425bf45ab7f0.addTo(map_c53af342c3502937ad741b985d7ec9cc);\n",
       "        \n",
       "    \n",
       "            var heat_map_0bdcc49e80c2afc911d710a74e6115e9 = L.heatLayer(\n",
       "                [[-2.891112, 34.923913], [-3.904969, 36.133092], [-1.295852, 35.545522], [-1.360569, 35.217162], [-25.392212, 27.181383], [-24.27037, 31.663519], [-24.447824, 31.409293], [-0.153872, 30.097456], [-24.903538, 31.703005], [-3.375279, 38.549492], [2.480606, 31.402049], [-33.26793, 26.106231], [-3.660996, 36.025411], [0.653664, 37.409669], [-33.609921, 25.809251], [-25.554316, 31.579966], [-33.766606, 25.802123], [-24.38134, 31.651607], [-0.154278, 29.834738], [-20.230684, 32.267206], [6.813884, 81.718309], [14.297429, 101.393064], [6.27211, 81.41155], [6.586871, 80.981856], [6.42232, 80.822843], [6.540578, 80.963843], [6.531267, 80.836623], [6.587899, 80.820662], [6.467912, 80.995441], [6.414432, 80.930327], [-0.947826, 29.795585], [-1.493261, 29.470509], [-0.945653, 29.627034], [-1.195317, 29.694939], [-1.539066, 29.559748], [-1.555803, 29.53221], [-1.169111, 29.917097], [-1.070887, 29.605779], [-1.009696, 29.671028], [-0.838708, 29.69417]],\n",
       "                {&quot;blur&quot;: 15, &quot;maxZoom&quot;: 18, &quot;minOpacity&quot;: 0.5, &quot;radius&quot;: 25}\n",
       "            );\n",
       "        \n",
       "    \n",
       "            heat_map_0bdcc49e80c2afc911d710a74e6115e9.addTo(map_c53af342c3502937ad741b985d7ec9cc);\n",
       "        \n",
       "&lt;/script&gt;\n",
       "&lt;/html&gt;\" style=\"position:absolute;width:100%;height:100%;left:0;top:0;border:none !important;\" allowfullscreen webkitallowfullscreen mozallowfullscreen></iframe></div></div>"
      ],
      "text/plain": [
       "<folium.folium.Map at 0x7b1688d89b70>"
      ]
     },
     "execution_count": 99,
     "metadata": {},
     "output_type": "execute_result"
    }
   ],
   "source": [
    "from folium.plugins import HeatMap\n",
    "\n",
    "# Create a map\n",
    "heat_map = folium.Map(location=[0, 30], zoom_start=4)\n",
    "\n",
    "# Create a list of latitude and longitude points\n",
    "heat_data = [[row['latitude'], row['longitude']] for index, row in occurrence_df.iterrows()]\n",
    "\n",
    "# Add the heatmap to the map\n",
    "HeatMap(heat_data).add_to(heat_map)\n",
    "\n",
    "# Display the map\n",
    "heat_map\n"
   ]
  },
  {
   "cell_type": "code",
   "execution_count": null,
   "metadata": {
    "id": "lcHmLnUs_-sm"
   },
   "outputs": [],
   "source": [
    "def suggest_preservation_techniques(species_name, conservation_status, habitat, threats):\n",
    "    techniques = []\n",
    "\n",
    "    if conservation_status in ['Critically Endangered', 'Endangered']:\n",
    "        techniques.append(\"Establish protected areas and reserves.\")\n",
    "\n",
    "        if \"habitat loss\" in threats:\n",
    "            techniques.append(\"Implement habitat restoration programs.\")\n",
    "        if \"poaching\" in threats:\n",
    "            techniques.append(\"Enhance legal protection against poaching.\")\n",
    "\n",
    "    if conservation_status in ['Vulnerable', 'Near Threatened']:\n",
    "        techniques.append(\"Conduct research and monitoring for population studies.\")\n",
    "\n",
    "        if \"climate change\" in threats:\n",
    "            techniques.append(\"Develop climate adaptation strategies.\")\n",
    "\n",
    "    if habitat == \"forest\":\n",
    "        techniques.append(\"Promote sustainable forestry practices.\")\n",
    "\n",
    "    if habitat == \"wetlands\":\n",
    "        techniques.append(\"Restore wetland ecosystems and improve water quality.\")\n",
    "\n",
    "    if habitat == \"grasslands\":\n",
    "        techniques.append(\"Implement grazing management plans.\")\n",
    "\n",
    "    if not techniques:\n",
    "        techniques.append(\"No specific techniques suggested; further research needed.\")\n",
    "\n",
    "    return techniques\n"
   ]
  },
  {
   "cell_type": "code",
   "execution_count": null,
   "metadata": {
    "colab": {
     "base_uri": "https://localhost:8080/"
    },
    "id": "0klwwT-zA3Db",
    "outputId": "4e6c4269-07f7-4e9c-c357-87329c5398d7"
   },
   "outputs": [
    {
     "name": "stdout",
     "output_type": "stream",
     "text": [
      "Suggested techniques for Panthera leo:\n",
      "- Establish protected areas and reserves.\n",
      "- Implement habitat restoration programs.\n",
      "- Enhance legal protection against poaching.\n",
      "- Implement grazing management plans.\n",
      "\n",
      "\n",
      "Suggested techniques for Loxodonta africana:\n",
      "- Conduct research and monitoring for population studies.\n",
      "- Promote sustainable forestry practices.\n",
      "\n",
      "\n",
      "Suggested techniques for Gorilla beringei:\n",
      "- Establish protected areas and reserves.\n",
      "- Implement habitat restoration programs.\n",
      "- Promote sustainable forestry practices.\n",
      "\n",
      "\n"
     ]
    }
   ],
   "source": [
    "# Sample data\n",
    "species_data = [\n",
    "    {\n",
    "        \"species_name\": \"Panthera leo\",\n",
    "        \"conservation_status\": \"Endangered\",\n",
    "        \"habitat\": \"grasslands\",\n",
    "        \"threats\": [\"habitat loss\", \"poaching\"]\n",
    "    },\n",
    "    {\n",
    "        \"species_name\": \"Loxodonta africana\",\n",
    "        \"conservation_status\": \"Vulnerable\",\n",
    "        \"habitat\": \"forest\",\n",
    "        \"threats\": [\"poaching\"]\n",
    "    },\n",
    "    {\n",
    "        \"species_name\": \"Gorilla beringei\",\n",
    "        \"conservation_status\": \"Critically Endangered\",\n",
    "        \"habitat\": \"forest\",\n",
    "        \"threats\": [\"habitat loss\", \"climate change\"]\n",
    "    }\n",
    "]\n",
    "\n",
    "# Suggest techniques for each species\n",
    "for species in species_data:\n",
    "    techniques = suggest_preservation_techniques(\n",
    "        species[\"species_name\"],\n",
    "        species[\"conservation_status\"],\n",
    "        species[\"habitat\"],\n",
    "        species[\"threats\"]\n",
    "    )\n",
    "    print(f\"Suggested techniques for {species['species_name']}:\")\n",
    "    for technique in techniques:\n",
    "        print(f\"- {technique}\")\n",
    "    print(\"\\n\")\n"
   ]
  },
  {
   "cell_type": "code",
   "execution_count": null,
   "metadata": {
    "colab": {
     "base_uri": "https://localhost:8080/"
    },
    "id": "1Dz2zKe-CEpS",
    "outputId": "aabc4f14-87ac-4e39-d98f-d258ee4fb4bb"
   },
   "outputs": [
    {
     "name": "stdout",
     "output_type": "stream",
     "text": [
      "Collecting streamlit\n",
      "  Downloading streamlit-1.39.0-py2.py3-none-any.whl.metadata (8.5 kB)\n",
      "Requirement already satisfied: folium in /usr/local/lib/python3.10/dist-packages (0.17.0)\n",
      "Requirement already satisfied: matplotlib in /usr/local/lib/python3.10/dist-packages (3.7.1)\n",
      "Requirement already satisfied: seaborn in /usr/local/lib/python3.10/dist-packages (0.13.2)\n",
      "Requirement already satisfied: pandas in /usr/local/lib/python3.10/dist-packages (2.2.2)\n",
      "Requirement already satisfied: requests in /usr/local/lib/python3.10/dist-packages (2.32.3)\n",
      "Requirement already satisfied: altair<6,>=4.0 in /usr/local/lib/python3.10/dist-packages (from streamlit) (4.2.2)\n",
      "Requirement already satisfied: blinker<2,>=1.0.0 in /usr/lib/python3/dist-packages (from streamlit) (1.4)\n",
      "Requirement already satisfied: cachetools<6,>=4.0 in /usr/local/lib/python3.10/dist-packages (from streamlit) (5.5.0)\n",
      "Requirement already satisfied: click<9,>=7.0 in /usr/local/lib/python3.10/dist-packages (from streamlit) (8.1.7)\n",
      "Requirement already satisfied: numpy<3,>=1.20 in /usr/local/lib/python3.10/dist-packages (from streamlit) (1.26.4)\n",
      "Requirement already satisfied: packaging<25,>=20 in /usr/local/lib/python3.10/dist-packages (from streamlit) (24.1)\n",
      "Requirement already satisfied: pillow<11,>=7.1.0 in /usr/local/lib/python3.10/dist-packages (from streamlit) (10.4.0)\n",
      "Requirement already satisfied: protobuf<6,>=3.20 in /usr/local/lib/python3.10/dist-packages (from streamlit) (3.20.3)\n",
      "Requirement already satisfied: pyarrow>=7.0 in /usr/local/lib/python3.10/dist-packages (from streamlit) (16.1.0)\n",
      "Requirement already satisfied: rich<14,>=10.14.0 in /usr/local/lib/python3.10/dist-packages (from streamlit) (13.9.2)\n",
      "Requirement already satisfied: tenacity<10,>=8.1.0 in /usr/local/lib/python3.10/dist-packages (from streamlit) (9.0.0)\n",
      "Requirement already satisfied: toml<2,>=0.10.1 in /usr/local/lib/python3.10/dist-packages (from streamlit) (0.10.2)\n",
      "Requirement already satisfied: typing-extensions<5,>=4.3.0 in /usr/local/lib/python3.10/dist-packages (from streamlit) (4.12.2)\n",
      "Collecting gitpython!=3.1.19,<4,>=3.0.7 (from streamlit)\n",
      "  Downloading GitPython-3.1.43-py3-none-any.whl.metadata (13 kB)\n",
      "Collecting pydeck<1,>=0.8.0b4 (from streamlit)\n",
      "  Downloading pydeck-0.9.1-py2.py3-none-any.whl.metadata (4.1 kB)\n",
      "Requirement already satisfied: tornado<7,>=6.0.3 in /usr/local/lib/python3.10/dist-packages (from streamlit) (6.3.3)\n",
      "Collecting watchdog<6,>=2.1.5 (from streamlit)\n",
      "  Downloading watchdog-5.0.3-py3-none-manylinux2014_x86_64.whl.metadata (41 kB)\n",
      "\u001b[2K     \u001b[90m━━━━━━━━━━━━━━━━━━━━━━━━━━━━━━━━━━━━━━━━\u001b[0m \u001b[32m41.9/41.9 kB\u001b[0m \u001b[31m2.0 MB/s\u001b[0m eta \u001b[36m0:00:00\u001b[0m\n",
      "\u001b[?25hRequirement already satisfied: branca>=0.6.0 in /usr/local/lib/python3.10/dist-packages (from folium) (0.8.0)\n",
      "Requirement already satisfied: jinja2>=2.9 in /usr/local/lib/python3.10/dist-packages (from folium) (3.1.4)\n",
      "Requirement already satisfied: xyzservices in /usr/local/lib/python3.10/dist-packages (from folium) (2024.9.0)\n",
      "Requirement already satisfied: contourpy>=1.0.1 in /usr/local/lib/python3.10/dist-packages (from matplotlib) (1.3.0)\n",
      "Requirement already satisfied: cycler>=0.10 in /usr/local/lib/python3.10/dist-packages (from matplotlib) (0.12.1)\n",
      "Requirement already satisfied: fonttools>=4.22.0 in /usr/local/lib/python3.10/dist-packages (from matplotlib) (4.54.1)\n",
      "Requirement already satisfied: kiwisolver>=1.0.1 in /usr/local/lib/python3.10/dist-packages (from matplotlib) (1.4.7)\n",
      "Requirement already satisfied: pyparsing>=2.3.1 in /usr/local/lib/python3.10/dist-packages (from matplotlib) (3.1.4)\n",
      "Requirement already satisfied: python-dateutil>=2.7 in /usr/local/lib/python3.10/dist-packages (from matplotlib) (2.8.2)\n",
      "Requirement already satisfied: pytz>=2020.1 in /usr/local/lib/python3.10/dist-packages (from pandas) (2024.2)\n",
      "Requirement already satisfied: tzdata>=2022.7 in /usr/local/lib/python3.10/dist-packages (from pandas) (2024.2)\n",
      "Requirement already satisfied: charset-normalizer<4,>=2 in /usr/local/lib/python3.10/dist-packages (from requests) (3.4.0)\n",
      "Requirement already satisfied: idna<4,>=2.5 in /usr/local/lib/python3.10/dist-packages (from requests) (3.10)\n",
      "Requirement already satisfied: urllib3<3,>=1.21.1 in /usr/local/lib/python3.10/dist-packages (from requests) (2.2.3)\n",
      "Requirement already satisfied: certifi>=2017.4.17 in /usr/local/lib/python3.10/dist-packages (from requests) (2024.8.30)\n",
      "Requirement already satisfied: entrypoints in /usr/local/lib/python3.10/dist-packages (from altair<6,>=4.0->streamlit) (0.4)\n",
      "Requirement already satisfied: jsonschema>=3.0 in /usr/local/lib/python3.10/dist-packages (from altair<6,>=4.0->streamlit) (4.23.0)\n",
      "Requirement already satisfied: toolz in /usr/local/lib/python3.10/dist-packages (from altair<6,>=4.0->streamlit) (0.12.1)\n",
      "Collecting gitdb<5,>=4.0.1 (from gitpython!=3.1.19,<4,>=3.0.7->streamlit)\n",
      "  Downloading gitdb-4.0.11-py3-none-any.whl.metadata (1.2 kB)\n",
      "Requirement already satisfied: MarkupSafe>=2.0 in /usr/local/lib/python3.10/dist-packages (from jinja2>=2.9->folium) (3.0.1)\n",
      "Requirement already satisfied: six>=1.5 in /usr/local/lib/python3.10/dist-packages (from python-dateutil>=2.7->matplotlib) (1.16.0)\n",
      "Requirement already satisfied: markdown-it-py>=2.2.0 in /usr/local/lib/python3.10/dist-packages (from rich<14,>=10.14.0->streamlit) (3.0.0)\n",
      "Requirement already satisfied: pygments<3.0.0,>=2.13.0 in /usr/local/lib/python3.10/dist-packages (from rich<14,>=10.14.0->streamlit) (2.18.0)\n",
      "Collecting smmap<6,>=3.0.1 (from gitdb<5,>=4.0.1->gitpython!=3.1.19,<4,>=3.0.7->streamlit)\n",
      "  Downloading smmap-5.0.1-py3-none-any.whl.metadata (4.3 kB)\n",
      "Requirement already satisfied: attrs>=22.2.0 in /usr/local/lib/python3.10/dist-packages (from jsonschema>=3.0->altair<6,>=4.0->streamlit) (24.2.0)\n",
      "Requirement already satisfied: jsonschema-specifications>=2023.03.6 in /usr/local/lib/python3.10/dist-packages (from jsonschema>=3.0->altair<6,>=4.0->streamlit) (2024.10.1)\n",
      "Requirement already satisfied: referencing>=0.28.4 in /usr/local/lib/python3.10/dist-packages (from jsonschema>=3.0->altair<6,>=4.0->streamlit) (0.35.1)\n",
      "Requirement already satisfied: rpds-py>=0.7.1 in /usr/local/lib/python3.10/dist-packages (from jsonschema>=3.0->altair<6,>=4.0->streamlit) (0.20.0)\n",
      "Requirement already satisfied: mdurl~=0.1 in /usr/local/lib/python3.10/dist-packages (from markdown-it-py>=2.2.0->rich<14,>=10.14.0->streamlit) (0.1.2)\n",
      "Downloading streamlit-1.39.0-py2.py3-none-any.whl (8.7 MB)\n",
      "\u001b[2K   \u001b[90m━━━━━━━━━━━━━━━━━━━━━━━━━━━━━━━━━━━━━━━━\u001b[0m \u001b[32m8.7/8.7 MB\u001b[0m \u001b[31m47.1 MB/s\u001b[0m eta \u001b[36m0:00:00\u001b[0m\n",
      "\u001b[?25hDownloading GitPython-3.1.43-py3-none-any.whl (207 kB)\n",
      "\u001b[2K   \u001b[90m━━━━━━━━━━━━━━━━━━━━━━━━━━━━━━━━━━━━━━━━\u001b[0m \u001b[32m207.3/207.3 kB\u001b[0m \u001b[31m14.2 MB/s\u001b[0m eta \u001b[36m0:00:00\u001b[0m\n",
      "\u001b[?25hDownloading pydeck-0.9.1-py2.py3-none-any.whl (6.9 MB)\n",
      "\u001b[2K   \u001b[90m━━━━━━━━━━━━━━━━━━━━━━━━━━━━━━━━━━━━━━━━\u001b[0m \u001b[32m6.9/6.9 MB\u001b[0m \u001b[31m59.3 MB/s\u001b[0m eta \u001b[36m0:00:00\u001b[0m\n",
      "\u001b[?25hDownloading watchdog-5.0.3-py3-none-manylinux2014_x86_64.whl (79 kB)\n",
      "\u001b[2K   \u001b[90m━━━━━━━━━━━━━━━━━━━━━━━━━━━━━━━━━━━━━━━━\u001b[0m \u001b[32m79.3/79.3 kB\u001b[0m \u001b[31m5.7 MB/s\u001b[0m eta \u001b[36m0:00:00\u001b[0m\n",
      "\u001b[?25hDownloading gitdb-4.0.11-py3-none-any.whl (62 kB)\n",
      "\u001b[2K   \u001b[90m━━━━━━━━━━━━━━━━━━━━━━━━━━━━━━━━━━━━━━━━\u001b[0m \u001b[32m62.7/62.7 kB\u001b[0m \u001b[31m5.0 MB/s\u001b[0m eta \u001b[36m0:00:00\u001b[0m\n",
      "\u001b[?25hDownloading smmap-5.0.1-py3-none-any.whl (24 kB)\n",
      "Installing collected packages: watchdog, smmap, pydeck, gitdb, gitpython, streamlit\n",
      "Successfully installed gitdb-4.0.11 gitpython-3.1.43 pydeck-0.9.1 smmap-5.0.1 streamlit-1.39.0 watchdog-5.0.3\n"
     ]
    }
   ],
   "source": [
    "pip install streamlit folium matplotlib seaborn pandas requests\n"
   ]
  },
  {
   "cell_type": "code",
   "execution_count": null,
   "metadata": {
    "colab": {
     "base_uri": "https://localhost:8080/"
    },
    "id": "MQIsznCoDUgv",
    "outputId": "b1858a67-f6c0-4a90-8863-817458bc0027"
   },
   "outputs": [
    {
     "name": "stdout",
     "output_type": "stream",
     "text": [
      "Requirement already satisfied: streamlit in /usr/local/lib/python3.10/dist-packages (1.39.0)\n",
      "Requirement already satisfied: altair<6,>=4.0 in /usr/local/lib/python3.10/dist-packages (from streamlit) (4.2.2)\n",
      "Requirement already satisfied: blinker<2,>=1.0.0 in /usr/lib/python3/dist-packages (from streamlit) (1.4)\n",
      "Requirement already satisfied: cachetools<6,>=4.0 in /usr/local/lib/python3.10/dist-packages (from streamlit) (5.5.0)\n",
      "Requirement already satisfied: click<9,>=7.0 in /usr/local/lib/python3.10/dist-packages (from streamlit) (8.1.7)\n",
      "Requirement already satisfied: numpy<3,>=1.20 in /usr/local/lib/python3.10/dist-packages (from streamlit) (1.26.4)\n",
      "Requirement already satisfied: packaging<25,>=20 in /usr/local/lib/python3.10/dist-packages (from streamlit) (24.1)\n",
      "Requirement already satisfied: pandas<3,>=1.4.0 in /usr/local/lib/python3.10/dist-packages (from streamlit) (2.2.2)\n",
      "Requirement already satisfied: pillow<11,>=7.1.0 in /usr/local/lib/python3.10/dist-packages (from streamlit) (10.4.0)\n",
      "Requirement already satisfied: protobuf<6,>=3.20 in /usr/local/lib/python3.10/dist-packages (from streamlit) (3.20.3)\n",
      "Requirement already satisfied: pyarrow>=7.0 in /usr/local/lib/python3.10/dist-packages (from streamlit) (16.1.0)\n",
      "Requirement already satisfied: requests<3,>=2.27 in /usr/local/lib/python3.10/dist-packages (from streamlit) (2.32.3)\n",
      "Requirement already satisfied: rich<14,>=10.14.0 in /usr/local/lib/python3.10/dist-packages (from streamlit) (13.9.2)\n",
      "Requirement already satisfied: tenacity<10,>=8.1.0 in /usr/local/lib/python3.10/dist-packages (from streamlit) (9.0.0)\n",
      "Requirement already satisfied: toml<2,>=0.10.1 in /usr/local/lib/python3.10/dist-packages (from streamlit) (0.10.2)\n",
      "Requirement already satisfied: typing-extensions<5,>=4.3.0 in /usr/local/lib/python3.10/dist-packages (from streamlit) (4.12.2)\n",
      "Requirement already satisfied: gitpython!=3.1.19,<4,>=3.0.7 in /usr/local/lib/python3.10/dist-packages (from streamlit) (3.1.43)\n",
      "Requirement already satisfied: pydeck<1,>=0.8.0b4 in /usr/local/lib/python3.10/dist-packages (from streamlit) (0.9.1)\n",
      "Requirement already satisfied: tornado<7,>=6.0.3 in /usr/local/lib/python3.10/dist-packages (from streamlit) (6.3.3)\n",
      "Requirement already satisfied: watchdog<6,>=2.1.5 in /usr/local/lib/python3.10/dist-packages (from streamlit) (5.0.3)\n",
      "Requirement already satisfied: entrypoints in /usr/local/lib/python3.10/dist-packages (from altair<6,>=4.0->streamlit) (0.4)\n",
      "Requirement already satisfied: jinja2 in /usr/local/lib/python3.10/dist-packages (from altair<6,>=4.0->streamlit) (3.1.4)\n",
      "Requirement already satisfied: jsonschema>=3.0 in /usr/local/lib/python3.10/dist-packages (from altair<6,>=4.0->streamlit) (4.23.0)\n",
      "Requirement already satisfied: toolz in /usr/local/lib/python3.10/dist-packages (from altair<6,>=4.0->streamlit) (0.12.1)\n",
      "Requirement already satisfied: gitdb<5,>=4.0.1 in /usr/local/lib/python3.10/dist-packages (from gitpython!=3.1.19,<4,>=3.0.7->streamlit) (4.0.11)\n",
      "Requirement already satisfied: python-dateutil>=2.8.2 in /usr/local/lib/python3.10/dist-packages (from pandas<3,>=1.4.0->streamlit) (2.8.2)\n",
      "Requirement already satisfied: pytz>=2020.1 in /usr/local/lib/python3.10/dist-packages (from pandas<3,>=1.4.0->streamlit) (2024.2)\n",
      "Requirement already satisfied: tzdata>=2022.7 in /usr/local/lib/python3.10/dist-packages (from pandas<3,>=1.4.0->streamlit) (2024.2)\n",
      "Requirement already satisfied: charset-normalizer<4,>=2 in /usr/local/lib/python3.10/dist-packages (from requests<3,>=2.27->streamlit) (3.4.0)\n",
      "Requirement already satisfied: idna<4,>=2.5 in /usr/local/lib/python3.10/dist-packages (from requests<3,>=2.27->streamlit) (3.10)\n",
      "Requirement already satisfied: urllib3<3,>=1.21.1 in /usr/local/lib/python3.10/dist-packages (from requests<3,>=2.27->streamlit) (2.2.3)\n",
      "Requirement already satisfied: certifi>=2017.4.17 in /usr/local/lib/python3.10/dist-packages (from requests<3,>=2.27->streamlit) (2024.8.30)\n",
      "Requirement already satisfied: markdown-it-py>=2.2.0 in /usr/local/lib/python3.10/dist-packages (from rich<14,>=10.14.0->streamlit) (3.0.0)\n",
      "Requirement already satisfied: pygments<3.0.0,>=2.13.0 in /usr/local/lib/python3.10/dist-packages (from rich<14,>=10.14.0->streamlit) (2.18.0)\n",
      "Requirement already satisfied: smmap<6,>=3.0.1 in /usr/local/lib/python3.10/dist-packages (from gitdb<5,>=4.0.1->gitpython!=3.1.19,<4,>=3.0.7->streamlit) (5.0.1)\n",
      "Requirement already satisfied: MarkupSafe>=2.0 in /usr/local/lib/python3.10/dist-packages (from jinja2->altair<6,>=4.0->streamlit) (3.0.1)\n",
      "Requirement already satisfied: attrs>=22.2.0 in /usr/local/lib/python3.10/dist-packages (from jsonschema>=3.0->altair<6,>=4.0->streamlit) (24.2.0)\n",
      "Requirement already satisfied: jsonschema-specifications>=2023.03.6 in /usr/local/lib/python3.10/dist-packages (from jsonschema>=3.0->altair<6,>=4.0->streamlit) (2024.10.1)\n",
      "Requirement already satisfied: referencing>=0.28.4 in /usr/local/lib/python3.10/dist-packages (from jsonschema>=3.0->altair<6,>=4.0->streamlit) (0.35.1)\n",
      "Requirement already satisfied: rpds-py>=0.7.1 in /usr/local/lib/python3.10/dist-packages (from jsonschema>=3.0->altair<6,>=4.0->streamlit) (0.20.0)\n",
      "Requirement already satisfied: mdurl~=0.1 in /usr/local/lib/python3.10/dist-packages (from markdown-it-py>=2.2.0->rich<14,>=10.14.0->streamlit) (0.1.2)\n",
      "Requirement already satisfied: six>=1.5 in /usr/local/lib/python3.10/dist-packages (from python-dateutil>=2.8.2->pandas<3,>=1.4.0->streamlit) (1.16.0)\n"
     ]
    }
   ],
   "source": [
    "!pip install streamlit\n"
   ]
  },
  {
   "cell_type": "code",
   "execution_count": null,
   "metadata": {
    "colab": {
     "base_uri": "https://localhost:8080/"
    },
    "id": "fBBIH7NIDcxn",
    "outputId": "ad376fe7-7f4a-4d0f-9e71-36a9d0450fb0"
   },
   "outputs": [
    {
     "name": "stdout",
     "output_type": "stream",
     "text": [
      "Collecting pyngrok\n",
      "  Downloading pyngrok-7.2.0-py3-none-any.whl.metadata (7.4 kB)\n",
      "Requirement already satisfied: PyYAML>=5.1 in /usr/local/lib/python3.10/dist-packages (from pyngrok) (6.0.2)\n",
      "Downloading pyngrok-7.2.0-py3-none-any.whl (22 kB)\n",
      "Installing collected packages: pyngrok\n",
      "Successfully installed pyngrok-7.2.0\n"
     ]
    }
   ],
   "source": [
    "!pip install pyngrok\n"
   ]
  },
  {
   "cell_type": "code",
   "execution_count": null,
   "metadata": {
    "colab": {
     "base_uri": "https://localhost:8080/"
    },
    "id": "ePRqpukBD6nM",
    "outputId": "9ea130d7-ee99-4ac2-d1c2-cba1a243e3aa"
   },
   "outputs": [
    {
     "name": "stdout",
     "output_type": "stream",
     "text": [
      "Requirement already satisfied: streamlit in /usr/local/lib/python3.10/dist-packages (1.39.0)\n",
      "Requirement already satisfied: altair<6,>=4.0 in /usr/local/lib/python3.10/dist-packages (from streamlit) (4.2.2)\n",
      "Requirement already satisfied: blinker<2,>=1.0.0 in /usr/lib/python3/dist-packages (from streamlit) (1.4)\n",
      "Requirement already satisfied: cachetools<6,>=4.0 in /usr/local/lib/python3.10/dist-packages (from streamlit) (5.5.0)\n",
      "Requirement already satisfied: click<9,>=7.0 in /usr/local/lib/python3.10/dist-packages (from streamlit) (8.1.7)\n",
      "Requirement already satisfied: numpy<3,>=1.20 in /usr/local/lib/python3.10/dist-packages (from streamlit) (1.26.4)\n",
      "Requirement already satisfied: packaging<25,>=20 in /usr/local/lib/python3.10/dist-packages (from streamlit) (24.1)\n",
      "Requirement already satisfied: pandas<3,>=1.4.0 in /usr/local/lib/python3.10/dist-packages (from streamlit) (2.2.2)\n",
      "Requirement already satisfied: pillow<11,>=7.1.0 in /usr/local/lib/python3.10/dist-packages (from streamlit) (10.4.0)\n",
      "Requirement already satisfied: protobuf<6,>=3.20 in /usr/local/lib/python3.10/dist-packages (from streamlit) (3.20.3)\n",
      "Requirement already satisfied: pyarrow>=7.0 in /usr/local/lib/python3.10/dist-packages (from streamlit) (16.1.0)\n",
      "Requirement already satisfied: requests<3,>=2.27 in /usr/local/lib/python3.10/dist-packages (from streamlit) (2.32.3)\n",
      "Requirement already satisfied: rich<14,>=10.14.0 in /usr/local/lib/python3.10/dist-packages (from streamlit) (13.9.2)\n",
      "Requirement already satisfied: tenacity<10,>=8.1.0 in /usr/local/lib/python3.10/dist-packages (from streamlit) (9.0.0)\n",
      "Requirement already satisfied: toml<2,>=0.10.1 in /usr/local/lib/python3.10/dist-packages (from streamlit) (0.10.2)\n",
      "Requirement already satisfied: typing-extensions<5,>=4.3.0 in /usr/local/lib/python3.10/dist-packages (from streamlit) (4.12.2)\n",
      "Requirement already satisfied: gitpython!=3.1.19,<4,>=3.0.7 in /usr/local/lib/python3.10/dist-packages (from streamlit) (3.1.43)\n",
      "Requirement already satisfied: pydeck<1,>=0.8.0b4 in /usr/local/lib/python3.10/dist-packages (from streamlit) (0.9.1)\n",
      "Requirement already satisfied: tornado<7,>=6.0.3 in /usr/local/lib/python3.10/dist-packages (from streamlit) (6.3.3)\n",
      "Requirement already satisfied: watchdog<6,>=2.1.5 in /usr/local/lib/python3.10/dist-packages (from streamlit) (5.0.3)\n",
      "Requirement already satisfied: entrypoints in /usr/local/lib/python3.10/dist-packages (from altair<6,>=4.0->streamlit) (0.4)\n",
      "Requirement already satisfied: jinja2 in /usr/local/lib/python3.10/dist-packages (from altair<6,>=4.0->streamlit) (3.1.4)\n",
      "Requirement already satisfied: jsonschema>=3.0 in /usr/local/lib/python3.10/dist-packages (from altair<6,>=4.0->streamlit) (4.23.0)\n",
      "Requirement already satisfied: toolz in /usr/local/lib/python3.10/dist-packages (from altair<6,>=4.0->streamlit) (0.12.1)\n",
      "Requirement already satisfied: gitdb<5,>=4.0.1 in /usr/local/lib/python3.10/dist-packages (from gitpython!=3.1.19,<4,>=3.0.7->streamlit) (4.0.11)\n",
      "Requirement already satisfied: python-dateutil>=2.8.2 in /usr/local/lib/python3.10/dist-packages (from pandas<3,>=1.4.0->streamlit) (2.8.2)\n",
      "Requirement already satisfied: pytz>=2020.1 in /usr/local/lib/python3.10/dist-packages (from pandas<3,>=1.4.0->streamlit) (2024.2)\n",
      "Requirement already satisfied: tzdata>=2022.7 in /usr/local/lib/python3.10/dist-packages (from pandas<3,>=1.4.0->streamlit) (2024.2)\n",
      "Requirement already satisfied: charset-normalizer<4,>=2 in /usr/local/lib/python3.10/dist-packages (from requests<3,>=2.27->streamlit) (3.4.0)\n",
      "Requirement already satisfied: idna<4,>=2.5 in /usr/local/lib/python3.10/dist-packages (from requests<3,>=2.27->streamlit) (3.10)\n",
      "Requirement already satisfied: urllib3<3,>=1.21.1 in /usr/local/lib/python3.10/dist-packages (from requests<3,>=2.27->streamlit) (2.2.3)\n",
      "Requirement already satisfied: certifi>=2017.4.17 in /usr/local/lib/python3.10/dist-packages (from requests<3,>=2.27->streamlit) (2024.8.30)\n",
      "Requirement already satisfied: markdown-it-py>=2.2.0 in /usr/local/lib/python3.10/dist-packages (from rich<14,>=10.14.0->streamlit) (3.0.0)\n",
      "Requirement already satisfied: pygments<3.0.0,>=2.13.0 in /usr/local/lib/python3.10/dist-packages (from rich<14,>=10.14.0->streamlit) (2.18.0)\n",
      "Requirement already satisfied: smmap<6,>=3.0.1 in /usr/local/lib/python3.10/dist-packages (from gitdb<5,>=4.0.1->gitpython!=3.1.19,<4,>=3.0.7->streamlit) (5.0.1)\n",
      "Requirement already satisfied: MarkupSafe>=2.0 in /usr/local/lib/python3.10/dist-packages (from jinja2->altair<6,>=4.0->streamlit) (3.0.1)\n",
      "Requirement already satisfied: attrs>=22.2.0 in /usr/local/lib/python3.10/dist-packages (from jsonschema>=3.0->altair<6,>=4.0->streamlit) (24.2.0)\n",
      "Requirement already satisfied: jsonschema-specifications>=2023.03.6 in /usr/local/lib/python3.10/dist-packages (from jsonschema>=3.0->altair<6,>=4.0->streamlit) (2024.10.1)\n",
      "Requirement already satisfied: referencing>=0.28.4 in /usr/local/lib/python3.10/dist-packages (from jsonschema>=3.0->altair<6,>=4.0->streamlit) (0.35.1)\n",
      "Requirement already satisfied: rpds-py>=0.7.1 in /usr/local/lib/python3.10/dist-packages (from jsonschema>=3.0->altair<6,>=4.0->streamlit) (0.20.0)\n",
      "Requirement already satisfied: mdurl~=0.1 in /usr/local/lib/python3.10/dist-packages (from markdown-it-py>=2.2.0->rich<14,>=10.14.0->streamlit) (0.1.2)\n",
      "Requirement already satisfied: six>=1.5 in /usr/local/lib/python3.10/dist-packages (from python-dateutil>=2.8.2->pandas<3,>=1.4.0->streamlit) (1.16.0)\n",
      "Requirement already satisfied: folium in /usr/local/lib/python3.10/dist-packages (0.17.0)\n",
      "Requirement already satisfied: branca>=0.6.0 in /usr/local/lib/python3.10/dist-packages (from folium) (0.8.0)\n",
      "Requirement already satisfied: jinja2>=2.9 in /usr/local/lib/python3.10/dist-packages (from folium) (3.1.4)\n",
      "Requirement already satisfied: numpy in /usr/local/lib/python3.10/dist-packages (from folium) (1.26.4)\n",
      "Requirement already satisfied: requests in /usr/local/lib/python3.10/dist-packages (from folium) (2.32.3)\n",
      "Requirement already satisfied: xyzservices in /usr/local/lib/python3.10/dist-packages (from folium) (2024.9.0)\n",
      "Requirement already satisfied: MarkupSafe>=2.0 in /usr/local/lib/python3.10/dist-packages (from jinja2>=2.9->folium) (3.0.1)\n",
      "Requirement already satisfied: charset-normalizer<4,>=2 in /usr/local/lib/python3.10/dist-packages (from requests->folium) (3.4.0)\n",
      "Requirement already satisfied: idna<4,>=2.5 in /usr/local/lib/python3.10/dist-packages (from requests->folium) (3.10)\n",
      "Requirement already satisfied: urllib3<3,>=1.21.1 in /usr/local/lib/python3.10/dist-packages (from requests->folium) (2.2.3)\n",
      "Requirement already satisfied: certifi>=2017.4.17 in /usr/local/lib/python3.10/dist-packages (from requests->folium) (2024.8.30)\n",
      "Requirement already satisfied: seaborn in /usr/local/lib/python3.10/dist-packages (0.13.2)\n",
      "Requirement already satisfied: numpy!=1.24.0,>=1.20 in /usr/local/lib/python3.10/dist-packages (from seaborn) (1.26.4)\n",
      "Requirement already satisfied: pandas>=1.2 in /usr/local/lib/python3.10/dist-packages (from seaborn) (2.2.2)\n",
      "Requirement already satisfied: matplotlib!=3.6.1,>=3.4 in /usr/local/lib/python3.10/dist-packages (from seaborn) (3.7.1)\n",
      "Requirement already satisfied: contourpy>=1.0.1 in /usr/local/lib/python3.10/dist-packages (from matplotlib!=3.6.1,>=3.4->seaborn) (1.3.0)\n",
      "Requirement already satisfied: cycler>=0.10 in /usr/local/lib/python3.10/dist-packages (from matplotlib!=3.6.1,>=3.4->seaborn) (0.12.1)\n",
      "Requirement already satisfied: fonttools>=4.22.0 in /usr/local/lib/python3.10/dist-packages (from matplotlib!=3.6.1,>=3.4->seaborn) (4.54.1)\n",
      "Requirement already satisfied: kiwisolver>=1.0.1 in /usr/local/lib/python3.10/dist-packages (from matplotlib!=3.6.1,>=3.4->seaborn) (1.4.7)\n",
      "Requirement already satisfied: packaging>=20.0 in /usr/local/lib/python3.10/dist-packages (from matplotlib!=3.6.1,>=3.4->seaborn) (24.1)\n",
      "Requirement already satisfied: pillow>=6.2.0 in /usr/local/lib/python3.10/dist-packages (from matplotlib!=3.6.1,>=3.4->seaborn) (10.4.0)\n",
      "Requirement already satisfied: pyparsing>=2.3.1 in /usr/local/lib/python3.10/dist-packages (from matplotlib!=3.6.1,>=3.4->seaborn) (3.1.4)\n",
      "Requirement already satisfied: python-dateutil>=2.7 in /usr/local/lib/python3.10/dist-packages (from matplotlib!=3.6.1,>=3.4->seaborn) (2.8.2)\n",
      "Requirement already satisfied: pytz>=2020.1 in /usr/local/lib/python3.10/dist-packages (from pandas>=1.2->seaborn) (2024.2)\n",
      "Requirement already satisfied: tzdata>=2022.7 in /usr/local/lib/python3.10/dist-packages (from pandas>=1.2->seaborn) (2024.2)\n",
      "Requirement already satisfied: six>=1.5 in /usr/local/lib/python3.10/dist-packages (from python-dateutil>=2.7->matplotlib!=3.6.1,>=3.4->seaborn) (1.16.0)\n"
     ]
    }
   ],
   "source": [
    "!pip install streamlit\n",
    "!pip install folium\n",
    "!pip install seaborn"
   ]
  },
  {
   "cell_type": "code",
   "execution_count": null,
   "metadata": {
    "colab": {
     "base_uri": "https://localhost:8080/"
    },
    "id": "oxgx_2maFUNy",
    "outputId": "b301f552-2b55-48ab-9852-1c7df9dd63c0"
   },
   "outputs": [
    {
     "name": "stdout",
     "output_type": "stream",
     "text": [
      "Requirement already satisfied: streamlit in /usr/local/lib/python3.10/dist-packages (1.39.0)\n",
      "Requirement already satisfied: pyngrok in /usr/local/lib/python3.10/dist-packages (7.2.0)\n",
      "Requirement already satisfied: altair<6,>=4.0 in /usr/local/lib/python3.10/dist-packages (from streamlit) (4.2.2)\n",
      "Requirement already satisfied: blinker<2,>=1.0.0 in /usr/lib/python3/dist-packages (from streamlit) (1.4)\n",
      "Requirement already satisfied: cachetools<6,>=4.0 in /usr/local/lib/python3.10/dist-packages (from streamlit) (5.5.0)\n",
      "Requirement already satisfied: click<9,>=7.0 in /usr/local/lib/python3.10/dist-packages (from streamlit) (8.1.7)\n",
      "Requirement already satisfied: numpy<3,>=1.20 in /usr/local/lib/python3.10/dist-packages (from streamlit) (1.26.4)\n",
      "Requirement already satisfied: packaging<25,>=20 in /usr/local/lib/python3.10/dist-packages (from streamlit) (24.1)\n",
      "Requirement already satisfied: pandas<3,>=1.4.0 in /usr/local/lib/python3.10/dist-packages (from streamlit) (2.2.2)\n",
      "Requirement already satisfied: pillow<11,>=7.1.0 in /usr/local/lib/python3.10/dist-packages (from streamlit) (10.4.0)\n",
      "Requirement already satisfied: protobuf<6,>=3.20 in /usr/local/lib/python3.10/dist-packages (from streamlit) (3.20.3)\n",
      "Requirement already satisfied: pyarrow>=7.0 in /usr/local/lib/python3.10/dist-packages (from streamlit) (16.1.0)\n",
      "Requirement already satisfied: requests<3,>=2.27 in /usr/local/lib/python3.10/dist-packages (from streamlit) (2.32.3)\n",
      "Requirement already satisfied: rich<14,>=10.14.0 in /usr/local/lib/python3.10/dist-packages (from streamlit) (13.9.2)\n",
      "Requirement already satisfied: tenacity<10,>=8.1.0 in /usr/local/lib/python3.10/dist-packages (from streamlit) (9.0.0)\n",
      "Requirement already satisfied: toml<2,>=0.10.1 in /usr/local/lib/python3.10/dist-packages (from streamlit) (0.10.2)\n",
      "Requirement already satisfied: typing-extensions<5,>=4.3.0 in /usr/local/lib/python3.10/dist-packages (from streamlit) (4.12.2)\n",
      "Requirement already satisfied: gitpython!=3.1.19,<4,>=3.0.7 in /usr/local/lib/python3.10/dist-packages (from streamlit) (3.1.43)\n",
      "Requirement already satisfied: pydeck<1,>=0.8.0b4 in /usr/local/lib/python3.10/dist-packages (from streamlit) (0.9.1)\n",
      "Requirement already satisfied: tornado<7,>=6.0.3 in /usr/local/lib/python3.10/dist-packages (from streamlit) (6.3.3)\n",
      "Requirement already satisfied: watchdog<6,>=2.1.5 in /usr/local/lib/python3.10/dist-packages (from streamlit) (5.0.3)\n",
      "Requirement already satisfied: PyYAML>=5.1 in /usr/local/lib/python3.10/dist-packages (from pyngrok) (6.0.2)\n",
      "Requirement already satisfied: entrypoints in /usr/local/lib/python3.10/dist-packages (from altair<6,>=4.0->streamlit) (0.4)\n",
      "Requirement already satisfied: jinja2 in /usr/local/lib/python3.10/dist-packages (from altair<6,>=4.0->streamlit) (3.1.4)\n",
      "Requirement already satisfied: jsonschema>=3.0 in /usr/local/lib/python3.10/dist-packages (from altair<6,>=4.0->streamlit) (4.23.0)\n",
      "Requirement already satisfied: toolz in /usr/local/lib/python3.10/dist-packages (from altair<6,>=4.0->streamlit) (0.12.1)\n",
      "Requirement already satisfied: gitdb<5,>=4.0.1 in /usr/local/lib/python3.10/dist-packages (from gitpython!=3.1.19,<4,>=3.0.7->streamlit) (4.0.11)\n",
      "Requirement already satisfied: python-dateutil>=2.8.2 in /usr/local/lib/python3.10/dist-packages (from pandas<3,>=1.4.0->streamlit) (2.8.2)\n",
      "Requirement already satisfied: pytz>=2020.1 in /usr/local/lib/python3.10/dist-packages (from pandas<3,>=1.4.0->streamlit) (2024.2)\n",
      "Requirement already satisfied: tzdata>=2022.7 in /usr/local/lib/python3.10/dist-packages (from pandas<3,>=1.4.0->streamlit) (2024.2)\n",
      "Requirement already satisfied: charset-normalizer<4,>=2 in /usr/local/lib/python3.10/dist-packages (from requests<3,>=2.27->streamlit) (3.4.0)\n",
      "Requirement already satisfied: idna<4,>=2.5 in /usr/local/lib/python3.10/dist-packages (from requests<3,>=2.27->streamlit) (3.10)\n",
      "Requirement already satisfied: urllib3<3,>=1.21.1 in /usr/local/lib/python3.10/dist-packages (from requests<3,>=2.27->streamlit) (2.2.3)\n",
      "Requirement already satisfied: certifi>=2017.4.17 in /usr/local/lib/python3.10/dist-packages (from requests<3,>=2.27->streamlit) (2024.8.30)\n",
      "Requirement already satisfied: markdown-it-py>=2.2.0 in /usr/local/lib/python3.10/dist-packages (from rich<14,>=10.14.0->streamlit) (3.0.0)\n",
      "Requirement already satisfied: pygments<3.0.0,>=2.13.0 in /usr/local/lib/python3.10/dist-packages (from rich<14,>=10.14.0->streamlit) (2.18.0)\n",
      "Requirement already satisfied: smmap<6,>=3.0.1 in /usr/local/lib/python3.10/dist-packages (from gitdb<5,>=4.0.1->gitpython!=3.1.19,<4,>=3.0.7->streamlit) (5.0.1)\n",
      "Requirement already satisfied: MarkupSafe>=2.0 in /usr/local/lib/python3.10/dist-packages (from jinja2->altair<6,>=4.0->streamlit) (3.0.1)\n",
      "Requirement already satisfied: attrs>=22.2.0 in /usr/local/lib/python3.10/dist-packages (from jsonschema>=3.0->altair<6,>=4.0->streamlit) (24.2.0)\n",
      "Requirement already satisfied: jsonschema-specifications>=2023.03.6 in /usr/local/lib/python3.10/dist-packages (from jsonschema>=3.0->altair<6,>=4.0->streamlit) (2024.10.1)\n",
      "Requirement already satisfied: referencing>=0.28.4 in /usr/local/lib/python3.10/dist-packages (from jsonschema>=3.0->altair<6,>=4.0->streamlit) (0.35.1)\n",
      "Requirement already satisfied: rpds-py>=0.7.1 in /usr/local/lib/python3.10/dist-packages (from jsonschema>=3.0->altair<6,>=4.0->streamlit) (0.20.0)\n",
      "Requirement already satisfied: mdurl~=0.1 in /usr/local/lib/python3.10/dist-packages (from markdown-it-py>=2.2.0->rich<14,>=10.14.0->streamlit) (0.1.2)\n",
      "Requirement already satisfied: six>=1.5 in /usr/local/lib/python3.10/dist-packages (from python-dateutil>=2.8.2->pandas<3,>=1.4.0->streamlit) (1.16.0)\n"
     ]
    }
   ],
   "source": [
    "!pip install streamlit pyngrok"
   ]
  },
  {
   "cell_type": "code",
   "execution_count": null,
   "metadata": {
    "id": "HeLfTYIPHfO1"
   },
   "outputs": [],
   "source": [
    "! pip install streamlit -q"
   ]
  },
  {
   "cell_type": "code",
   "execution_count": null,
   "metadata": {
    "colab": {
     "base_uri": "https://localhost:8080/"
    },
    "id": "FW9oWHc6His2",
    "outputId": "9196ecea-2336-4719-afc2-24211f18e103"
   },
   "outputs": [
    {
     "name": "stdout",
     "output_type": "stream",
     "text": [
      "34.139.203.76\n"
     ]
    }
   ],
   "source": [
    "!wget -q -O - ipv4.icanhazip.com"
   ]
  },
  {
   "cell_type": "code",
   "execution_count": null,
   "metadata": {
    "colab": {
     "base_uri": "https://localhost:8080/"
    },
    "id": "o5tCd25GKZqL",
    "outputId": "d65b59c6-833c-47c5-b522-1679fd9df803"
   },
   "outputs": [
    {
     "name": "stdout",
     "output_type": "stream",
     "text": [
      "\n",
      "Collecting usage statistics. To deactivate, set browser.gatherUsageStats to false.\n",
      "\u001b[0m\n",
      "\u001b[0m\n",
      "\u001b[34m\u001b[1m  You can now view your Streamlit app in your browser.\u001b[0m\n",
      "\u001b[0m\n",
      "\u001b[34m  Local URL: \u001b[0m\u001b[1mhttp://localhost:8501\u001b[0m\n",
      "\u001b[34m  Network URL: \u001b[0m\u001b[1mhttp://172.28.0.12:8501\u001b[0m\n",
      "\u001b[34m  External URL: \u001b[0m\u001b[1mhttp://34.139.203.76:8501\u001b[0m\n",
      "\u001b[0m\n",
      "your url is: https://pink-frogs-divide.loca.lt\n",
      "\u001b[34m  Stopping...\u001b[0m\n",
      "^C\n"
     ]
    }
   ],
   "source": [
    "! streamlit run app1.py & npx localtunnel --port 8501"
   ]
  },
  {
   "cell_type": "code",
   "execution_count": null,
   "metadata": {
    "id": "5so3YOxEQ7AX"
   },
   "outputs": [],
   "source": [
    "from google.colab import drive\n",
    "drive.mount('/content/drive')"
   ]
  },
  {
   "cell_type": "code",
   "execution_count": null,
   "metadata": {
    "id": "FOFzD4ke_CKF"
   },
   "outputs": [],
   "source": [
    "import spacy\n",
    "\n",
    "nlp = spacy.load('en_core_web_sm')\n",
    "text = \"\"\"The species is facing a major threat due to habitat loss and climate change.\"\"\"\n",
    "doc = nlp(text)\n",
    "\n",
    "for ent in doc.ents:\n",
    "    print(ent.text, ent.label_)\n"
   ]
  },
  {
   "cell_type": "code",
   "execution_count": null,
   "metadata": {
    "colab": {
     "base_uri": "https://localhost:8080/"
    },
    "id": "cyQOr45kA-3a",
    "outputId": "fe21fef4-06af-4fc0-e546-65c73d524be1"
   },
   "outputs": [
    {
     "name": "stdout",
     "output_type": "stream",
     "text": [
      "Index(['133722', 'Calocedrus rupestris Aver., Hiep & L.K.Phan', 'PLANTAE',\n",
      "       'TRACHEOPHYTA', 'PINOPSIDA', 'PINALES', 'CUPRESSACEAE', 'Calocedrus',\n",
      "       'rupestris', 'Aver., Hiep & L.K.Phan', 'species', 'Unnamed: 11',\n",
      "       'accepted', '133722.1',\n",
      "       'Thomas, P., Nguyen, T.H., Phan, K.L. & Nguyen, Q.H. 2013. Calocedrus rupestris Aver., Hiep & L.K.Phan. The IUCN Red List of Threatened Species 2013: https://doi.org/10.2305/IUCN.UK.2013-1.RLTS.T133722A512509.en',\n",
      "       'https://apiv3.iucnredlist.org/api/v3/taxonredirect/133722'],\n",
      "      dtype='object')\n"
     ]
    }
   ],
   "source": [
    "# Check the column names in the DataFrame\n",
    "print(taxon_df.columns)\n"
   ]
  },
  {
   "cell_type": "code",
   "execution_count": null,
   "metadata": {
    "id": "8H0IZdSpCfmy"
   },
   "outputs": [],
   "source": [
    "# Example: selecting 'species' and using one of the taxonomic classifications\n",
    "dataset_df = taxon_df[['species', 'PLANTAE']]  # Replace 'PLANTAE' with an appropriate classification level if needed\n"
   ]
  },
  {
   "cell_type": "code",
   "execution_count": null,
   "metadata": {
    "colab": {
     "base_uri": "https://localhost:8080/"
    },
    "id": "2CMxXvMJC0bw",
    "outputId": "0aab986b-5864-4598-e3d0-8d9e04872e1d"
   },
   "outputs": [
    {
     "name": "stdout",
     "output_type": "stream",
     "text": [
      "     133722        Calocedrus rupestris Aver., Hiep & L.K.Phan  PLANTAE  \\\n",
      "0    157938                      Narthecium reverchonii Čelak.  PLANTAE   \n",
      "1    158019                            Asparagus humilis Engl.  PLANTAE   \n",
      "2    158236        Bulbostylis boeckleriana (Schweinf.) Beetle  PLANTAE   \n",
      "3  158236_1  Albigarrdia boeckleriana  (Schweinf.) K.Lye ss...  PLANTAE   \n",
      "4  158236_2  Albigarrdia boeckleriana (Schweinf.) K.Lye ssp...  PLANTAE   \n",
      "\n",
      "   TRACHEOPHYTA   PINOPSIDA       PINALES   CUPRESSACEAE   Calocedrus  \\\n",
      "0  TRACHEOPHYTA  LILIOPSIDA  DIOSCOREALES  NARTHECIACEAE   Narthecium   \n",
      "1  TRACHEOPHYTA  LILIOPSIDA   ASPARAGALES   ASPARAGACEAE    Asparagus   \n",
      "2  TRACHEOPHYTA  LILIOPSIDA        POALES     CYPERACEAE  Bulbostylis   \n",
      "3           NaN         NaN           NaN            NaN          NaN   \n",
      "4           NaN         NaN           NaN            NaN          NaN   \n",
      "\n",
      "      rupestris Aver., Hiep & L.K.Phan  species Unnamed: 11  accepted  \\\n",
      "0   reverchonii                 Čelak.  species         NaN  accepted   \n",
      "1       humilis                  Engl.  species         NaN  accepted   \n",
      "2  boeckleriana     (Schweinf.) Beetle  species         NaN  accepted   \n",
      "3           NaN      (Schweinf.) K.Lye      NaN         NaN   synonym   \n",
      "4           NaN      (Schweinf.) K.Lye      NaN         NaN   synonym   \n",
      "\n",
      "   133722.1  \\\n",
      "0    157938   \n",
      "1    158019   \n",
      "2    158236   \n",
      "3    158236   \n",
      "4    158236   \n",
      "\n",
      "  Thomas, P., Nguyen, T.H., Phan, K.L. & Nguyen, Q.H. 2013. Calocedrus rupestris Aver., Hiep & L.K.Phan. The IUCN Red List of Threatened Species 2013: https://doi.org/10.2305/IUCN.UK.2013-1.RLTS.T133722A512509.en  \\\n",
      "0  Lansdown, R.V. 2018. Narthecium reverchonii Če...                                                                                                                                                                   \n",
      "1  Beentje, H.J., Gereau, R.E., Hilton-Taylor, C....                                                                                                                                                                   \n",
      "2  Contu, S. & IUCN SSC East African Plants Red L...                                                                                                                                                                   \n",
      "3  Contu, S. & IUCN SSC East African Plants Red L...                                                                                                                                                                   \n",
      "4  Contu, S. & IUCN SSC East African Plants Red L...                                                                                                                                                                   \n",
      "\n",
      "  https://apiv3.iucnredlist.org/api/v3/taxonredirect/133722  \n",
      "0  https://apiv3.iucnredlist.org/api/v3/taxonredi...         \n",
      "1  https://apiv3.iucnredlist.org/api/v3/taxonredi...         \n",
      "2  https://apiv3.iucnredlist.org/api/v3/taxonredi...         \n",
      "3  https://apiv3.iucnredlist.org/api/v3/taxonredi...         \n",
      "4  https://apiv3.iucnredlist.org/api/v3/taxonredi...         \n"
     ]
    }
   ],
   "source": [
    "# Display the first few rows of the DataFrame along with column names\n",
    "print(taxon_df.head())\n"
   ]
  },
  {
   "cell_type": "code",
   "execution_count": null,
   "metadata": {
    "colab": {
     "base_uri": "https://localhost:8080/"
    },
    "id": "FGqQgaBrC-2Y",
    "outputId": "40e23540-208f-4093-fb0e-f1b139abda99"
   },
   "outputs": [
    {
     "name": "stdout",
     "output_type": "stream",
     "text": [
      "[{'label': 'LABEL_0', 'score': 0.5091677308082581}]\n"
     ]
    }
   ],
   "source": [
    "# Print the classification result\n",
    "print(result)\n"
   ]
  },
  {
   "cell_type": "code",
   "execution_count": null,
   "metadata": {
    "colab": {
     "base_uri": "https://localhost:8080/"
    },
    "id": "_8Ocht4FDUtz",
    "outputId": "e96ac26c-55b1-484a-87be-1580c77fe2e2"
   },
   "outputs": [
    {
     "name": "stdout",
     "output_type": "stream",
     "text": [
      "Text: This species is highly vulnerable to poaching and climate change.\n",
      "Classification: {'label': 'LABEL_0', 'score': 0.5091677308082581}\n",
      "\n",
      "Text: This species is thriving and well-protected.\n",
      "Classification: {'label': 'LABEL_1', 'score': 0.5016650557518005}\n",
      "\n"
     ]
    }
   ],
   "source": [
    "texts = [\n",
    "    \"This species is highly vulnerable to poaching and climate change.\",\n",
    "    \"This species is thriving and well-protected.\"\n",
    "]\n",
    "\n",
    "results = classifier(texts)\n",
    "for text, result in zip(texts, results):\n",
    "    print(f\"Text: {text}\\nClassification: {result}\\n\")\n"
   ]
  },
  {
   "cell_type": "code",
   "execution_count": null,
   "metadata": {
    "id": "5iZR3ZqlDajR"
   },
   "outputs": [],
   "source": [
    "from transformers import Trainer, TrainingArguments\n",
    "\n",
    "# Set up training arguments and trainer here\n",
    "# Fine-tuning code would go here\n"
   ]
  },
  {
   "cell_type": "code",
   "execution_count": null,
   "metadata": {
    "id": "-KW5YX6-DcqT"
   },
   "outputs": [],
   "source": [
    "classifier.save_pretrained(\"my_model\")\n"
   ]
  },
  {
   "cell_type": "code",
   "execution_count": null,
   "metadata": {
    "colab": {
     "base_uri": "https://localhost:8080/",
     "height": 472
    },
    "id": "SovLLh5pDfut",
    "outputId": "3ecf9dbc-233f-4af0-c4e7-027e0df87ab0"
   },
   "outputs": [
    {
     "data": {
      "image/png": "[encoded data removed]",
      "text/plain": [
       "<Figure size 640x480 with 1 Axes>"
      ]
     },
     "metadata": {},
     "output_type": "display_data"
    }
   ],
   "source": [
    "import matplotlib.pyplot as plt\n",
    "\n",
    "labels = [result['label'] for result in results]\n",
    "scores = [result['score'] for result in results]\n",
    "\n",
    "plt.bar(labels, scores)\n",
    "plt.xlabel('Labels')\n",
    "plt.ylabel('Scores')\n",
    "plt.title('Text Classification Results')\n",
    "plt.show()\n"
   ]
  },
  {
   "cell_type": "code",
   "execution_count": null,
   "metadata": {
    "colab": {
     "base_uri": "https://localhost:8080/",
     "height": 561
    },
    "id": "6TBoCTuFDtNv",
    "outputId": "725f2317-7bab-469d-e5e1-0d8a89772a04"
   },
   "outputs": [
    {
     "name": "stderr",
     "output_type": "stream",
     "text": [
      "Some weights of BertForSequenceClassification were not initialized from the model checkpoint at bert-base-uncased and are newly initialized: ['classifier.bias', 'classifier.weight']\n",
      "You should probably TRAIN this model on a down-stream task to be able to use it for predictions and inference.\n",
      "/usr/local/lib/python3.10/dist-packages/transformers/tokenization_utils_base.py:1601: FutureWarning: `clean_up_tokenization_spaces` was not set. It will be set to `True` by default. This behavior will be depracted in transformers v4.45, and will be then set to `False` by default. For more details check this issue: https://github.com/huggingface/transformers/issues/31884\n",
      "  warnings.warn(\n"
     ]
    },
    {
     "data": {
      "image/png": "[encoded data removed]",
      "text/plain": [
       "<Figure size 640x480 with 1 Axes>"
      ]
     },
     "metadata": {},
     "output_type": "display_data"
    }
   ],
   "source": [
    "from transformers import pipeline\n",
    "import matplotlib.pyplot as plt\n",
    "\n",
    "# Set up the classifier\n",
    "classifier = pipeline(\"text-classification\", model=\"bert-base-uncased\")\n",
    "\n",
    "# Sample texts\n",
    "texts = [\n",
    "    \"This species is highly vulnerable to poaching and climate change.\",\n",
    "    \"This species is thriving and well-protected.\"\n",
    "]\n",
    "\n",
    "# Classify the texts\n",
    "results = classifier(texts)\n",
    "\n",
    "# Define a mapping for labels\n",
    "label_mapping = {\n",
    "    'LABEL_0': 'Not Vulnerable',\n",
    "    'LABEL_1': 'Vulnerable'\n",
    "}\n",
    "\n",
    "# Extract labels and scores\n",
    "descriptive_labels = [label_mapping[result['label']] for result in results]\n",
    "scores = [result['score'] for result in results]\n",
    "\n",
    "# Plotting\n",
    "plt.bar(descriptive_labels, scores, color=['green' if score > 0.5 else 'red' for score in scores])\n",
    "plt.xlabel('Labels')\n",
    "plt.ylabel('Scores')\n",
    "plt.title('Text Classification Results')\n",
    "plt.ylim(0, 1)  # Set y-axis limit from 0 to 1 for clarity\n",
    "plt.axhline(y=0.5, color='r', linestyle='--')  # Threshold line\n",
    "plt.grid(axis='y')\n",
    "plt.show()\n"
   ]
  },
  {
   "cell_type": "code",
   "execution_count": null,
   "metadata": {
    "id": "sscGK66sEZwA"
   },
   "outputs": [],
   "source": [
    "from sklearn.ensemble import RandomForestClassifier\n",
    "from sklearn.model_selection import train_test_split\n",
    "from sklearn.metrics import classification_report\n",
    "from sklearn.preprocessing import LabelEncoder\n"
   ]
  },
  {
   "cell_type": "code",
   "execution_count": null,
   "metadata": {
    "id": "oGTMv2n6EfFZ"
   },
   "outputs": [],
   "source": [
    "X.loc[:, 'population_trend'] = le_population_trend.fit_transform(X['population_trend'])\n",
    "X.loc[:, 'habitat_type'] = le_habitat_type.fit_transform(X['habitat_type'])\n",
    "X.loc[:, 'threats'] = le_threats.fit_transform(X['threats'])\n"
   ]
  },
  {
   "cell_type": "code",
   "execution_count": null,
   "metadata": {
    "colab": {
     "base_uri": "https://localhost:8080/"
    },
    "id": "fLgUKCNIE0dK",
    "outputId": "9761270b-f2fa-4f4d-ace8-3a31fcc69b44"
   },
   "outputs": [
    {
     "name": "stdout",
     "output_type": "stream",
     "text": [
      "Unique classes in y_test: {0, 2}\n",
      "Unique classes in y_pred: {2}\n"
     ]
    }
   ],
   "source": [
    "print(\"Unique classes in y_test:\", set(y_test))\n",
    "print(\"Unique classes in y_pred:\", set(y_pred))\n"
   ]
  },
  {
   "cell_type": "code",
   "execution_count": null,
   "metadata": {
    "colab": {
     "base_uri": "https://localhost:8080/"
    },
    "id": "HiCQCJIQEiM7",
    "outputId": "bb1b7a86-a55b-485b-e21c-9eaf30a1a5d2"
   },
   "outputs": [
    {
     "name": "stderr",
     "output_type": "stream",
     "text": [
      "<ipython-input-131-aa317d270558>:26: SettingWithCopyWarning: \n",
      "A value is trying to be set on a copy of a slice from a DataFrame.\n",
      "Try using .loc[row_indexer,col_indexer] = value instead\n",
      "\n",
      "See the caveats in the documentation: https://pandas.pydata.org/pandas-docs/stable/user_guide/indexing.html#returning-a-view-versus-a-copy\n",
      "  X['population_trend'] = le_population_trend.fit_transform(X['population_trend'])\n",
      "<ipython-input-131-aa317d270558>:27: SettingWithCopyWarning: \n",
      "A value is trying to be set on a copy of a slice from a DataFrame.\n",
      "Try using .loc[row_indexer,col_indexer] = value instead\n",
      "\n",
      "See the caveats in the documentation: https://pandas.pydata.org/pandas-docs/stable/user_guide/indexing.html#returning-a-view-versus-a-copy\n",
      "  X['habitat_type'] = le_habitat_type.fit_transform(X['habitat_type'])\n",
      "<ipython-input-131-aa317d270558>:28: SettingWithCopyWarning: \n",
      "A value is trying to be set on a copy of a slice from a DataFrame.\n",
      "Try using .loc[row_indexer,col_indexer] = value instead\n",
      "\n",
      "See the caveats in the documentation: https://pandas.pydata.org/pandas-docs/stable/user_guide/indexing.html#returning-a-view-versus-a-copy\n",
      "  X['threats'] = le_threats.fit_transform(X['threats'])\n"
     ]
    },
    {
     "name": "stdout",
     "output_type": "stream",
     "text": [
      "Class distribution in training data:\n",
      "0    1\n",
      "1    1\n",
      "2    1\n",
      "Name: count, dtype: int64\n",
      "Class distribution in testing data:\n",
      "2    1\n",
      "0    1\n",
      "Name: count, dtype: int64\n",
      "Unique classes in y_test: {0, 2}\n",
      "Unique classes in y_pred: {1}\n",
      "              precision    recall  f1-score   support\n",
      "\n",
      "        High       0.00      0.00      0.00       1.0\n",
      "         Low       0.00      0.00      0.00       0.0\n",
      "      Medium       0.00      0.00      0.00       1.0\n",
      "\n",
      "    accuracy                           0.00       2.0\n",
      "   macro avg       0.00      0.00      0.00       2.0\n",
      "weighted avg       0.00      0.00      0.00       2.0\n",
      "\n"
     ]
    }
   ],
   "source": [
    "from sklearn.ensemble import RandomForestClassifier\n",
    "from sklearn.model_selection import train_test_split\n",
    "from sklearn.metrics import classification_report\n",
    "from sklearn.preprocessing import LabelEncoder\n",
    "import pandas as pd\n",
    "\n",
    "# Example DataFrame creation (replace this with your actual DataFrame)\n",
    "data = {\n",
    "    'population_trend': ['Increasing', 'Stable', 'Decreasing', 'Increasing', 'Stable'],\n",
    "    'habitat_type': ['Forest', 'Grassland', 'Wetland', 'Forest', 'Grassland'],\n",
    "    'threats': ['Poaching', 'Habitat Loss', 'Climate Change', 'Poaching', 'Habitat Loss'],\n",
    "    'threat_level': ['Low', 'Medium', 'High', 'Medium', 'High']\n",
    "}\n",
    "taxon_df = pd.DataFrame(data)\n",
    "\n",
    "# Prepare your data\n",
    "X = taxon_df[['population_trend', 'habitat_type', 'threats']]  # Features\n",
    "y = taxon_df['threat_level']  # Labels\n",
    "\n",
    "# Encoding categorical features\n",
    "le_population_trend = LabelEncoder()\n",
    "le_habitat_type = LabelEncoder()\n",
    "le_threats = LabelEncoder()\n",
    "le_threat_level = LabelEncoder()\n",
    "\n",
    "X['population_trend'] = le_population_trend.fit_transform(X['population_trend'])\n",
    "X['habitat_type'] = le_habitat_type.fit_transform(X['habitat_type'])\n",
    "X['threats'] = le_threats.fit_transform(X['threats'])\n",
    "y = le_threat_level.fit_transform(y)  # Encoding target variable\n",
    "\n",
    "# Split the data\n",
    "X_train, X_test, y_train, y_test = train_test_split(X, y, test_size=0.3, random_state=42)\n",
    "\n",
    "# Check class distribution in training and testing data\n",
    "print(\"Class distribution in training data:\")\n",
    "print(pd.Series(y_train).value_counts())\n",
    "print(\"Class distribution in testing data:\")\n",
    "print(pd.Series(y_test).value_counts())\n",
    "\n",
    "# Train the model with class weights\n",
    "model = RandomForestClassifier(class_weight='balanced')\n",
    "model.fit(X_train, y_train)\n",
    "\n",
    "# Make predictions\n",
    "y_pred = model.predict(X_test)\n",
    "\n",
    "# Check unique classes\n",
    "print(\"Unique classes in y_test:\", set(y_test))\n",
    "print(\"Unique classes in y_pred:\", set(y_pred))\n",
    "\n",
    "# Specify labels manually to avoid errors\n",
    "labels = [0, 1, 2]  # Assuming 0, 1, and 2 correspond to 'Low', 'Medium', 'High'\n",
    "\n",
    "# Evaluate the model\n",
    "print(classification_report(y_test, y_pred, target_names=le_threat_level.classes_, labels=labels, zero_division=0))\n"
   ]
  },
  {
   "cell_type": "code",
   "execution_count": null,
   "metadata": {
    "colab": {
     "base_uri": "https://localhost:8080/"
    },
    "id": "HzSlMjSHFfFp",
    "outputId": "8e8be1aa-fbb9-493e-e0f7-c31e90f7c776"
   },
   "outputs": [
    {
     "name": "stdout",
     "output_type": "stream",
     "text": [
      "Class distribution in training data:\n",
      "0    1\n",
      "1    1\n",
      "2    1\n",
      "Name: count, dtype: int64\n",
      "Class distribution in testing data:\n",
      "2    1\n",
      "0    1\n",
      "Name: count, dtype: int64\n",
      "Unique classes in y_test: {0, 2}\n",
      "Unique classes in y_pred: {2}\n",
      "              precision    recall  f1-score   support\n",
      "\n",
      "        High       0.00      0.00      0.00         1\n",
      "         Low       0.00      0.00      0.00         0\n",
      "      Medium       0.50      1.00      0.67         1\n",
      "\n",
      "    accuracy                           0.50         2\n",
      "   macro avg       0.17      0.33      0.22         2\n",
      "weighted avg       0.25      0.50      0.33         2\n",
      "\n"
     ]
    }
   ],
   "source": [
    "from sklearn.ensemble import RandomForestClassifier\n",
    "from sklearn.model_selection import train_test_split\n",
    "from sklearn.metrics import classification_report\n",
    "from sklearn.preprocessing import LabelEncoder\n",
    "import pandas as pd\n",
    "\n",
    "# Example DataFrame creation (replace this with your actual DataFrame)\n",
    "data = {\n",
    "    'population_trend': ['Increasing', 'Stable', 'Decreasing', 'Increasing', 'Stable'],\n",
    "    'habitat_type': ['Forest', 'Grassland', 'Wetland', 'Forest', 'Grassland'],\n",
    "    'threats': ['Poaching', 'Habitat Loss', 'Climate Change', 'Poaching', 'Habitat Loss'],\n",
    "    'threat_level': ['Low', 'Medium', 'High', 'Medium', 'High']\n",
    "}\n",
    "taxon_df = pd.DataFrame(data)\n",
    "\n",
    "# Prepare your data\n",
    "X = taxon_df[['population_trend', 'habitat_type', 'threats']]  # Features\n",
    "y = taxon_df['threat_level']  # Labels\n",
    "\n",
    "# Encoding categorical features using .loc\n",
    "le_population_trend = LabelEncoder()\n",
    "le_habitat_type = LabelEncoder()\n",
    "le_threats = LabelEncoder()\n",
    "le_threat_level = LabelEncoder()\n",
    "\n",
    "X.loc[:, 'population_trend'] = le_population_trend.fit_transform(X['population_trend'])\n",
    "X.loc[:, 'habitat_type'] = le_habitat_type.fit_transform(X['habitat_type'])\n",
    "X.loc[:, 'threats'] = le_threats.fit_transform(X['threats'])\n",
    "y = le_threat_level.fit_transform(y)  # Encoding target variable\n",
    "\n",
    "# Split the data\n",
    "X_train, X_test, y_train, y_test = train_test_split(X, y, test_size=0.3, random_state=42)\n",
    "\n",
    "# Check class distribution in training and testing data\n",
    "print(\"Class distribution in training data:\")\n",
    "print(pd.Series(y_train).value_counts())\n",
    "print(\"Class distribution in testing data:\")\n",
    "print(pd.Series(y_test).value_counts())\n",
    "\n",
    "# Train the model with class weights\n",
    "model = RandomForestClassifier(class_weight='balanced')\n",
    "model.fit(X_train, y_train)\n",
    "\n",
    "# Make predictions\n",
    "y_pred = model.predict(X_test)\n",
    "\n",
    "# Check unique classes\n",
    "print(\"Unique classes in y_test:\", set(y_test))\n",
    "print(\"Unique classes in y_pred:\", set(y_pred))\n",
    "\n",
    "# Specify labels manually to avoid errors\n",
    "labels = [0, 1, 2]  # Assuming 0, 1, and 2 correspond to 'Low', 'Medium', 'High'\n",
    "\n",
    "# Evaluate the model\n",
    "print(classification_report(y_test, y_pred, target_names=le_threat_level.classes_, labels=labels, zero_division=0))\n"
   ]
  },
  {
   "cell_type": "code",
   "execution_count": null,
   "metadata": {
    "colab": {
     "base_uri": "https://localhost:8080/",
     "height": 932
    },
    "id": "PxPBMKmEADGA",
    "outputId": "2b6ab0ff-734a-42b1-8ac3-8c7ec0c386ae"
   },
   "outputs": [
    {
     "name": "stdout",
     "output_type": "stream",
     "text": [
      "Requirement already satisfied: geopandas in /usr/local/lib/python3.10/dist-packages (1.0.1)\n",
      "Requirement already satisfied: matplotlib in /usr/local/lib/python3.10/dist-packages (3.7.1)\n",
      "Collecting basemap\n",
      "  Downloading basemap-1.4.1-cp310-cp310-manylinux1_x86_64.whl.metadata (9.1 kB)\n",
      "Requirement already satisfied: numpy in /usr/local/lib/python3.10/dist-packages (1.26.4)\n",
      "Requirement already satisfied: pyogrio>=0.7.2 in /usr/local/lib/python3.10/dist-packages (from geopandas) (0.10.0)\n",
      "Requirement already satisfied: packaging in /usr/local/lib/python3.10/dist-packages (from geopandas) (24.1)\n",
      "Requirement already satisfied: pandas>=1.4.0 in /usr/local/lib/python3.10/dist-packages (from geopandas) (2.2.2)\n",
      "Requirement already satisfied: pyproj>=3.3.0 in /usr/local/lib/python3.10/dist-packages (from geopandas) (3.7.0)\n",
      "Requirement already satisfied: shapely>=2.0.0 in /usr/local/lib/python3.10/dist-packages (from geopandas) (2.0.6)\n",
      "Requirement already satisfied: contourpy>=1.0.1 in /usr/local/lib/python3.10/dist-packages (from matplotlib) (1.3.0)\n",
      "Requirement already satisfied: cycler>=0.10 in /usr/local/lib/python3.10/dist-packages (from matplotlib) (0.12.1)\n",
      "Requirement already satisfied: fonttools>=4.22.0 in /usr/local/lib/python3.10/dist-packages (from matplotlib) (4.54.1)\n",
      "Requirement already satisfied: kiwisolver>=1.0.1 in /usr/local/lib/python3.10/dist-packages (from matplotlib) (1.4.7)\n",
      "Requirement already satisfied: pillow>=6.2.0 in /usr/local/lib/python3.10/dist-packages (from matplotlib) (10.4.0)\n",
      "Requirement already satisfied: pyparsing>=2.3.1 in /usr/local/lib/python3.10/dist-packages (from matplotlib) (3.2.0)\n",
      "Requirement already satisfied: python-dateutil>=2.7 in /usr/local/lib/python3.10/dist-packages (from matplotlib) (2.8.2)\n",
      "Collecting basemap-data<1.4,>=1.3.2 (from basemap)\n",
      "  Downloading basemap_data-1.3.2-py2.py3-none-any.whl.metadata (2.7 kB)\n",
      "Requirement already satisfied: pyshp<2.4,>=1.2 in /usr/local/lib/python3.10/dist-packages (from basemap) (2.3.1)\n",
      "Collecting pyproj>=3.3.0 (from geopandas)\n",
      "  Downloading pyproj-3.6.1-cp310-cp310-manylinux_2_17_x86_64.manylinux2014_x86_64.whl.metadata (31 kB)\n",
      "Collecting packaging (from geopandas)\n",
      "  Downloading packaging-23.2-py3-none-any.whl.metadata (3.2 kB)\n",
      "Requirement already satisfied: pytz>=2020.1 in /usr/local/lib/python3.10/dist-packages (from pandas>=1.4.0->geopandas) (2024.2)\n",
      "Requirement already satisfied: tzdata>=2022.7 in /usr/local/lib/python3.10/dist-packages (from pandas>=1.4.0->geopandas) (2024.2)\n",
      "Requirement already satisfied: certifi in /usr/local/lib/python3.10/dist-packages (from pyogrio>=0.7.2->geopandas) (2024.8.30)\n",
      "Requirement already satisfied: six>=1.5 in /usr/local/lib/python3.10/dist-packages (from python-dateutil>=2.7->matplotlib) (1.16.0)\n",
      "Downloading basemap-1.4.1-cp310-cp310-manylinux1_x86_64.whl (935 kB)\n",
      "\u001b[2K   \u001b[90m━━━━━━━━━━━━━━━━━━━━━━━━━━━━━━━━━━━━━━━━\u001b[0m \u001b[32m936.0/936.0 kB\u001b[0m \u001b[31m15.5 MB/s\u001b[0m eta \u001b[36m0:00:00\u001b[0m\n",
      "\u001b[?25hDownloading basemap_data-1.3.2-py2.py3-none-any.whl (30.5 MB)\n",
      "\u001b[2K   \u001b[90m━━━━━━━━━━━━━━━━━━━━━━━━━━━━━━━━━━━━━━━━\u001b[0m \u001b[32m30.5/30.5 MB\u001b[0m \u001b[31m21.7 MB/s\u001b[0m eta \u001b[36m0:00:00\u001b[0m\n",
      "\u001b[?25hDownloading packaging-23.2-py3-none-any.whl (53 kB)\n",
      "\u001b[2K   \u001b[90m━━━━━━━━━━━━━━━━━━━━━━━━━━━━━━━━━━━━━━━━\u001b[0m \u001b[32m53.0/53.0 kB\u001b[0m \u001b[31m4.0 MB/s\u001b[0m eta \u001b[36m0:00:00\u001b[0m\n",
      "\u001b[?25hDownloading pyproj-3.6.1-cp310-cp310-manylinux_2_17_x86_64.manylinux2014_x86_64.whl (8.3 MB)\n",
      "\u001b[2K   \u001b[90m━━━━━━━━━━━━━━━━━━━━━━━━━━━━━━━━━━━━━━━━\u001b[0m \u001b[32m8.3/8.3 MB\u001b[0m \u001b[31m45.6 MB/s\u001b[0m eta \u001b[36m0:00:00\u001b[0m\n",
      "\u001b[?25hInstalling collected packages: pyproj, packaging, basemap-data, basemap\n",
      "  Attempting uninstall: pyproj\n",
      "    Found existing installation: pyproj 3.7.0\n",
      "    Uninstalling pyproj-3.7.0:\n",
      "      Successfully uninstalled pyproj-3.7.0\n",
      "  Attempting uninstall: packaging\n",
      "    Found existing installation: packaging 24.1\n",
      "    Uninstalling packaging-24.1:\n",
      "      Successfully uninstalled packaging-24.1\n",
      "Successfully installed basemap-1.4.1 basemap-data-1.3.2 packaging-23.2 pyproj-3.6.1\n"
     ]
    },
    {
     "data": {
      "application/vnd.colab-display-data+json": {
       "id": "3610b6a64f874558a7c2a3c8ddcc766a",
       "pip_warning": {
        "packages": [
         "mpl_toolkits"
        ]
       }
      }
     },
     "metadata": {},
     "output_type": "display_data"
    }
   ],
   "source": [
    "pip install geopandas matplotlib basemap numpy\n"
   ]
  },
  {
   "cell_type": "code",
   "execution_count": null,
   "metadata": {
    "colab": {
     "base_uri": "https://localhost:8080/",
     "height": 454
    },
    "id": "lWW_A8OZAPN6",
    "outputId": "06030bee-06ac-4efc-ff52-b1914662fd67"
   },
   "outputs": [
    {
     "name": "stderr",
     "output_type": "stream",
     "text": [
      "<ipython-input-1-99d383d03e21>:31: MatplotlibDeprecationWarning: The get_cmap function was deprecated in Matplotlib 3.7 and will be removed two minor releases later. Use ``matplotlib.colormaps[name]`` or ``matplotlib.colormaps.get_cmap(obj)`` instead.\n",
      "  cmap = cm.get_cmap('plasma')\n"
     ]
    },
    {
     "data": {
      "image/png": "[encoded data removed]",
      "text/plain": [
       "<Figure size 640x480 with 2 Axes>"
      ]
     },
     "metadata": {},
     "output_type": "display_data"
    }
   ],
   "source": [
    "import numpy as np\n",
    "import matplotlib.pyplot as plt\n",
    "from mpl_toolkits.basemap import Basemap\n",
    "import pandas as pd\n",
    "import geopandas as gpd\n",
    "from matplotlib import cm\n",
    "\n",
    "# Create a Basemap instance for plotting the world map\n",
    "m = Basemap(projection='mill',\n",
    "            llcrnrlat=-60, urcrnrlat=90,\n",
    "            llcrnrlon=-180, urcrnrlon=180,\n",
    "            resolution='c')\n",
    "\n",
    "# Load example data for locations and threat levels (you will need to replace this with your actual dataset)\n",
    "# Assuming you have a DataFrame with 'lat', 'lon', and 'threat_level' (number of species threatened)\n",
    "# Example:\n",
    "# df = pd.read_csv('species_threat_data.csv')  # Replace with actual dataset\n",
    "lons = [-60, 30, 120]  # Example longitudes\n",
    "lats = [-10, 50, -5]   # Example latitudes\n",
    "threat_levels = [10, 30, 50]  # Example threat levels\n",
    "\n",
    "# Draw map boundary and coastlines\n",
    "m.drawcoastlines()\n",
    "m.drawcountries()\n",
    "\n",
    "# Plot points with color gradients based on threat levels\n",
    "x, y = m(lons, lats)\n",
    "\n",
    "# Normalize threat level for color mapping\n",
    "norm = plt.Normalize(min(threat_levels), max(threat_levels))\n",
    "cmap = cm.get_cmap('plasma')\n",
    "\n",
    "# Plot points\n",
    "sc = plt.scatter(x, y, c=threat_levels, s=100, cmap=cmap, norm=norm, edgecolor='k', lw=0.5)\n",
    "\n",
    "# Add color bar\n",
    "cb = plt.colorbar(sc, orientation=\"horizontal\", pad=0.05)\n",
    "cb.set_label('Number of Species Predicted to be Threatened by Extinction')\n",
    "\n",
    "# Show plot\n",
    "plt.show()\n"
   ]
  },
  {
   "cell_type": "code",
   "execution_count": null,
   "metadata": {
    "colab": {
     "base_uri": "https://localhost:8080/"
    },
    "id": "GCXl14vEA2ic",
    "outputId": "39c7b266-2a35-4710-ba19-4a73cd847dc4"
   },
   "outputs": [
    {
     "name": "stdout",
     "output_type": "stream",
     "text": [
      "Requirement already satisfied: geopandas in /usr/local/lib/python3.10/dist-packages (1.0.1)\n",
      "Requirement already satisfied: matplotlib in /usr/local/lib/python3.10/dist-packages (3.7.1)\n",
      "Requirement already satisfied: numpy in /usr/local/lib/python3.10/dist-packages (1.26.4)\n",
      "Requirement already satisfied: pyogrio>=0.7.2 in /usr/local/lib/python3.10/dist-packages (from geopandas) (0.10.0)\n",
      "Requirement already satisfied: packaging in /usr/local/lib/python3.10/dist-packages (from geopandas) (23.2)\n",
      "Requirement already satisfied: pandas>=1.4.0 in /usr/local/lib/python3.10/dist-packages (from geopandas) (2.2.2)\n",
      "Requirement already satisfied: pyproj>=3.3.0 in /usr/local/lib/python3.10/dist-packages (from geopandas) (3.6.1)\n",
      "Requirement already satisfied: shapely>=2.0.0 in /usr/local/lib/python3.10/dist-packages (from geopandas) (2.0.6)\n",
      "Requirement already satisfied: contourpy>=1.0.1 in /usr/local/lib/python3.10/dist-packages (from matplotlib) (1.3.0)\n",
      "Requirement already satisfied: cycler>=0.10 in /usr/local/lib/python3.10/dist-packages (from matplotlib) (0.12.1)\n",
      "Requirement already satisfied: fonttools>=4.22.0 in /usr/local/lib/python3.10/dist-packages (from matplotlib) (4.54.1)\n",
      "Requirement already satisfied: kiwisolver>=1.0.1 in /usr/local/lib/python3.10/dist-packages (from matplotlib) (1.4.7)\n",
      "Requirement already satisfied: pillow>=6.2.0 in /usr/local/lib/python3.10/dist-packages (from matplotlib) (10.4.0)\n",
      "Requirement already satisfied: pyparsing>=2.3.1 in /usr/local/lib/python3.10/dist-packages (from matplotlib) (3.2.0)\n",
      "Requirement already satisfied: python-dateutil>=2.7 in /usr/local/lib/python3.10/dist-packages (from matplotlib) (2.8.2)\n",
      "Requirement already satisfied: pytz>=2020.1 in /usr/local/lib/python3.10/dist-packages (from pandas>=1.4.0->geopandas) (2024.2)\n",
      "Requirement already satisfied: tzdata>=2022.7 in /usr/local/lib/python3.10/dist-packages (from pandas>=1.4.0->geopandas) (2024.2)\n",
      "Requirement already satisfied: certifi in /usr/local/lib/python3.10/dist-packages (from pyogrio>=0.7.2->geopandas) (2024.8.30)\n",
      "Requirement already satisfied: six>=1.5 in /usr/local/lib/python3.10/dist-packages (from python-dateutil>=2.7->matplotlib) (1.16.0)\n"
     ]
    }
   ],
   "source": [
    "pip install geopandas matplotlib numpy\n"
   ]
  },
  {
   "cell_type": "code",
   "execution_count": null,
   "metadata": {
    "colab": {
     "base_uri": "https://localhost:8080/",
     "height": 489
    },
    "id": "0Sbmx-inA4oh",
    "outputId": "9ea63d95-58a9-4a0b-b794-65080bb86563"
   },
   "outputs": [
    {
     "name": "stderr",
     "output_type": "stream",
     "text": [
      "<ipython-input-11-dd326c772c1a>:39: MatplotlibDeprecationWarning: Unable to determine Axes to steal space for Colorbar. Using gca(), but will raise in the future. Either provide the *cax* argument to use as the Axes for the Colorbar, provide the *ax* argument to steal space from it, or add *mappable* to an Axes.\n",
      "  cbar = plt.colorbar(sm, orientation=\"horizontal\", pad=0.03)\n"
     ]
    },
    {
     "data": {
      "image/png": "[encoded data removed]",
      "text/plain": [
       "<Figure size 1500x1000 with 2 Axes>"
      ]
     },
     "metadata": {},
     "output_type": "display_data"
    }
   ],
   "source": [
    "import geopandas as gpd\n",
    "import matplotlib.pyplot as plt\n",
    "from shapely.geometry import Point\n",
    "import pandas as pd\n",
    "import contextily as ctx  # This will provide a basemap\n",
    "\n",
    "# Step 1: Create a sample dataset\n",
    "data = {\n",
    "    'longitude': [-74.0, 120.0, 90.0, 10.0, 45.0, -45.0, 130.0, 100.0, 75.0],\n",
    "    'latitude': [4.0, -25.0, 15.0, 30.0, -10.0, 60.0, -35.0, 10.0, -5.0],\n",
    "    'threat_level': [5, 10, 20, 25, 30, 35, 40, 45, 50]  # Lower to higher threat levels\n",
    "}\n",
    "\n",
    "df = pd.DataFrame(data)\n",
    "\n",
    "# Step 2: Convert the dataframe into a GeoDataFrame\n",
    "gdf = gpd.GeoDataFrame(df, geometry=gpd.points_from_xy(df.longitude, df.latitude), crs='EPSG:4326')\n",
    "\n",
    "# Step 3: Reproject the GeoDataFrame to the Web Mercator projection (needed for contextily)\n",
    "gdf = gdf.to_crs(epsg=3857)\n",
    "\n",
    "# Step 4: Plot the data points on a map\n",
    "fig, ax = plt.subplots(figsize=(15, 10))\n",
    "\n",
    "# Normalize the threat levels for color mapping (min -> low threat, max -> high threat)\n",
    "norm = plt.Normalize(vmin=gdf['threat_level'].min(), vmax=gdf['threat_level'].max())\n",
    "cmap = plt.cm.plasma  # A full color gradient ranging from purple to yellow\n",
    "\n",
    "# Plot points with size proportional to threat level and color\n",
    "gdf.plot(ax=ax, marker='o', c=gdf['threat_level'], cmap=cmap,\n",
    "         markersize=gdf['threat_level'] * 5, edgecolor='k', linewidth=0.5, norm=norm)\n",
    "\n",
    "# Step 5: Add a basemap from contextily\n",
    "ctx.add_basemap(ax, source=ctx.providers.OpenStreetMap.Mapnik, zoom=2)  # Adjust zoom for clarity\n",
    "\n",
    "# Step 6: Add color bar to indicate threat levels (from least to most endangered)\n",
    "sm = plt.cm.ScalarMappable(cmap=cmap, norm=norm)\n",
    "sm.set_array([])\n",
    "cbar = plt.colorbar(sm, orientation=\"horizontal\", pad=0.03)\n",
    "cbar.set_label('Threat Level (Low -> High)', fontsize=12)\n",
    "\n",
    "# Customize the map\n",
    "ax.set_title('Global Map of Threatened Species', fontsize=15)\n",
    "plt.show()\n"
   ]
  },
  {
   "cell_type": "code",
   "execution_count": null,
   "metadata": {
    "colab": {
     "base_uri": "https://localhost:8080/"
    },
    "id": "7bKvuQWCBptk",
    "outputId": "e55799b3-3a42-4d6d-f965-317c158aa2ff"
   },
   "outputs": [
    {
     "name": "stdout",
     "output_type": "stream",
     "text": [
      "Collecting contextily\n",
      "  Downloading contextily-1.6.2-py3-none-any.whl.metadata (2.9 kB)\n",
      "Requirement already satisfied: geopy in /usr/local/lib/python3.10/dist-packages (from contextily) (2.4.1)\n",
      "Requirement already satisfied: matplotlib in /usr/local/lib/python3.10/dist-packages (from contextily) (3.7.1)\n",
      "Collecting mercantile (from contextily)\n",
      "  Downloading mercantile-1.2.1-py3-none-any.whl.metadata (4.8 kB)\n",
      "Requirement already satisfied: pillow in /usr/local/lib/python3.10/dist-packages (from contextily) (10.4.0)\n",
      "Collecting rasterio (from contextily)\n",
      "  Downloading rasterio-1.4.1-cp310-cp310-manylinux_2_17_x86_64.manylinux2014_x86_64.whl.metadata (9.1 kB)\n",
      "Requirement already satisfied: requests in /usr/local/lib/python3.10/dist-packages (from contextily) (2.32.3)\n",
      "Requirement already satisfied: joblib in /usr/local/lib/python3.10/dist-packages (from contextily) (1.4.2)\n",
      "Requirement already satisfied: xyzservices in /usr/local/lib/python3.10/dist-packages (from contextily) (2024.9.0)\n",
      "Requirement already satisfied: geographiclib<3,>=1.52 in /usr/local/lib/python3.10/dist-packages (from geopy->contextily) (2.0)\n",
      "Requirement already satisfied: contourpy>=1.0.1 in /usr/local/lib/python3.10/dist-packages (from matplotlib->contextily) (1.3.0)\n",
      "Requirement already satisfied: cycler>=0.10 in /usr/local/lib/python3.10/dist-packages (from matplotlib->contextily) (0.12.1)\n",
      "Requirement already satisfied: fonttools>=4.22.0 in /usr/local/lib/python3.10/dist-packages (from matplotlib->contextily) (4.54.1)\n",
      "Requirement already satisfied: kiwisolver>=1.0.1 in /usr/local/lib/python3.10/dist-packages (from matplotlib->contextily) (1.4.7)\n",
      "Requirement already satisfied: numpy>=1.20 in /usr/local/lib/python3.10/dist-packages (from matplotlib->contextily) (1.26.4)\n",
      "Requirement already satisfied: packaging>=20.0 in /usr/local/lib/python3.10/dist-packages (from matplotlib->contextily) (23.2)\n",
      "Requirement already satisfied: pyparsing>=2.3.1 in /usr/local/lib/python3.10/dist-packages (from matplotlib->contextily) (3.2.0)\n",
      "Requirement already satisfied: python-dateutil>=2.7 in /usr/local/lib/python3.10/dist-packages (from matplotlib->contextily) (2.8.2)\n",
      "Requirement already satisfied: click>=3.0 in /usr/local/lib/python3.10/dist-packages (from mercantile->contextily) (8.1.7)\n",
      "Collecting affine (from rasterio->contextily)\n",
      "  Downloading affine-2.4.0-py3-none-any.whl.metadata (4.0 kB)\n",
      "Requirement already satisfied: attrs in /usr/local/lib/python3.10/dist-packages (from rasterio->contextily) (24.2.0)\n",
      "Requirement already satisfied: certifi in /usr/local/lib/python3.10/dist-packages (from rasterio->contextily) (2024.8.30)\n",
      "Collecting cligj>=0.5 (from rasterio->contextily)\n",
      "  Downloading cligj-0.7.2-py3-none-any.whl.metadata (5.0 kB)\n",
      "Collecting click-plugins (from rasterio->contextily)\n",
      "  Downloading click_plugins-1.1.1-py2.py3-none-any.whl.metadata (6.4 kB)\n",
      "Requirement already satisfied: charset-normalizer<4,>=2 in /usr/local/lib/python3.10/dist-packages (from requests->contextily) (3.4.0)\n",
      "Requirement already satisfied: idna<4,>=2.5 in /usr/local/lib/python3.10/dist-packages (from requests->contextily) (3.10)\n",
      "Requirement already satisfied: urllib3<3,>=1.21.1 in /usr/local/lib/python3.10/dist-packages (from requests->contextily) (2.2.3)\n",
      "Requirement already satisfied: six>=1.5 in /usr/local/lib/python3.10/dist-packages (from python-dateutil>=2.7->matplotlib->contextily) (1.16.0)\n",
      "Downloading contextily-1.6.2-py3-none-any.whl (17 kB)\n",
      "Downloading mercantile-1.2.1-py3-none-any.whl (14 kB)\n",
      "Downloading rasterio-1.4.1-cp310-cp310-manylinux_2_17_x86_64.manylinux2014_x86_64.whl (22.2 MB)\n",
      "\u001b[2K   \u001b[90m━━━━━━━━━━━━━━━━━━━━━━━━━━━━━━━━━━━━━━━━\u001b[0m \u001b[32m22.2/22.2 MB\u001b[0m \u001b[31m26.4 MB/s\u001b[0m eta \u001b[36m0:00:00\u001b[0m\n",
      "\u001b[?25hDownloading cligj-0.7.2-py3-none-any.whl (7.1 kB)\n",
      "Downloading affine-2.4.0-py3-none-any.whl (15 kB)\n",
      "Downloading click_plugins-1.1.1-py2.py3-none-any.whl (7.5 kB)\n",
      "Installing collected packages: mercantile, cligj, click-plugins, affine, rasterio, contextily\n",
      "Successfully installed affine-2.4.0 click-plugins-1.1.1 cligj-0.7.2 contextily-1.6.2 mercantile-1.2.1 rasterio-1.4.1\n"
     ]
    }
   ],
   "source": [
    "!pip install contextily\n"
   ]
  },
  {
   "cell_type": "code",
   "execution_count": null,
   "metadata": {
    "id": "xrXafijhoO4U"
   },
   "outputs": [],
   "source": [
    "# Create a copy of endangered_species before renaming\n",
    "endangered_species_copy = endangered_species.copy()\n",
    "endangered_species_copy.rename(columns={endangered_species_copy.columns[0]: 'speciesID'}, inplace=True)"
   ]
  },
  {
   "cell_type": "code",
   "execution_count": null,
   "metadata": {
    "colab": {
     "base_uri": "https://localhost:8080/"
    },
    "id": "YuAQaMB0obrj",
    "outputId": "5f003f8a-bdbe-4664-b650-c6d7a46c141e"
   },
   "outputs": [
    {
     "name": "stdout",
     "output_type": "stream",
     "text": [
      "Index(['speciesID',\n",
      "       'Thomas, P., Nguyen, T.H., Phan, K.L. & Nguyen, Q.H. 2013. Calocedrus rupestris Aver., Hiep & L.K.Phan. The IUCN Red List of Threatened Species 2013: https://doi.org/10.2305/IUCN.UK.2013-1.RLTS.T133722A512509.en',\n",
      "       'Unnamed: 2', 'Endangered', 'Unnamed: 4', 'Global', 'Present'],\n",
      "      dtype='object')\n",
      "Index(['133722', 'Calocedrus rupestris Aver., Hiep & L.K.Phan', 'PLANTAE',\n",
      "       'TRACHEOPHYTA', 'PINOPSIDA', 'PINALES', 'CUPRESSACEAE', 'Calocedrus',\n",
      "       'rupestris', 'Aver., Hiep & L.K.Phan', 'species', 'Unnamed: 11',\n",
      "       'accepted', '133722.1',\n",
      "       'Thomas, P., Nguyen, T.H., Phan, K.L. & Nguyen, Q.H. 2013. Calocedrus rupestris Aver., Hiep & L.K.Phan. The IUCN Red List of Threatened Species 2013: https://doi.org/10.2305/IUCN.UK.2013-1.RLTS.T133722A512509.en',\n",
      "       'https://apiv3.iucnredlist.org/api/v3/taxonredirect/133722'],\n",
      "      dtype='object')\n",
      "Index(['157938', 'fra', 'Narthécie de Reverchon', 'true'], dtype='object')\n"
     ]
    }
   ],
   "source": [
    "print(endangered_species.columns)\n",
    "print(taxon_df.columns)\n",
    "print(vernacular_df.columns)"
   ]
  },
  {
   "cell_type": "code",
   "execution_count": null,
   "metadata": {
    "id": "1EibjoO4ojeb"
   },
   "outputs": [],
   "source": [
    "# Check and rename if necessary\n",
    "if 'speciesID' not in endangered_species_copy.columns:\n",
    "    endangered_species_copy.rename(columns={endangered_species_copy.columns[0]: 'speciesID'}, inplace=True)\n",
    "\n",
    "if 'speciesID' not in taxon_df.columns:\n",
    "    taxon_df.rename(columns={taxon_df.columns[0]: 'speciesID'}, inplace=True)\n",
    "\n",
    "if 'speciesID' not in vernacular_df.columns:\n",
    "    vernacular_df.rename(columns={vernacular_df.columns[0]: 'speciesID'}, inplace=True)"
   ]
  },
  {
   "cell_type": "code",
   "execution_count": null,
   "metadata": {
    "id": "2LKsK_h4omUL"
   },
   "outputs": [],
   "source": [
    "# Convert speciesID to string type for all DataFrames\n",
    "endangered_species_copy['speciesID'] = endangered_species_copy['speciesID'].astype(str)\n",
    "taxon_df['speciesID'] = taxon_df['speciesID'].astype(str)\n",
    "vernacular_df['speciesID'] = vernacular_df['speciesID'].astype(str)\n",
    "\n",
    "# Now perform the merge\n",
    "merged_data = pd.merge(taxon_df, vernacular_df, on='speciesID', how='inner')\n",
    "final_data = pd.merge(endangered_species_copy, merged_data, on='speciesID', how='left')"
   ]
  },
  {
   "cell_type": "code",
   "execution_count": null,
   "metadata": {
    "id": "DdzXRiOAopxy"
   },
   "outputs": [],
   "source": [
    "import pandas as pd\n",
    "import matplotlib.pyplot as plt\n",
    "import seaborn as sns"
   ]
  },
  {
   "cell_type": "code",
   "execution_count": null,
   "metadata": {
    "id": "n7U_K5-co5q4"
   },
   "outputs": [],
   "source": [
    "# Load data\n",
    "distribution_df = pd.read_csv('distribution.txt', sep='\\t')\n",
    "taxon_df = pd.read_csv('taxon.txt', sep='\\t')\n",
    "vernacular_df = pd.read_csv('vernacularname.txt', sep='\\t')"
   ]
  },
  {
   "cell_type": "code",
   "execution_count": null,
   "metadata": {
    "id": "oW9VdA7rpE0v"
   },
   "outputs": [],
   "source": [
    "# Filter for endangered species\n",
    "endangered_species = distribution_df[distribution_df['Endangered'].isin(['Endangered', 'Vulnerable'])]"
   ]
  },
  {
   "cell_type": "code",
   "execution_count": null,
   "metadata": {
    "colab": {
     "base_uri": "https://localhost:8080/"
    },
    "id": "qb0KPw3wqefn",
    "outputId": "92120cf9-5ee2-4ff2-85d4-24c7078f7654"
   },
   "outputs": [
    {
     "name": "stdout",
     "output_type": "stream",
     "text": [
      "Index(['speciesID', 'Count'], dtype='object')\n",
      "Index(['133722', 'Calocedrus rupestris Aver., Hiep & L.K.Phan', 'PLANTAE',\n",
      "       'TRACHEOPHYTA', 'PINOPSIDA', 'PINALES', 'CUPRESSACEAE', 'Calocedrus',\n",
      "       'rupestris', 'Aver., Hiep & L.K.Phan', 'species', 'Unnamed: 11',\n",
      "       'accepted', '133722.1',\n",
      "       'Thomas, P., Nguyen, T.H., Phan, K.L. & Nguyen, Q.H. 2013. Calocedrus rupestris Aver., Hiep & L.K.Phan. The IUCN Red List of Threatened Species 2013: https://doi.org/10.2305/IUCN.UK.2013-1.RLTS.T133722A512509.en',\n",
      "       'https://apiv3.iucnredlist.org/api/v3/taxonredirect/133722'],\n",
      "      dtype='object')\n",
      "Index(['157938', 'fra', 'Narthécie de Reverchon', 'true'], dtype='object')\n"
     ]
    }
   ],
   "source": [
    "print(endangered_counts.columns)\n",
    "print(taxon_df.columns)\n",
    "print(vernacular_df.columns)"
   ]
  },
  {
   "cell_type": "code",
   "execution_count": null,
   "metadata": {
    "colab": {
     "base_uri": "https://localhost:8080/"
    },
    "id": "TWga3RwTqiC9",
    "outputId": "eb3505d0-2aa5-4cd0-e824-648514f8000f"
   },
   "outputs": [
    {
     "name": "stdout",
     "output_type": "stream",
     "text": [
      "   133722  \\\n",
      "0  157938   \n",
      "1  158019   \n",
      "2  158236   \n",
      "3  158275   \n",
      "4  162229   \n",
      "\n",
      "  Thomas, P., Nguyen, T.H., Phan, K.L. & Nguyen, Q.H. 2013. Calocedrus rupestris Aver., Hiep & L.K.Phan. The IUCN Red List of Threatened Species 2013: https://doi.org/10.2305/IUCN.UK.2013-1.RLTS.T133722A512509.en  \\\n",
      "0  Lansdown, R.V. 2018. Narthecium reverchonii Če...                                                                                                                                                                   \n",
      "1  Beentje, H.J., Gereau, R.E., Hilton-Taylor, C....                                                                                                                                                                   \n",
      "2  Contu, S. & IUCN SSC East African Plants Red L...                                                                                                                                                                   \n",
      "3  IUCN SSC East African Plants Red List Authorit...                                                                                                                                                                   \n",
      "4  Mifsud, S. 2018. Ophrys melitensis (Salkowski)...                                                                                                                                                                   \n",
      "\n",
      "   Unnamed: 2     Endangered  Unnamed: 4  Global  Present  \n",
      "0         NaN  Least Concern         NaN  Global  Present  \n",
      "1         NaN     Endangered         NaN  Global  Present  \n",
      "2         NaN  Least Concern         NaN  Global  Present  \n",
      "3         NaN  Least Concern         NaN  Global  Present  \n",
      "4         NaN  Least Concern         NaN  Global  Present  \n",
      "     133722        Calocedrus rupestris Aver., Hiep & L.K.Phan  PLANTAE  \\\n",
      "0    157938                      Narthecium reverchonii Čelak.  PLANTAE   \n",
      "1    158019                            Asparagus humilis Engl.  PLANTAE   \n",
      "2    158236        Bulbostylis boeckleriana (Schweinf.) Beetle  PLANTAE   \n",
      "3  158236_1  Albigarrdia boeckleriana  (Schweinf.) K.Lye ss...  PLANTAE   \n",
      "4  158236_2  Albigarrdia boeckleriana (Schweinf.) K.Lye ssp...  PLANTAE   \n",
      "\n",
      "   TRACHEOPHYTA   PINOPSIDA       PINALES   CUPRESSACEAE   Calocedrus  \\\n",
      "0  TRACHEOPHYTA  LILIOPSIDA  DIOSCOREALES  NARTHECIACEAE   Narthecium   \n",
      "1  TRACHEOPHYTA  LILIOPSIDA   ASPARAGALES   ASPARAGACEAE    Asparagus   \n",
      "2  TRACHEOPHYTA  LILIOPSIDA        POALES     CYPERACEAE  Bulbostylis   \n",
      "3           NaN         NaN           NaN            NaN          NaN   \n",
      "4           NaN         NaN           NaN            NaN          NaN   \n",
      "\n",
      "      rupestris Aver., Hiep & L.K.Phan  species Unnamed: 11  accepted  \\\n",
      "0   reverchonii                 Čelak.  species         NaN  accepted   \n",
      "1       humilis                  Engl.  species         NaN  accepted   \n",
      "2  boeckleriana     (Schweinf.) Beetle  species         NaN  accepted   \n",
      "3           NaN      (Schweinf.) K.Lye      NaN         NaN   synonym   \n",
      "4           NaN      (Schweinf.) K.Lye      NaN         NaN   synonym   \n",
      "\n",
      "   133722.1  \\\n",
      "0  157938.0   \n",
      "1  158019.0   \n",
      "2  158236.0   \n",
      "3  158236.0   \n",
      "4  158236.0   \n",
      "\n",
      "  Thomas, P., Nguyen, T.H., Phan, K.L. & Nguyen, Q.H. 2013. Calocedrus rupestris Aver., Hiep & L.K.Phan. The IUCN Red List of Threatened Species 2013: https://doi.org/10.2305/IUCN.UK.2013-1.RLTS.T133722A512509.en  \\\n",
      "0  Lansdown, R.V. 2018. Narthecium reverchonii Če...                                                                                                                                                                   \n",
      "1  Beentje, H.J., Gereau, R.E., Hilton-Taylor, C....                                                                                                                                                                   \n",
      "2  Contu, S. & IUCN SSC East African Plants Red L...                                                                                                                                                                   \n",
      "3  Contu, S. & IUCN SSC East African Plants Red L...                                                                                                                                                                   \n",
      "4  Contu, S. & IUCN SSC East African Plants Red L...                                                                                                                                                                   \n",
      "\n",
      "  https://apiv3.iucnredlist.org/api/v3/taxonredirect/133722  \n",
      "0  https://apiv3.iucnredlist.org/api/v3/taxonredi...         \n",
      "1  https://apiv3.iucnredlist.org/api/v3/taxonredi...         \n",
      "2  https://apiv3.iucnredlist.org/api/v3/taxonredi...         \n",
      "3  https://apiv3.iucnredlist.org/api/v3/taxonredi...         \n",
      "4  https://apiv3.iucnredlist.org/api/v3/taxonredi...         \n",
      "   157938  fra  Narthécie de Reverchon   true\n",
      "0  157938  fra  Ossifrage de Reverchon  False\n",
      "1  162229  mlt            Brimba Sewda  False\n",
      "2  162229  eng    Maltse Spider Orchid   True\n",
      "3  163990  fra  Héléocharis des Marais  False\n",
      "4  163990  eng       Common Spike-rush   True\n"
     ]
    }
   ],
   "source": [
    "print(distribution_df.head())\n",
    "print(taxon_df.head())\n",
    "print(vernacular_df.head())"
   ]
  },
  {
   "cell_type": "code",
   "execution_count": null,
   "metadata": {
    "id": "1p8oCi5IqleD"
   },
   "outputs": [],
   "source": [
    "# Rename columns for clarity\n",
    "distribution_df.rename(columns={distribution_df.columns[0]: 'speciesID'}, inplace=True)\n",
    "taxon_df.rename(columns={taxon_df.columns[0]: 'speciesID'}, inplace=True)\n",
    "vernacular_df.rename(columns={vernacular_df.columns[0]: 'speciesID'}, inplace=True)"
   ]
  },
  {
   "cell_type": "code",
   "execution_count": null,
   "metadata": {
    "id": "4pvES5VGqsCl"
   },
   "outputs": [],
   "source": [
    "endangered_counts['speciesID'] = endangered_counts['speciesID'].astype(str)\n",
    "taxon_df['speciesID'] = taxon_df['speciesID'].astype(str)\n",
    "vernacular_df['speciesID'] = vernacular_df['speciesID'].astype(str)"
   ]
  },
  {
   "cell_type": "code",
   "execution_count": null,
   "metadata": {
    "id": "-ROMSLFLqtxD"
   },
   "outputs": [],
   "source": [
    "merged_data = pd.merge(taxon_df, vernacular_df, on='speciesID', how='inner')\n",
    "final_data = pd.merge(endangered_counts, merged_data, on='speciesID', how='left')"
   ]
  },
  {
   "cell_type": "code",
   "execution_count": null,
   "metadata": {
    "id": "63HhlNFPqw5D"
   },
   "outputs": [],
   "source": [
    "# Rename the vernacular name column if it's actually the common name\n",
    "vernacular_df.rename(columns={'Narthécie de Reverchon': 'common_name'}, inplace=True)\n"
   ]
  },
  {
   "cell_type": "code",
   "execution_count": null,
   "metadata": {
    "colab": {
     "base_uri": "https://localhost:8080/"
    },
    "id": "YZXj2zEra0s1",
    "outputId": "f20c1fd6-d858-40bc-f3de-f84b22a5f099"
   },
   "outputs": [
    {
     "name": "stdout",
     "output_type": "stream",
     "text": [
      "Top 10 Endangered Plant and Tree Species in India:\n",
      "1. Pterocarpus santalinus (Pterocarpus santalinus) - Status: Endangered\n",
      "2. Boswellia serrata (Boswellia serrata) - Status: Endangered\n",
      "3. Dalbergia latifolia (Dalbergia latifolia) - Status: Endangered\n",
      "4. Syzygium travancoricum (Syzygium travancoricum) - Status: Endangered\n",
      "5. Hopea odorata (Hopea odorata) - Status: Endangered\n",
      "6. Vateria indica (Vateria indica) - Status: Endangered\n",
      "7. Terminalia elliptica (Terminalia elliptica) - Status: Endangered\n",
      "8. Shorea robusta (Shorea robusta) - Status: Vulnerable\n",
      "9. Magnolia champaca (Magnolia champaca) - Status: Endangered\n",
      "10. Ficus arnottiana (Ficus arnottiana) - Status: Endangered\n"
     ]
    }
   ],
   "source": []
  },
  {
   "cell_type": "code",
   "execution_count": 17,
   "metadata": {},
   "outputs": [
    {
     "name": "stdout",
     "output_type": "stream",
     "text": [
      "Top 10 Endangered Plant and Tree Species in Asia:\n",
      "               Common Name          Scientific Name           Status\n",
      "0     Dipterocarpus alatus     Dipterocarpus alatus       Endangered\n",
      "1    Aquilaria malaccensis    Aquilaria malaccensis       Endangered\n",
      "2            Hopea odorata            Hopea odorata       Vulnerable\n",
      "3  Dendrocalamus giganteus  Dendrocalamus giganteus  Near Threatened\n",
      "4          Gmelina arborea          Gmelina arborea       Vulnerable\n",
      "5      Pterocarpus indicus      Pterocarpus indicus  Near Threatened\n",
      "6           Shorea robusta           Shorea robusta       Vulnerable\n",
      "7         Mangifera indica         Mangifera indica       Vulnerable\n",
      "8             Ficus carica             Ficus carica  Near Threatened\n",
      "9      Terminalia tomenosa      Terminalia tomenosa       Endangered\n",
      "\n",
      "Endangered Species Only:\n",
      "             Common Name        Scientific Name      Status\n",
      "1  Aquilaria malaccensis  Aquilaria malaccensis  Endangered\n",
      "0   Dipterocarpus alatus   Dipterocarpus alatus  Endangered\n",
      "9    Terminalia tomenosa    Terminalia tomenosa  Endangered\n"
     ]
    }
   ],
   "source": [
    "# Import necessary libraries\n",
    "import pandas as pd\n",
    "\n",
    "# Create a list of endangered plant and tree species in Asia\n",
    "data = {\n",
    "    \"Common Name\": [\n",
    "        \"Dipterocarpus alatus\",\n",
    "        \"Aquilaria malaccensis\",\n",
    "        \"Hopea odorata\",\n",
    "        \"Dendrocalamus giganteus\",\n",
    "        \"Gmelina arborea\",\n",
    "        \"Pterocarpus indicus\",\n",
    "        \"Shorea robusta\",\n",
    "        \"Mangifera indica\",\n",
    "        \"Ficus carica\",\n",
    "        \"Terminalia tomenosa\"\n",
    "    ],\n",
    "    \"Scientific Name\": [\n",
    "        \"Dipterocarpus alatus\",\n",
    "        \"Aquilaria malaccensis\",\n",
    "        \"Hopea odorata\",\n",
    "        \"Dendrocalamus giganteus\",\n",
    "        \"Gmelina arborea\",\n",
    "        \"Pterocarpus indicus\",\n",
    "        \"Shorea robusta\",\n",
    "        \"Mangifera indica\",\n",
    "        \"Ficus carica\",\n",
    "        \"Terminalia tomenosa\"\n",
    "    ],\n",
    "    \"Status\": [\n",
    "        \"Endangered\",\n",
    "        \"Endangered\",\n",
    "        \"Vulnerable\",\n",
    "        \"Near Threatened\",\n",
    "        \"Vulnerable\",\n",
    "        \"Near Threatened\",\n",
    "        \"Vulnerable\",\n",
    "        \"Vulnerable\",\n",
    "        \"Near Threatened\",\n",
    "        \"Endangered\"\n",
    "    ]\n",
    "}\n",
    "\n",
    "# Create a DataFrame\n",
    "df = pd.DataFrame(data)\n",
    "\n",
    "# Display the DataFrame\n",
    "print(\"Top 10 Endangered Plant and Tree Species in Asia:\")\n",
    "print(df)\n",
    "\n",
    "# Optional: Filter for only Endangered species and sort them\n",
    "endangered_species = df[df['Status'] == 'Endangered'].sort_values(by='Common Name')\n",
    "\n",
    "# Display the filtered DataFrame\n",
    "print(\"\\nEndangered Species Only:\")\n",
    "print(endangered_species)\n"
   ]
  },
  {
   "cell_type": "markdown",
   "metadata": {},
   "source": []
  }
 ],
 "metadata": {
  "colab": {
   "provenance": []
  },
  "kernelspec": {
   "display_name": "Python 3",
   "name": "python3"
  },
  "language_info": {
   "codemirror_mode": {
    "name": "ipython",
    "version": 3
   },
   "file_extension": ".py",
   "mimetype": "text/x-python",
   "name": "python",
   "nbconvert_exporter": "python",
   "pygments_lexer": "ipython3",
   "version": "3.12.2"
  }
 },
 "nbformat": 4,
 "nbformat_minor": 0
}
